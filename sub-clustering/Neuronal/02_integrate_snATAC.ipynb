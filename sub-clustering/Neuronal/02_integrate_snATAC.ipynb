{
 "cells": [
  {
   "cell_type": "code",
   "execution_count": null,
   "id": "db026b8b-224e-4f25-b027-44beed695c55",
   "metadata": {
    "tags": []
   },
   "outputs": [],
   "source": [
    "suppressMessages(library(ArchR))\n",
    "suppressMessages(library(Seurat))\n",
    "suppressMessages(library(Signac))\n",
    "suppressMessages(library(harmony))\n",
    "suppressMessages(library(dplyr))\n",
    "suppressMessages(library(cowplot))"
   ]
  },
  {
   "cell_type": "code",
   "execution_count": null,
   "id": "7a64824f-f6b3-4ff4-9585-0baf6efb9ba8",
   "metadata": {},
   "outputs": [],
   "source": [
    "set.seed(42)"
   ]
  },
  {
   "cell_type": "code",
   "execution_count": null,
   "id": "8fbb8458-64c3-40f7-89f4-340d5ae74510",
   "metadata": {},
   "outputs": [],
   "source": [
    "proj <- loadArchRProject(\"../data/snATAC\", showLogo = FALSE)"
   ]
  },
  {
   "cell_type": "code",
   "execution_count": null,
   "id": "336e4b96-b35d-4e9a-bcf0-55fc2684bb8d",
   "metadata": {},
   "outputs": [],
   "source": [
    "table(proj@cellColData$Sample)"
   ]
  },
  {
   "cell_type": "code",
   "execution_count": null,
   "id": "09199acf-66be-4560-8851-ed4ea03073df",
   "metadata": {},
   "outputs": [],
   "source": [
    "df_sample_annotation <- read.csv(\"../../../snATAC/metadata/sample_annotation.csv\", header = TRUE)\n",
    "head(df_sample_annotation)\n",
    "\n",
    "sample_to_region <- df_sample_annotation$region_novel\n",
    "sample_to_patient <- df_sample_annotation$patient\n",
    "sample_to_patient_region <- df_sample_annotation$patient_region_id\n",
    "sample_to_patient_group <- df_sample_annotation$patient_group\n",
    "\n",
    "names(sample_to_region) <- df_sample_annotation$sample_id\n",
    "names(sample_to_patient) <- df_sample_annotation$sample_id\n",
    "names(sample_to_patient_region) <- df_sample_annotation$sample_id\n",
    "names(sample_to_patient_group) <- df_sample_annotation$sample_id"
   ]
  },
  {
   "cell_type": "code",
   "execution_count": null,
   "id": "84084bee-1897-4065-80bc-9d623c988cfe",
   "metadata": {},
   "outputs": [],
   "source": [
    "proj@cellColData$region <- stringr::str_replace_all(proj@cellColData$Sample, sample_to_region)\n",
    "proj@cellColData$patient <- stringr::str_replace_all(proj@cellColData$Sample, sample_to_patient)\n",
    "proj@cellColData$patient_region_id <- stringr::str_replace_all(proj@cellColData$Sample, sample_to_patient_region)\n",
    "proj@cellColData$patient_group <- stringr::str_replace_all(proj@cellColData$Sample, sample_to_patient_group)"
   ]
  },
  {
   "cell_type": "code",
   "execution_count": null,
   "id": "fc9c354b-992b-4ab6-8078-2720f2e1d41d",
   "metadata": {},
   "outputs": [],
   "source": [
    "proj <- addIterativeLSI(\n",
    "    ArchRProj = proj,\n",
    "    useMatrix = \"TileMatrix\", \n",
    "    name = \"IterativeLSI\", \n",
    "    iterations = 3, \n",
    "    clusterParams = list( #See Seurat::FindClusters\n",
    "        resolution = c(0.2), \n",
    "        sampleCells = 10000, \n",
    "        n.start = 10\n",
    "    ), \n",
    "    varFeatures = 25000, \n",
    "    dimsToUse = 1:30,\n",
    "    force = TRUE\n",
    ")"
   ]
  },
  {
   "cell_type": "code",
   "execution_count": null,
   "id": "b798ae22-aef2-4a22-b9df-b57095ef9b32",
   "metadata": {},
   "outputs": [],
   "source": [
    "proj <- addUMAP(\n",
    "    ArchRProj = proj, \n",
    "    reducedDims = \"IterativeLSI\", \n",
    "    name = \"UMAP\", \n",
    "    nNeighbors = 30, \n",
    "    minDist = 0.5, \n",
    "    metric = \"cosine\",\n",
    "    verbose = FALSE,\n",
    "    force = TRUE\n",
    ")"
   ]
  },
  {
   "cell_type": "code",
   "execution_count": null,
   "id": "5c36f940-466a-4068-ae61-4b61e99e55e3",
   "metadata": {},
   "outputs": [],
   "source": [
    "p1 <- plotEmbedding(ArchRProj = proj, \n",
    "              colorBy = \"cellColData\", \n",
    "              name = \"patient\", embedding = \"UMAP\",plotAs = \"points\",\n",
    "                   size = 0.5, labelAsFactors = FALSE, rastr = FALSE) +\n",
    "    theme_cowplot()\n",
    "\n",
    "p2 <- plotEmbedding(ArchRProj = proj, \n",
    "              colorBy = \"cellColData\", \n",
    "              name = \"region\", embedding = \"UMAP\",plotAs = \"points\",\n",
    "                   size = 0.5, labelAsFactors = FALSE, rastr = FALSE) +\n",
    "    theme_cowplot()\n",
    "\n",
    "p3 <- plotEmbedding(ArchRProj = proj, \n",
    "              colorBy = \"cellColData\", \n",
    "              name = \"patient_group\", embedding = \"UMAP\",plotAs = \"points\",\n",
    "                   size = 0.5, labelAsFactors = FALSE, rastr = FALSE) +\n",
    "    theme_cowplot()\n",
    "\n",
    "options(repr.plot.width = 20, repr.plot.height = 6)\n",
    "\n",
    "p1 + p2 + p3"
   ]
  },
  {
   "cell_type": "code",
   "execution_count": null,
   "id": "05923160-e2aa-40bf-8439-f0961de3bc10",
   "metadata": {},
   "outputs": [],
   "source": [
    "proj <- addHarmony(\n",
    "    ArchRProj = proj,\n",
    "    reducedDims = \"IterativeLSI\",\n",
    "    name = \"Harmony\",\n",
    "    groupBy = c(\"patient\", \"Sample\", \"region\"),\n",
    "    force = TRUE\n",
    ")\n",
    "\n",
    "proj <- addUMAP(\n",
    "    ArchRProj = proj, \n",
    "    reducedDims = \"Harmony\", \n",
    "    name = \"UMAP_Harmony\", \n",
    "    nNeighbors = 30, \n",
    "    minDist = 0.5, \n",
    "    metric = \"cosine\",\n",
    "    verbose = FALSE,\n",
    "    force = TRUE\n",
    ")"
   ]
  },
  {
   "cell_type": "code",
   "execution_count": null,
   "id": "e5ef1a7c-d382-49bc-a264-05a69a639647",
   "metadata": {},
   "outputs": [],
   "source": [
    "p1 <- plotEmbedding(ArchRProj = proj, \n",
    "              colorBy = \"cellColData\", \n",
    "              name = \"patient\", embedding = \"UMAP_Harmony\",plotAs = \"points\",\n",
    "                   size = 0.5, labelAsFactors = FALSE, rastr = FALSE) +\n",
    "    theme_cowplot()\n",
    "\n",
    "p2 <- plotEmbedding(ArchRProj = proj, \n",
    "              colorBy = \"cellColData\", \n",
    "              name = \"region\", embedding = \"UMAP_Harmony\",plotAs = \"points\",\n",
    "                   size = 0.5, labelAsFactors = FALSE, rastr = FALSE) +\n",
    "    theme_cowplot()\n",
    "\n",
    "p3 <- plotEmbedding(ArchRProj = proj, \n",
    "              colorBy = \"cellColData\", \n",
    "              name = \"patient_group\", embedding = \"UMAP_Harmony\",plotAs = \"points\",\n",
    "                   size = 0.5, labelAsFactors = FALSE, rastr = FALSE) +\n",
    "    theme_cowplot()\n",
    "\n",
    "options(repr.plot.width = 20, repr.plot.height = 6)\n",
    "\n",
    "p1 + p2 + p3"
   ]
  },
  {
   "cell_type": "code",
   "execution_count": null,
   "id": "a175046f-fa10-4aec-bceb-85988b696e70",
   "metadata": {},
   "outputs": [],
   "source": [
    "proj <- addImputeWeights(proj, reducedDims = \"Harmony\")"
   ]
  },
  {
   "cell_type": "code",
   "execution_count": null,
   "id": "b265c6df-79b5-4581-add3-3bee47742281",
   "metadata": {},
   "outputs": [],
   "source": [
    "p1 <- plotEmbedding(ArchRProj = proj,\n",
    "                    colorBy = \"GeneScoreMatrix\",\n",
    "                    name = \"POSTN\",\n",
    "                    embedding = \"UMAP_Harmony\",\n",
    "                    plotAs = \"points\",\n",
    "                   size = 1) +\n",
    "    theme_cowplot() +\n",
    "    xlab(\"UMAP1\") + ylab(\"UMAP2\") +\n",
    "    ggtitle(\"POSTN\") +\n",
    "    theme(legend.title = element_blank())\n",
    "\n",
    "p2 <- plotEmbedding(ArchRProj = proj,\n",
    "                    colorBy = \"GeneScoreMatrix\",\n",
    "                    name = \"NPR3\",\n",
    "                    embedding = \"UMAP_Harmony\",\n",
    "                    plotAs = \"points\",\n",
    "                   size = 1) +\n",
    "    theme_cowplot() +\n",
    "        xlab(\"UMAP1\") + ylab(\"UMAP2\") +\n",
    "    ggtitle(\"NPR3\") +\n",
    "        theme(legend.title = element_blank())\n",
    "\n",
    "p3 <- plotEmbedding(ArchRProj = proj,\n",
    "                    colorBy = \"GeneScoreMatrix\",\n",
    "                    name = \"CDH11\",\n",
    "                    embedding = \"UMAP_Harmony\",\n",
    "                    plotAs = \"points\",\n",
    "                   size = 1) +\n",
    "    theme_cowplot() +\n",
    "        xlab(\"UMAP1\") + ylab(\"UMAP2\") +\n",
    "    ggtitle(\"CDH11\") +\n",
    "        theme(legend.title = element_blank())\n",
    "\n",
    "\n",
    "options(repr.plot.height = 5, repr.plot.width = 15)\n",
    "\n",
    "p1 + p2 + p3"
   ]
  },
  {
   "cell_type": "code",
   "execution_count": null,
   "id": "605bd905-4efd-4066-b061-7f609c941867",
   "metadata": {},
   "outputs": [],
   "source": [
    "## clustering\n",
    "proj <- addClusters(\n",
    "    input = proj,\n",
    "    reducedDims = \"Harmony\",\n",
    "    method = \"Seurat\",\n",
    "    name = \"Clusters\",\n",
    "    resolution = 0.4,\n",
    "    force = TRUE\n",
    ")\n",
    "\n",
    "p1 <- plotEmbedding(ArchRProj = proj, \n",
    "              colorBy = \"cellColData\", \n",
    "              name = \"Clusters\", embedding = \"UMAP_Harmony\",plotAs = \"points\",\n",
    "                   size = 0.5, labelAsFactors = FALSE, rastr = FALSE) +\n",
    "    theme_cowplot()\n",
    "\n",
    "options(repr.plot.height = 6, repr.plot.width = 6)\n",
    "\n",
    "p1"
   ]
  },
  {
   "cell_type": "code",
   "execution_count": null,
   "id": "c07e033e-12a0-49fa-a964-883782406f4b",
   "metadata": {},
   "outputs": [],
   "source": [
    "table(proj@cellColData$Clusters)"
   ]
  },
  {
   "cell_type": "code",
   "execution_count": null,
   "id": "2dba4ded-a476-4b1e-ad35-2ddf872c3ea2",
   "metadata": {},
   "outputs": [],
   "source": [
    "cM <- confusionMatrix(paste0(proj$Clusters), paste0(proj$Sample))\n",
    "cM"
   ]
  },
  {
   "cell_type": "code",
   "execution_count": null,
   "id": "947011da-4e6b-48b0-a34f-152201ab274e",
   "metadata": {},
   "outputs": [],
   "source": [
    "# options(repr.plot.width = 12, repr.plot.height = 3)\n",
    "\n",
    "# library(pheatmap)\n",
    "# cM <- cM / Matrix::rowSums(cM)\n",
    "# p <- pheatmap::pheatmap(\n",
    "#     mat = as.matrix(cM), \n",
    "#     color = paletteContinuous(\"whiteBlue\"), \n",
    "#     border_color = \"black\"\n",
    "# )\n",
    "# p"
   ]
  },
  {
   "cell_type": "code",
   "execution_count": null,
   "id": "08fe9fe2-e0e5-4241-85a0-1b7b75a8ac24",
   "metadata": {},
   "outputs": [],
   "source": [
    "meta.data <- as.data.frame(proj@cellColData)"
   ]
  },
  {
   "cell_type": "code",
   "execution_count": null,
   "id": "16f42b9e-66f4-4f3e-a279-0b34452a68a1",
   "metadata": {},
   "outputs": [],
   "source": [
    "cols <- ArchR::paletteDiscrete(meta.data$Clusters)"
   ]
  },
  {
   "cell_type": "code",
   "execution_count": null,
   "id": "ffe54e67-0b0b-4607-8237-cbaf95c054f1",
   "metadata": {},
   "outputs": [],
   "source": [
    "df_plot <- meta.data %>%\n",
    "    group_by(patient, Clusters) %>%\n",
    "    summarise(counts = n()) %>%\n",
    "    mutate(cell_proportion = counts / sum(counts))\n",
    "\n",
    "p1 <- ggplot(df_plot, aes(patient, cell_proportion, fill=Clusters)) + \n",
    "    geom_bar(stat=\"identity\", position = position_stack(reverse = TRUE)) +\n",
    "    scale_fill_manual(values = cols) +\n",
    "    theme_cowplot() +\n",
    "    xlab(\"\") + ylab(\"\") +\n",
    "    theme(axis.text.x = element_text(angle = 60, hjust = 1))\n",
    "\n",
    "\n",
    "options(repr.plot.width = 10, repr.plot.height = 6)\n",
    "\n",
    "p1"
   ]
  },
  {
   "cell_type": "code",
   "execution_count": null,
   "id": "12aad490-1ef3-4568-bbb3-0184b2a290b7",
   "metadata": {},
   "outputs": [],
   "source": [
    "df_plot <- meta.data %>%\n",
    "    group_by(region, Clusters) %>%\n",
    "    summarise(counts = n()) %>%\n",
    "    mutate(cell_proportion = counts / sum(counts))\n",
    "\n",
    "p1 <- ggplot(df_plot, aes(region, cell_proportion, fill=Clusters)) + \n",
    "    geom_bar(stat=\"identity\", position = position_stack(reverse = TRUE)) +\n",
    "    scale_fill_manual(values = cols) +\n",
    "    theme_cowplot() +\n",
    "    xlab(\"\") + ylab(\"\") +\n",
    "    theme(axis.text.x = element_text(angle = 60, hjust = 1))\n",
    "\n",
    "\n",
    "options(repr.plot.width = 10, repr.plot.height = 6)\n",
    "\n",
    "p1"
   ]
  },
  {
   "cell_type": "code",
   "execution_count": null,
   "id": "448150ae-4fab-4d14-812d-d5f6ce1c1cd0",
   "metadata": {},
   "outputs": [],
   "source": [
    "df_plot <- meta.data %>%\n",
    "    group_by(patient_group, Clusters) %>%\n",
    "    summarise(counts = n()) %>%\n",
    "    mutate(cell_proportion = counts / sum(counts))\n",
    "\n",
    "p1 <- ggplot(df_plot, aes(patient_group, cell_proportion, fill=Clusters)) + \n",
    "    geom_bar(stat=\"identity\", position = position_stack(reverse = TRUE)) +\n",
    "    scale_fill_manual(values = cols) +\n",
    "    theme_cowplot() +\n",
    "    xlab(\"\") + ylab(\"\") +\n",
    "    theme(axis.text.x = element_text(angle = 60, hjust = 1))\n",
    "\n",
    "\n",
    "options(repr.plot.width = 6, repr.plot.height = 6)\n",
    "\n",
    "p1"
   ]
  },
  {
   "cell_type": "code",
   "execution_count": null,
   "id": "b3c07e09-7c45-4771-8a0d-57d4ac48d0a6",
   "metadata": {},
   "outputs": [],
   "source": [
    "saveArchRProject(ArchRProj = proj, \n",
    "                 load = FALSE)"
   ]
  },
  {
   "cell_type": "code",
   "execution_count": null,
   "id": "1fc3ba58-78d2-4078-94bd-2d4505f34c76",
   "metadata": {},
   "outputs": [],
   "source": [
    "sessionInfo()"
   ]
  }
 ],
 "metadata": {
  "kernelspec": {
   "display_name": "R",
   "language": "R",
   "name": "ir"
  },
  "language_info": {
   "codemirror_mode": "r",
   "file_extension": ".r",
   "mimetype": "text/x-r-source",
   "name": "R",
   "pygments_lexer": "r",
   "version": "4.1.1"
  }
 },
 "nbformat": 4,
 "nbformat_minor": 5
}
