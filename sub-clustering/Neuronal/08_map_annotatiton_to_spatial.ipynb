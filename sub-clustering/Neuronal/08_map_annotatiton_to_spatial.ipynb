{
 "cells": [
  {
   "cell_type": "code",
   "execution_count": 1,
   "id": "fc749a1f-7fe8-42ec-805b-21ce1afc7f0f",
   "metadata": {},
   "outputs": [],
   "source": [
    "suppressMessages(library(Seurat))\n",
    "suppressMessages(library(dplyr))\n",
    "suppressMessages(library(cowplot))\n",
    "suppressMessages(library(viridis))\n",
    "suppressMessages(library(ggplot2))\n",
    "options(warn=-1)"
   ]
  },
  {
   "cell_type": "code",
   "execution_count": 2,
   "id": "b938076b-eec8-4b33-b35f-8894ff0a7d6d",
   "metadata": {},
   "outputs": [
    {
     "data": {
      "text/html": [
       "'/data/scATA/SingleCellOpenChromatin/local/VisiumHeartRevision/IntegrativeAnalysis/Neuronal/code'"
      ],
      "text/latex": [
       "'/data/scATA/SingleCellOpenChromatin/local/VisiumHeartRevision/IntegrativeAnalysis/Neuronal/code'"
      ],
      "text/markdown": [
       "'/data/scATA/SingleCellOpenChromatin/local/VisiumHeartRevision/IntegrativeAnalysis/Neuronal/code'"
      ],
      "text/plain": [
       "[1] \"/data/scATA/SingleCellOpenChromatin/local/VisiumHeartRevision/IntegrativeAnalysis/Neuronal/code\""
      ]
     },
     "metadata": {},
     "output_type": "display_data"
    }
   ],
   "source": [
    "set.seed(42)\n",
    "getwd()"
   ]
  },
  {
   "cell_type": "code",
   "execution_count": null,
   "id": "c19e9279-8624-4e92-81fc-062a81c1567f",
   "metadata": {},
   "outputs": [],
   "source": [
    "df_anno <- read.csv(\"../../../visiumSpatial/metadata/sample_annotation.csv\", header = TRUE)\n",
    "\n",
    "patient_region_id <- df_anno$patient_region_id\n",
    "patient_region_id <- stringr::str_replace_all(patient_region_id, \"/\", \"_\")\n",
    "\n",
    "names(patient_region_id) <- df_anno$sample_id"
   ]
  },
  {
   "cell_type": "code",
   "execution_count": null,
   "id": "9b4c8f60-d026-43f3-854e-b568a20e547c",
   "metadata": {},
   "outputs": [],
   "source": [
    "if(!dir.exists(\"../data/visium/cell_states_mapping_with_annotation\")){\n",
    "    dir.create(\"../data/visium/cell_states_mapping_with_annotation\", recursive = TRUE)\n",
    "}"
   ]
  },
  {
   "cell_type": "code",
   "execution_count": null,
   "id": "375e2fb3-7927-4dbb-a046-ad07d097009c",
   "metadata": {},
   "outputs": [],
   "source": [
    "for(sample in names(patient_region_id)){\n",
    "        message(glue::glue(\"processing sample: {sample}\"))\n",
    "\n",
    "        # load visium object\n",
    "        obj <- readRDS(glue::glue(\"../../../visiumSpatial/from_rico/processed_visium/objects/{sample}.rds\"))\n",
    "    \n",
    "        DefaultAssay(obj) <- \"c2l_props\"\n",
    "        p1 <- SpatialFeaturePlot(obj, features = \"Neuronal\", max.cutoff = \"q99\") + ggtitle(\"c2l: proportion\") +\n",
    "    scale_fill_viridis()\n",
    "\n",
    "         DefaultAssay(obj) <- \"SCT\"\n",
    "        \n",
    "        all.markers <- readRDS(\"../data/coembed/MarkerGenesAfterAnnotation/annotation.rds\")\n",
    "        \n",
    "        # only keep genes that are found in spatial dta\n",
    "        gene.use <- intersect(rownames(obj), rownames(all.markers))\n",
    "        all.markers <- all.markers[gene.use, ]\n",
    "        \n",
    "        # get the marker genes for each cluster\n",
    "        all.markers <- all.markers %>%\n",
    "            subset(p_val_adj < 0.05) %>%\n",
    "            subset(., select = c(\"cluster\", \"gene\"))\n",
    "        \n",
    "        # convert dataframe to list for module score calculation\n",
    "        all.markers <- split(all.markers, all.markers$cluster)\n",
    "        \n",
    "    for(cl in names(all.markers)){\n",
    "           all.markers[[cl]] <- all.markers[[cl]]$gene \n",
    "        }\n",
    "    \n",
    "        # get module score\n",
    "        obj <- AddModuleScore(obj, features = all.markers, assay = \"SCT\")\n",
    "        \n",
    "        df_module_score <- as.data.frame(obj@meta.data)%>%\n",
    "             select(., contains(\"Cluster\"))\n",
    "        colnames(df_module_score) <- names(all.markers)\n",
    "    \n",
    "        #celltypes <- c(\"CD8\", \"CD4\", \"NK\", \"NK_T\")\n",
    "    celltypes <- names(all.markers)\n",
    "    print(celltypes)\n",
    "    \n",
    "        # plot module score after normalization by proportion from cell2location\n",
    "        c2l_score_prop <- obj@assays$c2l_props@data[\"Neuronal\", ]\n",
    "        df_module_score_prop <- df_module_score * c2l_score_prop\n",
    "        df_module_score_prop[df_module_score_prop <0] <- 0\n",
    "        obj <- AddMetaData(obj, metadata = df_module_score_prop)\n",
    "        plotlist <- SpatialFeaturePlot(obj, features = celltypes, combine = FALSE,\n",
    "                                       max.cutoff = \"q99\")\n",
    "        plotlist <- lapply(1:length(plotlist), function(i){\n",
    "           p <- plotlist[[i]] + theme(legend.title = element_blank()) +\n",
    "            scale_fill_viridis() + ggtitle(celltypes[[i]])\n",
    "           return(p)\n",
    "        })\n",
    "    \n",
    "        ps1 <- patchwork::wrap_plots(plotlist, nrow = 2) +\n",
    "            patchwork::plot_annotation(title = \"Normalized by proportion\")\n",
    "        \n",
    "        \n",
    "        patient_region <- patient_region_id[sample]\n",
    "\n",
    "        pdf(glue::glue(\"../data/visium/cell_states_mapping_with_annotation/{sample}_{patient_region}.pdf\"), width = 20, height = 10)\n",
    "        print(p1+ps1)\n",
    "        dev.off()\n",
    "    }"
   ]
  },
  {
   "cell_type": "code",
   "execution_count": null,
   "id": "812584a1-18c2-4306-a645-0f32c80c7997",
   "metadata": {},
   "outputs": [],
   "source": []
  }
 ],
 "metadata": {
  "kernelspec": {
   "display_name": "R",
   "language": "R",
   "name": "ir"
  },
  "language_info": {
   "codemirror_mode": "r",
   "file_extension": ".r",
   "mimetype": "text/x-r-source",
   "name": "R",
   "pygments_lexer": "r",
   "version": "4.1.1"
  }
 },
 "nbformat": 4,
 "nbformat_minor": 5
}
