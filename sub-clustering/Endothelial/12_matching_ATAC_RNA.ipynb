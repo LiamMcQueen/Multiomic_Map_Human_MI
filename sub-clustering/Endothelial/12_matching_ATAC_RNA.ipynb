{
 "cells": [
  {
   "cell_type": "code",
   "execution_count": 1,
   "id": "5917d297-0dd9-492d-bb68-f4252220375e",
   "metadata": {},
   "outputs": [
    {
     "name": "stderr",
     "output_type": "stream",
     "text": [
      "Loading required package: survival\n",
      "\n",
      "The optmatch package has an academic license. Enter relaxinfo() for more information.\n",
      "\n"
     ]
    }
   ],
   "source": [
    "suppressMessages(library(ArchR))\n",
    "suppressMessages(library(Seurat))\n",
    "suppressMessages(library(Signac))\n",
    "suppressMessages(library(harmony))\n",
    "suppressMessages(library(dplyr))\n",
    "suppressMessages(library(cowplot))\n",
    "suppressMessages(library(harmony))\n",
    "suppressMessages(library(Nebulosa))\n",
    "suppressMessages(library(ggpubr))\n",
    "suppressMessages(library(Ipaper))\n",
    "suppressMessages(library(phateR))\n",
    "source(\"../../utils/stimATAC_analyses_code/R/utils.R\")\n",
    "source(\"../../utils/stimATAC_analyses_code/R/optMatching_functions.R\")"
   ]
  },
  {
   "cell_type": "code",
   "execution_count": 2,
   "id": "7592945f-0fd8-484e-a641-bfd3947b8abe",
   "metadata": {},
   "outputs": [
    {
     "data": {
      "text/html": [
       "'/data/scATA/SingleCellOpenChromatin/local/VisiumHeartRevision/IntegrativeAnalysis/Endothelial/code'"
      ],
      "text/latex": [
       "'/data/scATA/SingleCellOpenChromatin/local/VisiumHeartRevision/IntegrativeAnalysis/Endothelial/code'"
      ],
      "text/markdown": [
       "'/data/scATA/SingleCellOpenChromatin/local/VisiumHeartRevision/IntegrativeAnalysis/Endothelial/code'"
      ],
      "text/plain": [
       "[1] \"/data/scATA/SingleCellOpenChromatin/local/VisiumHeartRevision/IntegrativeAnalysis/Endothelial/code\""
      ]
     },
     "metadata": {},
     "output_type": "display_data"
    }
   ],
   "source": [
    "set.seed(42)\n",
    "getwd()"
   ]
  },
  {
   "cell_type": "code",
   "execution_count": 3,
   "id": "60842b5d-d2e6-4d76-a0e8-c28ea771a2ab",
   "metadata": {},
   "outputs": [
    {
     "data": {
      "text/plain": [
       "An object of class Seurat \n",
       "135323 features across 29036 samples within 3 assays \n",
       "Active assay: RNA (28933 features, 2000 variable features)\n",
       " 2 other assays present: peaks, GeneActivity\n",
       " 5 dimensional reductions calculated: pca, umap, harmony, umap_harmony, umap_harmony_v2"
      ]
     },
     "metadata": {},
     "output_type": "display_data"
    }
   ],
   "source": [
    "coembed <- readRDS(\"../data/coembed/coembed.annotation.Rds\")\n",
    "coembed"
   ]
  },
  {
   "cell_type": "code",
   "execution_count": null,
   "id": "a6430830-0895-428e-a94b-b2995e1e1de1",
   "metadata": {},
   "outputs": [],
   "source": [
    "obj.atac <- subset(coembed, tech == \"ATAC\")\n",
    "obj.rna <- subset(coembed, tech == \"RNA\")\n",
    "obj.atac\n",
    "obj.rna"
   ]
  },
  {
   "cell_type": "code",
   "execution_count": null,
   "id": "11484684-85c6-4397-8f6f-ab98266d2371",
   "metadata": {},
   "outputs": [],
   "source": [
    "head(coembed@reductions$umap_harmony_v2@cell.embeddings)"
   ]
  },
  {
   "cell_type": "code",
   "execution_count": null,
   "id": "59ed5ea0-4baa-4e52-ba40-98ee56902ac3",
   "metadata": {},
   "outputs": [],
   "source": [
    "cca_umap_df <- as.data.frame(coembed@reductions$umap_harmony_v2@cell.embeddings)\n",
    "colnames(cca_umap_df) <- c(\"UMAP1\", \"UMAP2\")\n",
    "head(cca_umap_df)"
   ]
  },
  {
   "cell_type": "code",
   "execution_count": null,
   "id": "38a86a3a-61c6-4250-85f6-79e155217bfb",
   "metadata": {},
   "outputs": [],
   "source": [
    "options(repr.plot.height = 6, repr.plot.width = 6)\n",
    "\n",
    "df_cell_pairing <- cell_pairing(ATACpcs = obj.atac@reductions$harmony@cell.embeddings,\n",
    "                               RNApcs = obj.rna@reductions$harmony@cell.embeddings,\n",
    "                               cca_umap_df = cca_umap_df,\n",
    "                               nCores = 80)"
   ]
  },
  {
   "cell_type": "code",
   "execution_count": null,
   "id": "1fe95643-e4af-43ab-86d3-ba94e3871652",
   "metadata": {},
   "outputs": [],
   "source": [
    "sel_cells <- c(df_cell_pairing$ATAC, df_cell_pairing$RNA)\n",
    "coembed.sub <- coembed[, sel_cells]\n",
    "\n",
    "options(repr.plot.height = 5, repr.plot.width = 10)\n",
    "DimPlot(coembed.sub, reduction = \"umap_harmony_v2\", group.by = \"annotation\", split.by = \"tech\")"
   ]
  },
  {
   "cell_type": "code",
   "execution_count": null,
   "id": "5bfa3602-56a7-4d49-83e3-9f5295e87908",
   "metadata": {},
   "outputs": [],
   "source": [
    "df_cell_pairing$cell_name <- paste0(\"cell-\", 1:nrow(df_cell_pairing))"
   ]
  },
  {
   "cell_type": "code",
   "execution_count": null,
   "id": "7c5a59a8-970f-4a69-9784-ac6aa18212c9",
   "metadata": {},
   "outputs": [],
   "source": [
    "saveRDS(df_cell_pairing, \"../data/coembed/ATAC_RNA_matching.rds\")"
   ]
  },
  {
   "cell_type": "code",
   "execution_count": null,
   "id": "0f688aa4-7bd1-45c1-94d3-401561018769",
   "metadata": {},
   "outputs": [],
   "source": [
    "sessionInfo()"
   ]
  }
 ],
 "metadata": {
  "kernelspec": {
   "display_name": "R",
   "language": "R",
   "name": "ir"
  },
  "language_info": {
   "codemirror_mode": "r",
   "file_extension": ".r",
   "mimetype": "text/x-r-source",
   "name": "R",
   "pygments_lexer": "r",
   "version": "4.1.1"
  }
 },
 "nbformat": 4,
 "nbformat_minor": 5
}
