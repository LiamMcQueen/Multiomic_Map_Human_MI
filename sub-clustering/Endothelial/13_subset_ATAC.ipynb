{
 "cells": [
  {
   "cell_type": "code",
   "execution_count": 1,
   "id": "5917d297-0dd9-492d-bb68-f4252220375e",
   "metadata": {},
   "outputs": [],
   "source": [
    "suppressMessages(library(ArchR))\n",
    "suppressMessages(library(Seurat))\n",
    "suppressMessages(library(Signac))\n",
    "suppressMessages(library(harmony))\n",
    "suppressMessages(library(dplyr))\n",
    "suppressMessages(library(cowplot))\n",
    "suppressMessages(library(harmony))\n",
    "suppressMessages(library(Nebulosa))\n",
    "suppressMessages(library(ggpubr))\n",
    "suppressMessages(library(Ipaper))\n",
    "suppressMessages(library(phateR))\n",
    "suppressMessages(library(parallel))"
   ]
  },
  {
   "cell_type": "code",
   "execution_count": 2,
   "id": "7592945f-0fd8-484e-a641-bfd3947b8abe",
   "metadata": {},
   "outputs": [
    {
     "data": {
      "text/html": [
       "'/data/scATA/SingleCellOpenChromatin/local/VisiumHeartRevision/IntegrativeAnalysis/Endothelial/code'"
      ],
      "text/latex": [
       "'/data/scATA/SingleCellOpenChromatin/local/VisiumHeartRevision/IntegrativeAnalysis/Endothelial/code'"
      ],
      "text/markdown": [
       "'/data/scATA/SingleCellOpenChromatin/local/VisiumHeartRevision/IntegrativeAnalysis/Endothelial/code'"
      ],
      "text/plain": [
       "[1] \"/data/scATA/SingleCellOpenChromatin/local/VisiumHeartRevision/IntegrativeAnalysis/Endothelial/code\""
      ]
     },
     "metadata": {},
     "output_type": "display_data"
    },
    {
     "name": "stderr",
     "output_type": "stream",
     "text": [
      "Setting default number of Parallel threads to 126.\n",
      "\n",
      "Setting default genome to Hg38.\n",
      "\n"
     ]
    }
   ],
   "source": [
    "set.seed(42)\n",
    "getwd()\n",
    "\n",
    "addArchRThreads(threads = parallel::detectCores() - 2)\n",
    "addArchRGenome(\"hg38\")"
   ]
  },
  {
   "cell_type": "code",
   "execution_count": 3,
   "id": "29ba36a0-1f75-4d58-be2e-8420806d8329",
   "metadata": {},
   "outputs": [
    {
     "data": {
      "text/html": [
       "<table class=\"dataframe\">\n",
       "<caption>A data.frame: 6 × 3</caption>\n",
       "<thead>\n",
       "\t<tr><th></th><th scope=col>ATAC</th><th scope=col>RNA</th><th scope=col>cell_name</th></tr>\n",
       "\t<tr><th></th><th scope=col>&lt;chr&gt;</th><th scope=col>&lt;chr&gt;</th><th scope=col>&lt;chr&gt;</th></tr>\n",
       "</thead>\n",
       "<tbody>\n",
       "\t<tr><th scope=row>1</th><td>CK171#ATGTTTCTCACTTACT-1</td><td>ATTTCTGAGCGTTAGG-1_1_1_1_1_1_1_1_1_1_1_1_1    </td><td>cell-1</td></tr>\n",
       "\t<tr><th scope=row>2</th><td>CK171#CCAGAATAGTCGCCTG-1</td><td>CAATACGGTCAAATCC-1_2_1_1_1_1                  </td><td>cell-2</td></tr>\n",
       "\t<tr><th scope=row>3</th><td>CK171#CCCAGAGCATTTAGGC-1</td><td>AGGAAATTCTCCGATC-1_2_1_1_1_1_1                </td><td>cell-3</td></tr>\n",
       "\t<tr><th scope=row>4</th><td>CK171#ACTTCCGGTTAGTAGA-1</td><td>ACCACAATCTCGCGTT-1_2_1_1_1_1_1_1_1_1_1_1_1_1_1</td><td>cell-4</td></tr>\n",
       "\t<tr><th scope=row>5</th><td>CK171#TACATGGGTTCAGTTG-1</td><td>TGATCAGTCCGCTTAC-1_2                          </td><td>cell-5</td></tr>\n",
       "\t<tr><th scope=row>6</th><td>CK171#CTTCTAATCTATCCTA-1</td><td>CTCTGGTTCCACGTAA-1_2_1_1                      </td><td>cell-6</td></tr>\n",
       "</tbody>\n",
       "</table>\n"
      ],
      "text/latex": [
       "A data.frame: 6 × 3\n",
       "\\begin{tabular}{r|lll}\n",
       "  & ATAC & RNA & cell\\_name\\\\\n",
       "  & <chr> & <chr> & <chr>\\\\\n",
       "\\hline\n",
       "\t1 & CK171\\#ATGTTTCTCACTTACT-1 & ATTTCTGAGCGTTAGG-1\\_1\\_1\\_1\\_1\\_1\\_1\\_1\\_1\\_1\\_1\\_1\\_1     & cell-1\\\\\n",
       "\t2 & CK171\\#CCAGAATAGTCGCCTG-1 & CAATACGGTCAAATCC-1\\_2\\_1\\_1\\_1\\_1                   & cell-2\\\\\n",
       "\t3 & CK171\\#CCCAGAGCATTTAGGC-1 & AGGAAATTCTCCGATC-1\\_2\\_1\\_1\\_1\\_1\\_1                 & cell-3\\\\\n",
       "\t4 & CK171\\#ACTTCCGGTTAGTAGA-1 & ACCACAATCTCGCGTT-1\\_2\\_1\\_1\\_1\\_1\\_1\\_1\\_1\\_1\\_1\\_1\\_1\\_1\\_1 & cell-4\\\\\n",
       "\t5 & CK171\\#TACATGGGTTCAGTTG-1 & TGATCAGTCCGCTTAC-1\\_2                           & cell-5\\\\\n",
       "\t6 & CK171\\#CTTCTAATCTATCCTA-1 & CTCTGGTTCCACGTAA-1\\_2\\_1\\_1                       & cell-6\\\\\n",
       "\\end{tabular}\n"
      ],
      "text/markdown": [
       "\n",
       "A data.frame: 6 × 3\n",
       "\n",
       "| <!--/--> | ATAC &lt;chr&gt; | RNA &lt;chr&gt; | cell_name &lt;chr&gt; |\n",
       "|---|---|---|---|\n",
       "| 1 | CK171#ATGTTTCTCACTTACT-1 | ATTTCTGAGCGTTAGG-1_1_1_1_1_1_1_1_1_1_1_1_1     | cell-1 |\n",
       "| 2 | CK171#CCAGAATAGTCGCCTG-1 | CAATACGGTCAAATCC-1_2_1_1_1_1                   | cell-2 |\n",
       "| 3 | CK171#CCCAGAGCATTTAGGC-1 | AGGAAATTCTCCGATC-1_2_1_1_1_1_1                 | cell-3 |\n",
       "| 4 | CK171#ACTTCCGGTTAGTAGA-1 | ACCACAATCTCGCGTT-1_2_1_1_1_1_1_1_1_1_1_1_1_1_1 | cell-4 |\n",
       "| 5 | CK171#TACATGGGTTCAGTTG-1 | TGATCAGTCCGCTTAC-1_2                           | cell-5 |\n",
       "| 6 | CK171#CTTCTAATCTATCCTA-1 | CTCTGGTTCCACGTAA-1_2_1_1                       | cell-6 |\n",
       "\n"
      ],
      "text/plain": [
       "  ATAC                     RNA                                           \n",
       "1 CK171#ATGTTTCTCACTTACT-1 ATTTCTGAGCGTTAGG-1_1_1_1_1_1_1_1_1_1_1_1_1    \n",
       "2 CK171#CCAGAATAGTCGCCTG-1 CAATACGGTCAAATCC-1_2_1_1_1_1                  \n",
       "3 CK171#CCCAGAGCATTTAGGC-1 AGGAAATTCTCCGATC-1_2_1_1_1_1_1                \n",
       "4 CK171#ACTTCCGGTTAGTAGA-1 ACCACAATCTCGCGTT-1_2_1_1_1_1_1_1_1_1_1_1_1_1_1\n",
       "5 CK171#TACATGGGTTCAGTTG-1 TGATCAGTCCGCTTAC-1_2                          \n",
       "6 CK171#CTTCTAATCTATCCTA-1 CTCTGGTTCCACGTAA-1_2_1_1                      \n",
       "  cell_name\n",
       "1 cell-1   \n",
       "2 cell-2   \n",
       "3 cell-3   \n",
       "4 cell-4   \n",
       "5 cell-5   \n",
       "6 cell-6   "
      ]
     },
     "metadata": {},
     "output_type": "display_data"
    }
   ],
   "source": [
    "df.matching <- readRDS(\"../data/coembed/ATAC_RNA_matching.rds\")\n",
    "head(df.matching)"
   ]
  },
  {
   "cell_type": "code",
   "execution_count": 4,
   "id": "60842b5d-d2e6-4d76-a0e8-c28ea771a2ab",
   "metadata": {},
   "outputs": [],
   "source": [
    "coembed <- readRDS(\"../data/coembed/coembed.annotation.Rds\")"
   ]
  },
  {
   "cell_type": "code",
   "execution_count": 8,
   "id": "16c8b401-e3b6-4141-880b-9196980689c5",
   "metadata": {},
   "outputs": [
    {
     "data": {
      "text/plain": [
       "An object of class Seurat \n",
       "135323 features across 4937 samples within 3 assays \n",
       "Active assay: RNA (28933 features, 2000 variable features)\n",
       " 2 other assays present: peaks, GeneActivity\n",
       " 5 dimensional reductions calculated: pca, umap, harmony, umap_harmony, umap_harmony_v2"
      ]
     },
     "metadata": {},
     "output_type": "display_data"
    }
   ],
   "source": [
    "obj.atac <- coembed[, df.matching$ATAC]\n",
    "obj.atac"
   ]
  },
  {
   "cell_type": "code",
   "execution_count": null,
   "id": "079d39bb-7623-4efa-957d-c196947dd61c",
   "metadata": {},
   "outputs": [],
   "source": [
    "## subset atac project\n",
    "proj <- loadArchRProject(\"../data/snATAC\", showLogo = FALSE)\n",
    "\n",
    "proj <- subsetArchRProject(proj, \n",
    "                           cells = colnames(obj.atac),\n",
    "                           outputDirectory = \"../data/snATAC_subset\",\n",
    "                           force = TRUE)"
   ]
  },
  {
   "cell_type": "code",
   "execution_count": null,
   "id": "d707f236-5fb0-4be9-85ee-c8bf5f708dc8",
   "metadata": {},
   "outputs": [],
   "source": [
    "proj"
   ]
  },
  {
   "cell_type": "code",
   "execution_count": null,
   "id": "3ba57839-ef2f-488a-8880-51fa65215dc5",
   "metadata": {},
   "outputs": [],
   "source": [
    "## add cell states information\n",
    "meta.data <- as.data.frame(obj.atac@meta.data)\n",
    "meta.data <- meta.data[proj@cellColData@rownames, ]\n",
    "annotation <- meta.data$annotation\n",
    "\n",
    "proj <- addCellColData(proj, \n",
    "                       data = as.character(annotation), \n",
    "                        cells = rownames(meta.data),\n",
    "                       name = \"annotation\", \n",
    "                       force = TRUE)"
   ]
  },
  {
   "cell_type": "code",
   "execution_count": null,
   "id": "7b35330b-cddf-49a7-bc09-bc4c1a1ddbf0",
   "metadata": {},
   "outputs": [],
   "source": [
    "## add harmony\n",
    "embedding <- obj.atac@reductions$harmony@cell.embeddings\n",
    "embedding <- embedding[rownames(proj), ]\n",
    "\n",
    "proj@reducedDims[[\"Harmony\"]] <- SimpleList(matDR = as.data.frame(embedding),\n",
    "                                      params = NULL,\n",
    "                                           date = Sys.time(),\n",
    "    scaleDims = NA, #Do not scale dims after\n",
    "    corToDepth = NA)"
   ]
  },
  {
   "cell_type": "code",
   "execution_count": null,
   "id": "c9d48c42-650f-49ae-87a7-317297ddb245",
   "metadata": {},
   "outputs": [],
   "source": [
    "## add umap\n",
    "embedding <- obj.atac@reductions$umap_harmony_v2@cell.embeddings\n",
    "embedding <- embedding[rownames(proj), ]\n",
    "colnames(embedding) <- c(\"Harmony#UMAP_Dimension_1\",\n",
    "                         \"Harmony#UMAP_Dimension_2\")\n",
    "\n",
    "proj@embeddings[[\"umap\"]] <- SimpleList(df = as.data.frame(embedding),\n",
    "                                      params = NULL)"
   ]
  },
  {
   "cell_type": "code",
   "execution_count": null,
   "id": "3e2ae4e0-dc25-4ec8-bfbf-3ac98a9f542b",
   "metadata": {},
   "outputs": [],
   "source": [
    "## peak calling for each annotated cell state\n",
    "pathToMacs2 <- findMacs2()\n",
    "\n",
    "proj <- addGroupCoverages(ArchRProj = proj, groupBy = \"annotation\", force = TRUE)\n",
    "\n",
    "proj <- addReproduciblePeakSet(\n",
    "    ArchRProj = proj, \n",
    "    groupBy = \"annotation\", \n",
    "    pathToMacs2 = pathToMacs2\n",
    ")\n",
    "\n",
    "proj <- addPeakMatrix(proj, binarize = TRUE, force = TRUE)"
   ]
  },
  {
   "cell_type": "code",
   "execution_count": null,
   "id": "896a8d1d-d46e-40b5-89e5-3558197f57af",
   "metadata": {},
   "outputs": [],
   "source": [
    "## add chromVAR\n",
    "proj <- addMotifAnnotations(ArchRProj = proj, motifSet = \"JASPAR2020\", name = \"Motif\",\n",
    "                           force = TRUE)\n",
    "\n",
    "proj <- addBgdPeaks(proj, force = TRUE)\n",
    "\n",
    "proj <- addDeviationsMatrix(\n",
    "  ArchRProj = proj, \n",
    "  peakAnnotation = \"Motif\",\n",
    "  force = TRUE,\n",
    "    binarize = TRUE\n",
    ")"
   ]
  },
  {
   "cell_type": "code",
   "execution_count": null,
   "id": "1dc2bbdf-57b8-45a1-8db5-8a3ebdbaff67",
   "metadata": {},
   "outputs": [],
   "source": [
    "## add gene expression\n",
    "df.matching.sub <- df.matching %>%\n",
    "    dplyr::filter(ATAC %in% colnames(obj.atac))\n",
    "\n",
    "obj.rna <- subset(coembed[, df.matching.sub$RNA])\n",
    "\n",
    "obj.rna\n",
    "\n",
    "geneMatrix <- getMatrixFromProject(ArchRProj = proj,\n",
    "                                   useMatrix = \"GeneScoreMatrix\")\n",
    "\n",
    "gex.mat <- as.matrix(obj.rna@assays$RNA@counts)\n",
    "colnames(gex.mat) <- df.matching.sub$ATAC\n",
    "\n",
    "rowRanges <- rowData(geneMatrix)\n",
    "sel_genes <- intersect(rownames(gex.mat), rowRanges$name)\n",
    "\n",
    "length(sel_genes)\n",
    "\n",
    "gex.mat <- gex.mat[sel_genes, ]\n",
    "rownames(rowRanges) <- rowRanges$name\n",
    "rowRanges <- rowRanges[sel_genes, ]\n",
    "\n",
    "rowRanges <- GRanges(rowRanges$seqnames,\n",
    "                     IRanges(start = as.numeric(rowRanges$start),\n",
    "                             end = as.numeric(rowRanges$start) + 1))\n",
    "\n",
    "seRNA <- SummarizedExperiment(assays = SimpleList(counts = gex.mat),\n",
    "                              rowRanges = rowRanges)\n",
    "\n",
    "proj <- addGeneExpressionMatrix(proj,\n",
    "                                seRNA = seRNA,\n",
    "                                force = TRUE)"
   ]
  },
  {
   "cell_type": "code",
   "execution_count": null,
   "id": "7c5a59a8-970f-4a69-9784-ac6aa18212c9",
   "metadata": {},
   "outputs": [],
   "source": [
    "saveRDS(obj.atac, file = \"../data/snATAC_subset/snATAC.Rds\")\n",
    "\n",
    "saveArchRProject(ArchRProj = proj, \n",
    "                 load = FALSE)"
   ]
  },
  {
   "cell_type": "code",
   "execution_count": null,
   "id": "0f688aa4-7bd1-45c1-94d3-401561018769",
   "metadata": {},
   "outputs": [],
   "source": [
    "sessionInfo()"
   ]
  }
 ],
 "metadata": {
  "kernelspec": {
   "display_name": "R",
   "language": "R",
   "name": "ir"
  },
  "language_info": {
   "codemirror_mode": "r",
   "file_extension": ".r",
   "mimetype": "text/x-r-source",
   "name": "R",
   "pygments_lexer": "r",
   "version": "4.1.1"
  }
 },
 "nbformat": 4,
 "nbformat_minor": 5
}
