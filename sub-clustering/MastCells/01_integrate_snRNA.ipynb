{
 "cells": [
  {
   "cell_type": "code",
   "execution_count": null,
   "id": "54dbdc5a-2ad8-4e5e-96f8-1713b527a057",
   "metadata": {},
   "outputs": [],
   "source": [
    "suppressMessages(library(ArchR))\n",
    "suppressMessages(library(Seurat))\n",
    "suppressMessages(library(Signac))\n",
    "suppressMessages(library(harmony))\n",
    "suppressMessages(library(dplyr))\n",
    "suppressMessages(library(cowplot))"
   ]
  },
  {
   "cell_type": "code",
   "execution_count": 2,
   "id": "fd7d9caf-7d07-40d7-a398-60b2b0e81e37",
   "metadata": {},
   "outputs": [],
   "source": [
    "obj.rna <- readRDS(\"../../../snRNA/from_rico/integrated_snrnaseq/integrated_rnasamples_ann.rds\")"
   ]
  },
  {
   "cell_type": "code",
   "execution_count": 3,
   "id": "f51b82b6-29c3-4a65-bd16-53ca42c24efe",
   "metadata": {},
   "outputs": [
    {
     "data": {
      "text/plain": [
       "An object of class Seurat \n",
       "29126 features across 191795 samples within 1 assay \n",
       "Active assay: RNA (29126 features, 0 variable features)\n",
       " 3 dimensional reductions calculated: pca, harmony, umap_harmony"
      ]
     },
     "metadata": {},
     "output_type": "display_data"
    }
   ],
   "source": [
    "obj.rna"
   ]
  },
  {
   "cell_type": "code",
   "execution_count": 4,
   "id": "b13fc8b1-0407-4886-9311-60833950e5f3",
   "metadata": {},
   "outputs": [
    {
     "data": {
      "text/html": [
       "<style>\n",
       ".list-inline {list-style: none; margin:0; padding: 0}\n",
       ".list-inline>li {display: inline-block}\n",
       ".list-inline>li:not(:last-child)::after {content: \"\\00b7\"; padding: 0 .5ex}\n",
       "</style>\n",
       "<ol class=list-inline><li>'Fib'</li><li>'CM'</li><li>'Endo'</li><li>'Myeloid'</li><li>'Neuronal'</li><li>'PC'</li><li>'Mast'</li><li>'Lymphoid'</li><li>'prolif'</li><li>'vSMCs'</li><li>'Adipo'</li></ol>\n"
      ],
      "text/latex": [
       "\\begin{enumerate*}\n",
       "\\item 'Fib'\n",
       "\\item 'CM'\n",
       "\\item 'Endo'\n",
       "\\item 'Myeloid'\n",
       "\\item 'Neuronal'\n",
       "\\item 'PC'\n",
       "\\item 'Mast'\n",
       "\\item 'Lymphoid'\n",
       "\\item 'prolif'\n",
       "\\item 'vSMCs'\n",
       "\\item 'Adipo'\n",
       "\\end{enumerate*}\n"
      ],
      "text/markdown": [
       "1. 'Fib'\n",
       "2. 'CM'\n",
       "3. 'Endo'\n",
       "4. 'Myeloid'\n",
       "5. 'Neuronal'\n",
       "6. 'PC'\n",
       "7. 'Mast'\n",
       "8. 'Lymphoid'\n",
       "9. 'prolif'\n",
       "10. 'vSMCs'\n",
       "11. 'Adipo'\n",
       "\n",
       "\n"
      ],
      "text/plain": [
       " [1] \"Fib\"      \"CM\"       \"Endo\"     \"Myeloid\"  \"Neuronal\" \"PC\"      \n",
       " [7] \"Mast\"     \"Lymphoid\" \"prolif\"   \"vSMCs\"    \"Adipo\"   "
      ]
     },
     "metadata": {},
     "output_type": "display_data"
    }
   ],
   "source": [
    "unique(obj.rna$cell_type)"
   ]
  },
  {
   "cell_type": "code",
   "execution_count": 5,
   "id": "c7ffcbbf-7c12-45a8-a6ee-4590ed611ed6",
   "metadata": {},
   "outputs": [],
   "source": [
    "## subset all vSMCs cells\n",
    "obj.rna <- subset(obj.rna, cell_type == \"Mast\")"
   ]
  },
  {
   "cell_type": "code",
   "execution_count": 6,
   "id": "a436b649-2822-420d-a26f-4bb2c6fb225f",
   "metadata": {},
   "outputs": [
    {
     "data": {
      "text/plain": [
       "An object of class Seurat \n",
       "29126 features across 719 samples within 1 assay \n",
       "Active assay: RNA (29126 features, 0 variable features)\n",
       " 3 dimensional reductions calculated: pca, harmony, umap_harmony"
      ]
     },
     "metadata": {},
     "output_type": "display_data"
    }
   ],
   "source": [
    "obj.rna"
   ]
  },
  {
   "cell_type": "code",
   "execution_count": 7,
   "id": "c752f836-0d53-4d50-b988-6b8a05e29880",
   "metadata": {},
   "outputs": [
    {
     "data": {
      "text/html": [
       "<table class=\"dataframe\">\n",
       "<caption>A data.frame: 6 × 12</caption>\n",
       "<thead>\n",
       "\t<tr><th></th><th scope=col>orig.ident</th><th scope=col>nCount_RNA</th><th scope=col>nFeature_RNA</th><th scope=col>percent.mt</th><th scope=col>doublet_score</th><th scope=col>doublet</th><th scope=col>dissociation_s1</th><th scope=col>opt_clust</th><th scope=col>patient</th><th scope=col>batch</th><th scope=col>opt_clust_integrated</th><th scope=col>cell_type</th></tr>\n",
       "\t<tr><th></th><th scope=col>&lt;chr&gt;</th><th scope=col>&lt;dbl&gt;</th><th scope=col>&lt;int&gt;</th><th scope=col>&lt;dbl&gt;</th><th scope=col>&lt;dbl&gt;</th><th scope=col>&lt;chr&gt;</th><th scope=col>&lt;dbl&gt;</th><th scope=col>&lt;chr&gt;</th><th scope=col>&lt;chr&gt;</th><th scope=col>&lt;chr&gt;</th><th scope=col>&lt;chr&gt;</th><th scope=col>&lt;chr&gt;</th></tr>\n",
       "</thead>\n",
       "<tbody>\n",
       "\t<tr><th scope=row>AAAGGATTCGTTCAGA-1_1_1_1_1_1_1_1_1_1_1_1_1_1_1</th><td>CK158</td><td>2404</td><td>1663</td><td>0.12479201</td><td>0.0341406241</td><td>singlet</td><td>0.13439442</td><td>7 </td><td>P1</td><td>A</td><td>25</td><td>Mast</td></tr>\n",
       "\t<tr><th scope=row>AAGTCGTTCTTACCGC-1_1_1_1_1_1_1_1_1_1_1_1_1_1_1</th><td>CK158</td><td>1110</td><td> 844</td><td>0.09009009</td><td>0.0001993882</td><td>singlet</td><td>0.14536462</td><td>19</td><td>P1</td><td>A</td><td>25</td><td>Mast</td></tr>\n",
       "\t<tr><th scope=row>ACCACAAGTTCCGCAG-1_1_1_1_1_1_1_1_1_1_1_1_1_1_1</th><td>CK158</td><td>1723</td><td>1205</td><td>0.23215322</td><td>0.0294415131</td><td>singlet</td><td>0.09167438</td><td>19</td><td>P1</td><td>A</td><td>25</td><td>Mast</td></tr>\n",
       "\t<tr><th scope=row>ACCCTTGCAAATGATG-1_1_1_1_1_1_1_1_1_1_1_1_1_1_1</th><td>CK158</td><td>2149</td><td>1421</td><td>0.18613309</td><td>0.0003221695</td><td>singlet</td><td>0.06889990</td><td>19</td><td>P1</td><td>A</td><td>25</td><td>Mast</td></tr>\n",
       "\t<tr><th scope=row>ACTATCTCATCCTGTC-1_1_1_1_1_1_1_1_1_1_1_1_1_1_1</th><td>CK158</td><td>1338</td><td> 994</td><td>0.07473842</td><td>0.0001510231</td><td>singlet</td><td>0.12239567</td><td>19</td><td>P1</td><td>A</td><td>25</td><td>Mast</td></tr>\n",
       "\t<tr><th scope=row>ACTGTGAAGAGGTGCT-1_1_1_1_1_1_1_1_1_1_1_1_1_1_1</th><td>CK158</td><td>1788</td><td>1322</td><td>0.16778523</td><td>0.0007243955</td><td>singlet</td><td>0.09527012</td><td>7 </td><td>P1</td><td>A</td><td>25</td><td>Mast</td></tr>\n",
       "</tbody>\n",
       "</table>\n"
      ],
      "text/latex": [
       "A data.frame: 6 × 12\n",
       "\\begin{tabular}{r|llllllllllll}\n",
       "  & orig.ident & nCount\\_RNA & nFeature\\_RNA & percent.mt & doublet\\_score & doublet & dissociation\\_s1 & opt\\_clust & patient & batch & opt\\_clust\\_integrated & cell\\_type\\\\\n",
       "  & <chr> & <dbl> & <int> & <dbl> & <dbl> & <chr> & <dbl> & <chr> & <chr> & <chr> & <chr> & <chr>\\\\\n",
       "\\hline\n",
       "\tAAAGGATTCGTTCAGA-1\\_1\\_1\\_1\\_1\\_1\\_1\\_1\\_1\\_1\\_1\\_1\\_1\\_1\\_1 & CK158 & 2404 & 1663 & 0.12479201 & 0.0341406241 & singlet & 0.13439442 & 7  & P1 & A & 25 & Mast\\\\\n",
       "\tAAGTCGTTCTTACCGC-1\\_1\\_1\\_1\\_1\\_1\\_1\\_1\\_1\\_1\\_1\\_1\\_1\\_1\\_1 & CK158 & 1110 &  844 & 0.09009009 & 0.0001993882 & singlet & 0.14536462 & 19 & P1 & A & 25 & Mast\\\\\n",
       "\tACCACAAGTTCCGCAG-1\\_1\\_1\\_1\\_1\\_1\\_1\\_1\\_1\\_1\\_1\\_1\\_1\\_1\\_1 & CK158 & 1723 & 1205 & 0.23215322 & 0.0294415131 & singlet & 0.09167438 & 19 & P1 & A & 25 & Mast\\\\\n",
       "\tACCCTTGCAAATGATG-1\\_1\\_1\\_1\\_1\\_1\\_1\\_1\\_1\\_1\\_1\\_1\\_1\\_1\\_1 & CK158 & 2149 & 1421 & 0.18613309 & 0.0003221695 & singlet & 0.06889990 & 19 & P1 & A & 25 & Mast\\\\\n",
       "\tACTATCTCATCCTGTC-1\\_1\\_1\\_1\\_1\\_1\\_1\\_1\\_1\\_1\\_1\\_1\\_1\\_1\\_1 & CK158 & 1338 &  994 & 0.07473842 & 0.0001510231 & singlet & 0.12239567 & 19 & P1 & A & 25 & Mast\\\\\n",
       "\tACTGTGAAGAGGTGCT-1\\_1\\_1\\_1\\_1\\_1\\_1\\_1\\_1\\_1\\_1\\_1\\_1\\_1\\_1 & CK158 & 1788 & 1322 & 0.16778523 & 0.0007243955 & singlet & 0.09527012 & 7  & P1 & A & 25 & Mast\\\\\n",
       "\\end{tabular}\n"
      ],
      "text/markdown": [
       "\n",
       "A data.frame: 6 × 12\n",
       "\n",
       "| <!--/--> | orig.ident &lt;chr&gt; | nCount_RNA &lt;dbl&gt; | nFeature_RNA &lt;int&gt; | percent.mt &lt;dbl&gt; | doublet_score &lt;dbl&gt; | doublet &lt;chr&gt; | dissociation_s1 &lt;dbl&gt; | opt_clust &lt;chr&gt; | patient &lt;chr&gt; | batch &lt;chr&gt; | opt_clust_integrated &lt;chr&gt; | cell_type &lt;chr&gt; |\n",
       "|---|---|---|---|---|---|---|---|---|---|---|---|---|\n",
       "| AAAGGATTCGTTCAGA-1_1_1_1_1_1_1_1_1_1_1_1_1_1_1 | CK158 | 2404 | 1663 | 0.12479201 | 0.0341406241 | singlet | 0.13439442 | 7  | P1 | A | 25 | Mast |\n",
       "| AAGTCGTTCTTACCGC-1_1_1_1_1_1_1_1_1_1_1_1_1_1_1 | CK158 | 1110 |  844 | 0.09009009 | 0.0001993882 | singlet | 0.14536462 | 19 | P1 | A | 25 | Mast |\n",
       "| ACCACAAGTTCCGCAG-1_1_1_1_1_1_1_1_1_1_1_1_1_1_1 | CK158 | 1723 | 1205 | 0.23215322 | 0.0294415131 | singlet | 0.09167438 | 19 | P1 | A | 25 | Mast |\n",
       "| ACCCTTGCAAATGATG-1_1_1_1_1_1_1_1_1_1_1_1_1_1_1 | CK158 | 2149 | 1421 | 0.18613309 | 0.0003221695 | singlet | 0.06889990 | 19 | P1 | A | 25 | Mast |\n",
       "| ACTATCTCATCCTGTC-1_1_1_1_1_1_1_1_1_1_1_1_1_1_1 | CK158 | 1338 |  994 | 0.07473842 | 0.0001510231 | singlet | 0.12239567 | 19 | P1 | A | 25 | Mast |\n",
       "| ACTGTGAAGAGGTGCT-1_1_1_1_1_1_1_1_1_1_1_1_1_1_1 | CK158 | 1788 | 1322 | 0.16778523 | 0.0007243955 | singlet | 0.09527012 | 7  | P1 | A | 25 | Mast |\n",
       "\n"
      ],
      "text/plain": [
       "                                               orig.ident nCount_RNA\n",
       "AAAGGATTCGTTCAGA-1_1_1_1_1_1_1_1_1_1_1_1_1_1_1 CK158      2404      \n",
       "AAGTCGTTCTTACCGC-1_1_1_1_1_1_1_1_1_1_1_1_1_1_1 CK158      1110      \n",
       "ACCACAAGTTCCGCAG-1_1_1_1_1_1_1_1_1_1_1_1_1_1_1 CK158      1723      \n",
       "ACCCTTGCAAATGATG-1_1_1_1_1_1_1_1_1_1_1_1_1_1_1 CK158      2149      \n",
       "ACTATCTCATCCTGTC-1_1_1_1_1_1_1_1_1_1_1_1_1_1_1 CK158      1338      \n",
       "ACTGTGAAGAGGTGCT-1_1_1_1_1_1_1_1_1_1_1_1_1_1_1 CK158      1788      \n",
       "                                               nFeature_RNA percent.mt\n",
       "AAAGGATTCGTTCAGA-1_1_1_1_1_1_1_1_1_1_1_1_1_1_1 1663         0.12479201\n",
       "AAGTCGTTCTTACCGC-1_1_1_1_1_1_1_1_1_1_1_1_1_1_1  844         0.09009009\n",
       "ACCACAAGTTCCGCAG-1_1_1_1_1_1_1_1_1_1_1_1_1_1_1 1205         0.23215322\n",
       "ACCCTTGCAAATGATG-1_1_1_1_1_1_1_1_1_1_1_1_1_1_1 1421         0.18613309\n",
       "ACTATCTCATCCTGTC-1_1_1_1_1_1_1_1_1_1_1_1_1_1_1  994         0.07473842\n",
       "ACTGTGAAGAGGTGCT-1_1_1_1_1_1_1_1_1_1_1_1_1_1_1 1322         0.16778523\n",
       "                                               doublet_score doublet\n",
       "AAAGGATTCGTTCAGA-1_1_1_1_1_1_1_1_1_1_1_1_1_1_1 0.0341406241  singlet\n",
       "AAGTCGTTCTTACCGC-1_1_1_1_1_1_1_1_1_1_1_1_1_1_1 0.0001993882  singlet\n",
       "ACCACAAGTTCCGCAG-1_1_1_1_1_1_1_1_1_1_1_1_1_1_1 0.0294415131  singlet\n",
       "ACCCTTGCAAATGATG-1_1_1_1_1_1_1_1_1_1_1_1_1_1_1 0.0003221695  singlet\n",
       "ACTATCTCATCCTGTC-1_1_1_1_1_1_1_1_1_1_1_1_1_1_1 0.0001510231  singlet\n",
       "ACTGTGAAGAGGTGCT-1_1_1_1_1_1_1_1_1_1_1_1_1_1_1 0.0007243955  singlet\n",
       "                                               dissociation_s1 opt_clust\n",
       "AAAGGATTCGTTCAGA-1_1_1_1_1_1_1_1_1_1_1_1_1_1_1 0.13439442      7        \n",
       "AAGTCGTTCTTACCGC-1_1_1_1_1_1_1_1_1_1_1_1_1_1_1 0.14536462      19       \n",
       "ACCACAAGTTCCGCAG-1_1_1_1_1_1_1_1_1_1_1_1_1_1_1 0.09167438      19       \n",
       "ACCCTTGCAAATGATG-1_1_1_1_1_1_1_1_1_1_1_1_1_1_1 0.06889990      19       \n",
       "ACTATCTCATCCTGTC-1_1_1_1_1_1_1_1_1_1_1_1_1_1_1 0.12239567      19       \n",
       "ACTGTGAAGAGGTGCT-1_1_1_1_1_1_1_1_1_1_1_1_1_1_1 0.09527012      7        \n",
       "                                               patient batch\n",
       "AAAGGATTCGTTCAGA-1_1_1_1_1_1_1_1_1_1_1_1_1_1_1 P1      A    \n",
       "AAGTCGTTCTTACCGC-1_1_1_1_1_1_1_1_1_1_1_1_1_1_1 P1      A    \n",
       "ACCACAAGTTCCGCAG-1_1_1_1_1_1_1_1_1_1_1_1_1_1_1 P1      A    \n",
       "ACCCTTGCAAATGATG-1_1_1_1_1_1_1_1_1_1_1_1_1_1_1 P1      A    \n",
       "ACTATCTCATCCTGTC-1_1_1_1_1_1_1_1_1_1_1_1_1_1_1 P1      A    \n",
       "ACTGTGAAGAGGTGCT-1_1_1_1_1_1_1_1_1_1_1_1_1_1_1 P1      A    \n",
       "                                               opt_clust_integrated cell_type\n",
       "AAAGGATTCGTTCAGA-1_1_1_1_1_1_1_1_1_1_1_1_1_1_1 25                   Mast     \n",
       "AAGTCGTTCTTACCGC-1_1_1_1_1_1_1_1_1_1_1_1_1_1_1 25                   Mast     \n",
       "ACCACAAGTTCCGCAG-1_1_1_1_1_1_1_1_1_1_1_1_1_1_1 25                   Mast     \n",
       "ACCCTTGCAAATGATG-1_1_1_1_1_1_1_1_1_1_1_1_1_1_1 25                   Mast     \n",
       "ACTATCTCATCCTGTC-1_1_1_1_1_1_1_1_1_1_1_1_1_1_1 25                   Mast     \n",
       "ACTGTGAAGAGGTGCT-1_1_1_1_1_1_1_1_1_1_1_1_1_1_1 25                   Mast     "
      ]
     },
     "metadata": {},
     "output_type": "display_data"
    }
   ],
   "source": [
    "head(obj.rna@meta.data)"
   ]
  },
  {
   "cell_type": "code",
   "execution_count": 8,
   "id": "f5c28782-4e0a-4fd3-a3ea-195c44dec213",
   "metadata": {},
   "outputs": [
    {
     "data": {
      "text/html": [
       "<table class=\"dataframe\">\n",
       "<caption>A data.frame: 6 × 5</caption>\n",
       "<thead>\n",
       "\t<tr><th></th><th scope=col>sample_id</th><th scope=col>region_novel</th><th scope=col>patient</th><th scope=col>patient_region_id</th><th scope=col>patient_group</th></tr>\n",
       "\t<tr><th></th><th scope=col>&lt;chr&gt;</th><th scope=col>&lt;chr&gt;</th><th scope=col>&lt;chr&gt;</th><th scope=col>&lt;chr&gt;</th><th scope=col>&lt;chr&gt;</th></tr>\n",
       "</thead>\n",
       "<tbody>\n",
       "\t<tr><th scope=row>1</th><td>CK158</td><td>control</td><td>P1</td><td>control_P1</td><td>group_1</td></tr>\n",
       "\t<tr><th scope=row>2</th><td>CK162</td><td>FZ/GT  </td><td>P4</td><td>FZ/GT_P4  </td><td>group_3</td></tr>\n",
       "\t<tr><th scope=row>3</th><td>CK165</td><td>IZ/BZ  </td><td>P2</td><td>IZ/BZ_P2  </td><td>group_2</td></tr>\n",
       "\t<tr><th scope=row>4</th><td>CK163</td><td>RZ/BZ  </td><td>P2</td><td>RZ/BZ_P2  </td><td>group_1</td></tr>\n",
       "\t<tr><th scope=row>5</th><td>CK161</td><td>IZ     </td><td>P3</td><td>IZ_P3     </td><td>group_2</td></tr>\n",
       "\t<tr><th scope=row>6</th><td>CK160</td><td>RZ/BZ  </td><td>P3</td><td>RZ/BZ_P3  </td><td>group_1</td></tr>\n",
       "</tbody>\n",
       "</table>\n"
      ],
      "text/latex": [
       "A data.frame: 6 × 5\n",
       "\\begin{tabular}{r|lllll}\n",
       "  & sample\\_id & region\\_novel & patient & patient\\_region\\_id & patient\\_group\\\\\n",
       "  & <chr> & <chr> & <chr> & <chr> & <chr>\\\\\n",
       "\\hline\n",
       "\t1 & CK158 & control & P1 & control\\_P1 & group\\_1\\\\\n",
       "\t2 & CK162 & FZ/GT   & P4 & FZ/GT\\_P4   & group\\_3\\\\\n",
       "\t3 & CK165 & IZ/BZ   & P2 & IZ/BZ\\_P2   & group\\_2\\\\\n",
       "\t4 & CK163 & RZ/BZ   & P2 & RZ/BZ\\_P2   & group\\_1\\\\\n",
       "\t5 & CK161 & IZ      & P3 & IZ\\_P3      & group\\_2\\\\\n",
       "\t6 & CK160 & RZ/BZ   & P3 & RZ/BZ\\_P3   & group\\_1\\\\\n",
       "\\end{tabular}\n"
      ],
      "text/markdown": [
       "\n",
       "A data.frame: 6 × 5\n",
       "\n",
       "| <!--/--> | sample_id &lt;chr&gt; | region_novel &lt;chr&gt; | patient &lt;chr&gt; | patient_region_id &lt;chr&gt; | patient_group &lt;chr&gt; |\n",
       "|---|---|---|---|---|---|\n",
       "| 1 | CK158 | control | P1 | control_P1 | group_1 |\n",
       "| 2 | CK162 | FZ/GT   | P4 | FZ/GT_P4   | group_3 |\n",
       "| 3 | CK165 | IZ/BZ   | P2 | IZ/BZ_P2   | group_2 |\n",
       "| 4 | CK163 | RZ/BZ   | P2 | RZ/BZ_P2   | group_1 |\n",
       "| 5 | CK161 | IZ      | P3 | IZ_P3      | group_2 |\n",
       "| 6 | CK160 | RZ/BZ   | P3 | RZ/BZ_P3   | group_1 |\n",
       "\n"
      ],
      "text/plain": [
       "  sample_id region_novel patient patient_region_id patient_group\n",
       "1 CK158     control      P1      control_P1        group_1      \n",
       "2 CK162     FZ/GT        P4      FZ/GT_P4          group_3      \n",
       "3 CK165     IZ/BZ        P2      IZ/BZ_P2          group_2      \n",
       "4 CK163     RZ/BZ        P2      RZ/BZ_P2          group_1      \n",
       "5 CK161     IZ           P3      IZ_P3             group_2      \n",
       "6 CK160     RZ/BZ        P3      RZ/BZ_P3          group_1      "
      ]
     },
     "metadata": {},
     "output_type": "display_data"
    }
   ],
   "source": [
    "## add annotation for samples\n",
    "df_sample_annotation <- read.csv(\"../../../snRNA/metadata/sample_annotation.csv\", header = TRUE)\n",
    "head(df_sample_annotation)\n",
    "\n",
    "sample_to_region <- df_sample_annotation$region_novel\n",
    "sample_to_patient <- df_sample_annotation$patient\n",
    "sample_to_patient_region <- df_sample_annotation$patient_region_id\n",
    "sample_to_patient_group <- df_sample_annotation$patient_group\n",
    "\n",
    "names(sample_to_region) <- df_sample_annotation$sample_id\n",
    "names(sample_to_patient) <- df_sample_annotation$sample_id\n",
    "names(sample_to_patient_region) <- df_sample_annotation$sample_id\n",
    "names(sample_to_patient_group) <- df_sample_annotation$sample_id"
   ]
  },
  {
   "cell_type": "code",
   "execution_count": 9,
   "id": "203b0199-0db4-4daa-b9cc-3024ad6ac372",
   "metadata": {},
   "outputs": [],
   "source": [
    "obj.rna@meta.data$region <- stringr::str_replace_all(obj.rna@meta.data$orig.ident, sample_to_region)\n",
    "obj.rna@meta.data$patient <- stringr::str_replace_all(obj.rna@meta.data$orig.ident, sample_to_patient)\n",
    "obj.rna@meta.data$patient_region_id <- stringr::str_replace_all(obj.rna@meta.data$orig.ident, sample_to_patient_region)\n",
    "obj.rna@meta.data$patient_group <- stringr::str_replace_all(obj.rna@meta.data$orig.ident, sample_to_patient_group)"
   ]
  },
  {
   "cell_type": "code",
   "execution_count": 10,
   "id": "7e5f4842-8e8f-45bd-9812-ab6e0e58ef45",
   "metadata": {},
   "outputs": [
    {
     "data": {
      "text/html": [
       "<table class=\"dataframe\">\n",
       "<caption>A tibble: 25 × 2</caption>\n",
       "<thead>\n",
       "\t<tr><th scope=col>orig.ident</th><th scope=col>count</th></tr>\n",
       "\t<tr><th scope=col>&lt;chr&gt;</th><th scope=col>&lt;int&gt;</th></tr>\n",
       "</thead>\n",
       "<tbody>\n",
       "\t<tr><td>CK368</td><td>139</td></tr>\n",
       "\t<tr><td>CK365</td><td> 58</td></tr>\n",
       "\t<tr><td>CK358</td><td> 56</td></tr>\n",
       "\t<tr><td>CK357</td><td> 49</td></tr>\n",
       "\t<tr><td>CK370</td><td> 49</td></tr>\n",
       "\t<tr><td>CK367</td><td> 48</td></tr>\n",
       "\t<tr><td>CK364</td><td> 37</td></tr>\n",
       "\t<tr><td>CK158</td><td> 34</td></tr>\n",
       "\t<tr><td>CK164</td><td> 30</td></tr>\n",
       "\t<tr><td>CK362</td><td> 30</td></tr>\n",
       "\t<tr><td>CK360</td><td> 29</td></tr>\n",
       "\t<tr><td>CK371</td><td> 27</td></tr>\n",
       "\t<tr><td>CK356</td><td> 23</td></tr>\n",
       "\t<tr><td>CK359</td><td> 16</td></tr>\n",
       "\t<tr><td>CK373</td><td> 15</td></tr>\n",
       "\t<tr><td>CK163</td><td> 13</td></tr>\n",
       "\t<tr><td>CK160</td><td> 11</td></tr>\n",
       "\t<tr><td>CK372</td><td> 11</td></tr>\n",
       "\t<tr><td>CK374</td><td> 11</td></tr>\n",
       "\t<tr><td>CK366</td><td> 10</td></tr>\n",
       "\t<tr><td>CK361</td><td>  8</td></tr>\n",
       "\t<tr><td>CK159</td><td>  6</td></tr>\n",
       "\t<tr><td>CK375</td><td>  6</td></tr>\n",
       "\t<tr><td>CK376</td><td>  2</td></tr>\n",
       "\t<tr><td>CK363</td><td>  1</td></tr>\n",
       "</tbody>\n",
       "</table>\n"
      ],
      "text/latex": [
       "A tibble: 25 × 2\n",
       "\\begin{tabular}{ll}\n",
       " orig.ident & count\\\\\n",
       " <chr> & <int>\\\\\n",
       "\\hline\n",
       "\t CK368 & 139\\\\\n",
       "\t CK365 &  58\\\\\n",
       "\t CK358 &  56\\\\\n",
       "\t CK357 &  49\\\\\n",
       "\t CK370 &  49\\\\\n",
       "\t CK367 &  48\\\\\n",
       "\t CK364 &  37\\\\\n",
       "\t CK158 &  34\\\\\n",
       "\t CK164 &  30\\\\\n",
       "\t CK362 &  30\\\\\n",
       "\t CK360 &  29\\\\\n",
       "\t CK371 &  27\\\\\n",
       "\t CK356 &  23\\\\\n",
       "\t CK359 &  16\\\\\n",
       "\t CK373 &  15\\\\\n",
       "\t CK163 &  13\\\\\n",
       "\t CK160 &  11\\\\\n",
       "\t CK372 &  11\\\\\n",
       "\t CK374 &  11\\\\\n",
       "\t CK366 &  10\\\\\n",
       "\t CK361 &   8\\\\\n",
       "\t CK159 &   6\\\\\n",
       "\t CK375 &   6\\\\\n",
       "\t CK376 &   2\\\\\n",
       "\t CK363 &   1\\\\\n",
       "\\end{tabular}\n"
      ],
      "text/markdown": [
       "\n",
       "A tibble: 25 × 2\n",
       "\n",
       "| orig.ident &lt;chr&gt; | count &lt;int&gt; |\n",
       "|---|---|\n",
       "| CK368 | 139 |\n",
       "| CK365 |  58 |\n",
       "| CK358 |  56 |\n",
       "| CK357 |  49 |\n",
       "| CK370 |  49 |\n",
       "| CK367 |  48 |\n",
       "| CK364 |  37 |\n",
       "| CK158 |  34 |\n",
       "| CK164 |  30 |\n",
       "| CK362 |  30 |\n",
       "| CK360 |  29 |\n",
       "| CK371 |  27 |\n",
       "| CK356 |  23 |\n",
       "| CK359 |  16 |\n",
       "| CK373 |  15 |\n",
       "| CK163 |  13 |\n",
       "| CK160 |  11 |\n",
       "| CK372 |  11 |\n",
       "| CK374 |  11 |\n",
       "| CK366 |  10 |\n",
       "| CK361 |   8 |\n",
       "| CK159 |   6 |\n",
       "| CK375 |   6 |\n",
       "| CK376 |   2 |\n",
       "| CK363 |   1 |\n",
       "\n"
      ],
      "text/plain": [
       "   orig.ident count\n",
       "1  CK368      139  \n",
       "2  CK365       58  \n",
       "3  CK358       56  \n",
       "4  CK357       49  \n",
       "5  CK370       49  \n",
       "6  CK367       48  \n",
       "7  CK364       37  \n",
       "8  CK158       34  \n",
       "9  CK164       30  \n",
       "10 CK362       30  \n",
       "11 CK360       29  \n",
       "12 CK371       27  \n",
       "13 CK356       23  \n",
       "14 CK359       16  \n",
       "15 CK373       15  \n",
       "16 CK163       13  \n",
       "17 CK160       11  \n",
       "18 CK372       11  \n",
       "19 CK374       11  \n",
       "20 CK366       10  \n",
       "21 CK361        8  \n",
       "22 CK159        6  \n",
       "23 CK375        6  \n",
       "24 CK376        2  \n",
       "25 CK363        1  "
      ]
     },
     "metadata": {},
     "output_type": "display_data"
    }
   ],
   "source": [
    "df_cell_count <- as.data.frame(obj.rna@meta.data) %>%\n",
    "    group_by(orig.ident) %>%\n",
    "    summarise(count = n()) %>%\n",
    "    arrange(desc(count))\n",
    "\n",
    "df_cell_count"
   ]
  },
  {
   "cell_type": "code",
   "execution_count": 11,
   "id": "e1703103-142e-4abc-99fa-2ab65f47badf",
   "metadata": {},
   "outputs": [
    {
     "data": {
      "text/plain": [
       "An object of class Seurat \n",
       "29126 features across 686 samples within 1 assay \n",
       "Active assay: RNA (29126 features, 0 variable features)\n",
       " 3 dimensional reductions calculated: pca, harmony, umap_harmony"
      ]
     },
     "metadata": {},
     "output_type": "display_data"
    }
   ],
   "source": [
    "# we remove samples with less than 50 cells\n",
    "df_cell_count <- subset(df_cell_count, count > 10)\n",
    "obj.rna.sub <- subset(obj.rna, orig.ident %in% df_cell_count$orig.ident)\n",
    "\n",
    "obj.rna.sub"
   ]
  },
  {
   "cell_type": "code",
   "execution_count": null,
   "id": "f75f0608-ea8f-40ae-b8f9-a96efea656a8",
   "metadata": {},
   "outputs": [],
   "source": [
    "obj.rna.sub <- obj.rna.sub %>% \n",
    "        NormalizeData() %>%\n",
    "        FindVariableFeatures() %>%\n",
    "        ScaleData() %>%\n",
    "        RunPCA(verbose = FALSE) %>%\n",
    "        RunUMAP(dims = 1:30)"
   ]
  },
  {
   "cell_type": "code",
   "execution_count": null,
   "id": "40faa7b6-ce93-49f2-8953-b3d385672adb",
   "metadata": {},
   "outputs": [],
   "source": [
    "options(repr.plot.height = 5, repr.plot.width = 20)\n",
    "\n",
    "p1 <- DimPlot(obj.rna.sub, reduction = \"umap\", group.by = \"orig.ident\")\n",
    "p2 <- DimPlot(obj.rna.sub, reduction = \"umap\", group.by = \"patient\")\n",
    "p3 <- DimPlot(obj.rna.sub, reduction = \"umap\", group.by = \"region\")\n",
    "p4 <- DimPlot(obj.rna.sub, reduction = \"umap\", group.by = \"patient_group\", label = TRUE)\n",
    "\n",
    "patchwork::wrap_plots(list(p1, p2, p3, p4), nrow = 1)"
   ]
  },
  {
   "cell_type": "code",
   "execution_count": null,
   "id": "08569d93-0b4f-4040-ba39-45ec0bffcf3c",
   "metadata": {},
   "outputs": [],
   "source": [
    "obj.rna.sub <- RunHarmony(obj.rna.sub, \n",
    "                      group.by.vars = c(\"orig.ident\", \"patient\", \"region\"),\n",
    "                     reduction = \"pca\", \n",
    "                      max.iter.harmony = 30, \n",
    "                      dims.use = 1:30,\n",
    "                     project.dim = FALSE,\n",
    "                     plot_convergence = TRUE)\n",
    "\n",
    "\n",
    "obj.rna.sub <- RunUMAP(obj.rna.sub, \n",
    "               dims = 1:30, \n",
    "               reduction = 'harmony',\n",
    "               reduction.name = \"umap_harmony\",\n",
    "               reduction.ke = 'umapharmony_',\n",
    "              verbose = FALSE,\n",
    "                   min.dist = 0.4)"
   ]
  },
  {
   "cell_type": "code",
   "execution_count": null,
   "id": "2e6a6642-34e2-4066-89d3-7365e463a616",
   "metadata": {},
   "outputs": [],
   "source": [
    "options(repr.plot.height = 5, repr.plot.width = 20)\n",
    "\n",
    "p1 <- DimPlot(obj.rna.sub, reduction = \"umap_harmony\", group.by = \"orig.ident\")\n",
    "p2 <- DimPlot(obj.rna.sub, reduction = \"umap_harmony\", group.by = \"patient\")\n",
    "p3 <- DimPlot(obj.rna.sub, reduction = \"umap_harmony\", group.by = \"region\")\n",
    "p4 <- DimPlot(obj.rna.sub, reduction = \"umap_harmony\", group.by = \"patient_group\", label = TRUE)\n",
    "\n",
    "patchwork::wrap_plots(list(p1, p2, p3, p4), nrow = 1)"
   ]
  },
  {
   "cell_type": "code",
   "execution_count": null,
   "id": "3807ba4f-e28b-450c-9c4b-8c3e38028499",
   "metadata": {},
   "outputs": [],
   "source": [
    "obj.rna.sub <- FindNeighbors(obj.rna.sub, reduction = \"harmony\", dims = 1:30)\n",
    "obj.rna.sub <- FindClusters(obj.rna.sub, resolution = 0.1, verbose = FALSE)"
   ]
  },
  {
   "cell_type": "code",
   "execution_count": null,
   "id": "929d4afc-0994-4d0d-ba67-35d4d21614a6",
   "metadata": {},
   "outputs": [],
   "source": [
    "options(repr.plot.height = 5, repr.plot.width = 5)\n",
    "DimPlot(obj.rna.sub, reduction = \"umap_harmony\", group.by = \"RNA_snn_res.0.1\", label = TRUE)"
   ]
  },
  {
   "cell_type": "code",
   "execution_count": null,
   "id": "991077e5-6c77-41c8-ba0f-44492a49b062",
   "metadata": {},
   "outputs": [],
   "source": [
    "# suppressMessages(library(Nebulosa))\n",
    "\n",
    "# options(repr.plot.height = 5, repr.plot.width = 10)\n",
    "\n",
    "# p1 <- plot_density(obj.rna.sub, features=\"KIT\", reduction=\"umap_harmony\")\n",
    "# p2 <- plot_density(obj.rna.sub, features=\"CPA3\", reduction=\"umap_harmony\")\n",
    "\n",
    "# patchwork::wrap_plots(list(p1, p2), nrow = 1)"
   ]
  },
  {
   "cell_type": "code",
   "execution_count": null,
   "id": "9ac638a1-668b-4758-b31a-11d9df551949",
   "metadata": {},
   "outputs": [],
   "source": [
    "if(!dir.exists(\"../data/snRNA\")){\n",
    "    dir.create(\"../data/snRNA\")\n",
    "}"
   ]
  },
  {
   "cell_type": "code",
   "execution_count": null,
   "id": "f2719f24-d340-4ba7-af9a-b9cbb0d96f9b",
   "metadata": {},
   "outputs": [],
   "source": [
    "# find marker\n",
    "Idents(obj.rna.sub) <- \"RNA_snn_res.0.1\"\n",
    "\n",
    "all.markers <- FindAllMarkers(obj.rna.sub, only.pos = TRUE, min.pct = 0.25, logfc.threshold = 0.25)\n",
    "\n",
    "df <- all.markers %>%\n",
    "    group_by(cluster) %>%\n",
    "    slice_max(n = 10, order_by = avg_log2FC)\n",
    "\n",
    "# Dot plots - the size of the dot corresponds to the percentage of cells expressing the\n",
    "# feature in each cluster. The color represents the average expression level\n",
    "options(repr.plot.height = 4, repr.plot.width = 15)\n",
    "DotPlot(obj.rna.sub, features = unique(df$gene)) + RotatedAxis()"
   ]
  },
  {
   "cell_type": "code",
   "execution_count": null,
   "id": "ab8049ab-e7fd-4be4-aa24-35b9828036bf",
   "metadata": {},
   "outputs": [],
   "source": [
    "markerList <- split(all.markers, all.markers$cluster)\n",
    "\n",
    "for(i in 1:length(markerList)){\n",
    "    markerList[[i]] <- markerList[[i]][order(-markerList[[i]]$avg_log2FC), ]\n",
    "}\n",
    "\n",
    "WriteXLS::WriteXLS(markerList,\n",
    "                   ExcelFileName = \"../data/snRNA/MarkerGenes.xlsx\",\n",
    "                   SheetNames = names(markerList))\n",
    "\n",
    "saveRDS(all.markers, \"../data/snRNA/MarkerGenes.rds\")"
   ]
  },
  {
   "cell_type": "code",
   "execution_count": null,
   "id": "c56f47b6-1759-4966-8e4e-64001636484a",
   "metadata": {},
   "outputs": [],
   "source": [
    "saveRDS(obj.rna.sub, \"../data/snRNA/snRNA.rds\")"
   ]
  },
  {
   "cell_type": "code",
   "execution_count": null,
   "id": "66f230d6-d984-4f7f-91e9-36786df618c1",
   "metadata": {},
   "outputs": [],
   "source": [
    "sessionInfo()"
   ]
  }
 ],
 "metadata": {
  "kernelspec": {
   "display_name": "R",
   "language": "R",
   "name": "ir"
  },
  "language_info": {
   "codemirror_mode": "r",
   "file_extension": ".r",
   "mimetype": "text/x-r-source",
   "name": "R",
   "pygments_lexer": "r",
   "version": "4.1.1"
  }
 },
 "nbformat": 4,
 "nbformat_minor": 5
}
