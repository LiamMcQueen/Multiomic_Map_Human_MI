{
 "cells": [
  {
   "cell_type": "code",
   "execution_count": 1,
   "id": "144caf40-055e-4f69-9245-7271ce2099b8",
   "metadata": {},
   "outputs": [],
   "source": [
    "suppressMessages(library(ArchR))\n",
    "suppressMessages(library(Seurat))\n",
    "suppressMessages(library(Signac))\n",
    "suppressMessages(library(harmony))\n",
    "suppressMessages(library(dplyr))\n",
    "suppressMessages(library(cowplot))\n",
    "suppressMessages(library(harmony))\n",
    "suppressMessages(library(Nebulosa))\n",
    "suppressMessages(library(ggpubr))\n",
    "suppressMessages(library(Ipaper))"
   ]
  },
  {
   "cell_type": "code",
   "execution_count": 2,
   "id": "a6695e21-0137-4522-b6af-01277b49f16a",
   "metadata": {},
   "outputs": [
    {
     "data": {
      "text/html": [
       "'/data/scATA/SingleCellOpenChromatin/local/VisiumHeartRevision/IntegrativeAnalysis/Lymphoid/code'"
      ],
      "text/latex": [
       "'/data/scATA/SingleCellOpenChromatin/local/VisiumHeartRevision/IntegrativeAnalysis/Lymphoid/code'"
      ],
      "text/markdown": [
       "'/data/scATA/SingleCellOpenChromatin/local/VisiumHeartRevision/IntegrativeAnalysis/Lymphoid/code'"
      ],
      "text/plain": [
       "[1] \"/data/scATA/SingleCellOpenChromatin/local/VisiumHeartRevision/IntegrativeAnalysis/Lymphoid/code\""
      ]
     },
     "metadata": {},
     "output_type": "display_data"
    }
   ],
   "source": [
    "set.seed(42)\n",
    "getwd()"
   ]
  },
  {
   "cell_type": "code",
   "execution_count": null,
   "id": "cb626617-6306-45e3-881e-7a1a04bd006b",
   "metadata": {},
   "outputs": [],
   "source": [
    "coembed <- readRDS(\"../data/coembed/coembed.Rds\")\n",
    "coembed"
   ]
  },
  {
   "cell_type": "code",
   "execution_count": null,
   "id": "772b94d8-d119-47ec-863b-5a1f80955d14",
   "metadata": {},
   "outputs": [],
   "source": [
    "options(repr.plot.height = 10, repr.plot.width = 20)\n",
    "\n",
    "ps1 <- plot_density(coembed, features=c(\"DTHD1\",\n",
    "                                       \"IL7R\", \"CDC14A\",\n",
    "                                       \"LEF1\", \"SERINC5\",\n",
    "                                       \"GNLY\", \"TXK\", \"KCNQ5\"), reduction=\"umap_harmony\", combine = FALSE)\n",
    "\n",
    "patchwork::wrap_plots(ps1, nrow = 2)"
   ]
  },
  {
   "cell_type": "code",
   "execution_count": null,
   "id": "a214350f-8bce-4d60-a5b0-4951cce9744a",
   "metadata": {},
   "outputs": [],
   "source": [
    "## get number of cells per cluster and sample\n",
    "df_count <- coembed@meta.data %>%\n",
    "    as.data.frame() %>%\n",
    "    subset(., tech == \"RNA\") %>%\n",
    "    group_by(orig.ident, RNA_snn_res.0.9) %>%\n",
    "    summarise(count = n()) %>%\n",
    "    tidyr::pivot_wider(names_from = RNA_snn_res.0.9, values_from = count, values_fill = 0)\n",
    "\n",
    "write.csv(df_count, \"../data/coembed/stat_cell_counts_per_sample_rna.csv\", row.names = FALSE)"
   ]
  },
  {
   "cell_type": "code",
   "execution_count": null,
   "id": "e7a05a36-8880-4a06-b1a3-46384d058a2c",
   "metadata": {},
   "outputs": [],
   "source": [
    "coembed.sub <- subset(coembed, RNA_snn_res.0.9 %in% c(1, 2, 3, 4, 8))"
   ]
  },
  {
   "cell_type": "code",
   "execution_count": null,
   "id": "731f21bf-9813-4c45-9ddc-ac2fcffc87af",
   "metadata": {},
   "outputs": [],
   "source": [
    "cols.clusters <- ArchR::paletteDiscrete(coembed.sub@meta.data[, \"RNA_snn_res.0.9\"])\n",
    "\n",
    "options(repr.plot.height = 6, repr.plot.width = 6)\n",
    "\n",
    "p <- DimPlot(coembed.sub, group.by = \"RNA_snn_res.0.9\", label = TRUE,\n",
    "             reduction = \"umap_harmony\", shuffle = TRUE, cols = cols.clusters) +\n",
    "    xlab(\"UMAP1\") + ylab(\"UMAP2\")\n",
    "\n",
    "p"
   ]
  },
  {
   "cell_type": "code",
   "execution_count": null,
   "id": "18f39eb2-d3c3-433c-b283-31b855cf2102",
   "metadata": {},
   "outputs": [],
   "source": [
    "coembed.sub <- RunUMAP(coembed.sub, \n",
    "               dims = 1:30, \n",
    "               reduction = 'harmony',\n",
    "               reduction.name = \"umap_harmony_v2\",\n",
    "               reduction.ke = 'umap_harmony_v2_',\n",
    "              verbose = FALSE,\n",
    "                   min.dist = 0.4)"
   ]
  },
  {
   "cell_type": "code",
   "execution_count": null,
   "id": "eee2f170-9322-463b-9423-103def61650c",
   "metadata": {},
   "outputs": [],
   "source": [
    "p <- DimPlot(coembed.sub, group.by = \"RNA_snn_res.0.9\", label = TRUE,\n",
    "             reduction = \"umap_harmony_v2\", shuffle = TRUE, cols = cols.clusters) +\n",
    "    xlab(\"UMAP1\") + ylab(\"UMAP2\")\n",
    "\n",
    "p"
   ]
  },
  {
   "cell_type": "code",
   "execution_count": null,
   "id": "873b72c6-1831-41ec-8ab7-38076d1e3ad2",
   "metadata": {},
   "outputs": [],
   "source": [
    "## add annotation\n",
    "new.cluster.ids <- c(\"1\" = \"CD8\",\n",
    "               \"2\" = \"CD4\",\n",
    "               \"3\" = \"CD4\",\n",
    "               \"4\" = \"NK\",\n",
    "               \"8\" = \"NK_T\")\n",
    "\n",
    "Idents(coembed.sub) <- \"RNA_snn_res.0.9\"\n",
    "\n",
    "coembed.sub <- RenameIdents(coembed.sub, new.cluster.ids)\n",
    "coembed.sub$annotation <- Idents(coembed.sub)"
   ]
  },
  {
   "cell_type": "code",
   "execution_count": null,
   "id": "e830ffa3-4da1-4548-ba40-150e4198fbea",
   "metadata": {},
   "outputs": [],
   "source": [
    "cols.celltype <- ArchR::paletteDiscrete(coembed.sub@meta.data[, \"annotation\"])\n",
    "\n",
    "p <- DimPlot(coembed.sub, group.by = \"annotation\", label = FALSE,\n",
    "             reduction = \"umap_harmony_v2\", shuffle = TRUE) +\n",
    "    scale_color_manual(values = cols.celltype) +\n",
    "    xlab(\"UMAP1\") + ylab(\"UMAP2\")\n",
    "\n",
    "options(repr.plot.height = 6, repr.plot.width = 6)\n",
    "\n",
    "p"
   ]
  },
  {
   "cell_type": "code",
   "execution_count": null,
   "id": "037b5d7e-2ebe-47d8-b374-22fe5700b952",
   "metadata": {},
   "outputs": [],
   "source": [
    "options(repr.plot.width = 10, repr.plot.height = 5)\n",
    "\n",
    "p <- DimPlot(coembed.sub, group.by = \"annotation\", label = TRUE,\n",
    "             reduction = \"umap_harmony_v2\", shuffle = TRUE, split.by = \"tech\", cols=cols.celltype) +\n",
    "    xlab(\"UMAP1\") + ylab(\"UMAP2\")\n",
    "\n",
    "p"
   ]
  },
  {
   "cell_type": "code",
   "execution_count": null,
   "id": "e22dad7d-7919-474a-942d-50a8bfd85aa4",
   "metadata": {},
   "outputs": [],
   "source": [
    "meta.data <- as.data.frame(coembed.sub@meta.data)"
   ]
  },
  {
   "cell_type": "code",
   "execution_count": null,
   "id": "1d24e587-1efa-4d9f-9f22-893f29d151da",
   "metadata": {},
   "outputs": [],
   "source": [
    "df_plot <-  meta.data %>%\n",
    "    group_by(patient, annotation) %>%\n",
    "    summarise(counts = n()) %>%\n",
    "    mutate(cell_proportion = counts / sum(counts))\n",
    "\n",
    "p1 <- ggplot(df_plot, aes(patient, cell_proportion, fill=annotation)) + \n",
    "    geom_bar(stat=\"identity\", position = position_stack(reverse = TRUE)) +\n",
    "    scale_fill_manual(values = cols.celltype) +\n",
    "    theme_cowplot() +\n",
    "    xlab(\"\") + ylab(\"\") +\n",
    "    theme(axis.text.x = element_text(angle = 60, hjust = 1))\n",
    "\n",
    "\n",
    "options(repr.plot.width = 10, repr.plot.height = 6)\n",
    "\n",
    "p1"
   ]
  },
  {
   "cell_type": "code",
   "execution_count": null,
   "id": "390ef035-2a96-4b90-accc-6c4a781f950d",
   "metadata": {},
   "outputs": [],
   "source": [
    "df_plot <- meta.data %>%\n",
    "    group_by(region, annotation) %>%\n",
    "    summarise(counts = n()) %>%\n",
    "    mutate(cell_proportion = counts / sum(counts))\n",
    "\n",
    "p1 <- ggplot(df_plot, aes(region, cell_proportion, fill=annotation)) + \n",
    "    geom_bar(stat=\"identity\", position = position_stack(reverse = TRUE)) +\n",
    "    scale_fill_manual(values = cols.celltype) +\n",
    "    theme_cowplot() +\n",
    "    xlab(\"\") + ylab(\"\") +\n",
    "    theme(axis.text.x = element_text(angle = 60, hjust = 1))\n",
    "\n",
    "\n",
    "options(repr.plot.width = 10, repr.plot.height = 6)\n",
    "\n",
    "p1"
   ]
  },
  {
   "cell_type": "code",
   "execution_count": null,
   "id": "9dc416be-4145-41f4-98bc-78a93540c0e0",
   "metadata": {},
   "outputs": [],
   "source": [
    "df_plot <- meta.data %>%\n",
    "    group_by(patient_group, annotation) %>%\n",
    "    summarise(counts = n()) %>%\n",
    "    mutate(cell_proportion = counts / sum(counts))\n",
    "\n",
    "p1 <- ggplot(df_plot, aes(patient_group, cell_proportion, fill=annotation)) + \n",
    "    geom_bar(stat=\"identity\", position = position_stack(reverse = TRUE)) +\n",
    "    scale_fill_manual(values = cols.celltype) +\n",
    "    theme_cowplot() +\n",
    "    xlab(\"\") + ylab(\"\") +\n",
    "    theme(axis.text.x = element_text(angle = 60, hjust = 1))\n",
    "\n",
    "\n",
    "options(repr.plot.width = 6, repr.plot.height = 6)\n",
    "\n",
    "p1"
   ]
  },
  {
   "cell_type": "code",
   "execution_count": null,
   "id": "d43cdb4a-2f01-48a6-a65c-9e04eb7d7667",
   "metadata": {},
   "outputs": [],
   "source": [
    "df_plot <- meta.data %>% \n",
    "            group_by(patient_region_id, annotation) %>%\n",
    "            summarise(counts = n()) %>%\n",
    "            mutate(proportion = counts / sum(counts))\n",
    "\n",
    "df_anno <- coembed@meta.data %>%\n",
    "    as.data.frame() %>%\n",
    "    subset(., select = c(\"patient_region_id\", \"patient_group\")) %>%\n",
    "    unique()\n",
    "\n",
    "df_plot <- merge.data.frame(df_plot, df_anno)\n",
    "    \n",
    "    p <- ggplot(data = df_plot, aes(x = patient_group, y = proportion)) +\n",
    "    geom_boxplot2(aes(color = patient_group)) +\n",
    "    facet_wrap(~annotation, nrow = 1) +\n",
    "    stat_compare_means(comparisons = list(c(\"group_1\", \"group_2\"),\n",
    "                                         c(\"group_2\", \"group_3\"),\n",
    "                                         c(\"group_1\", \"group_3\")),\n",
    "                   method = \"wilcox.test\") +\n",
    "    theme_cowplot() +\n",
    "    xlab(\"\") + ylab(\"\") +\n",
    "    theme(axis.text.x = element_blank(),\n",
    "         legend.title = element_blank())\n",
    "\n",
    "options(repr.plot.width = 15, repr.plot.height = 5)\n",
    "\n",
    "print(p)"
   ]
  },
  {
   "cell_type": "code",
   "execution_count": null,
   "id": "617758cf-5f78-4544-ac11-18031311b437",
   "metadata": {},
   "outputs": [],
   "source": [
    "Idents(coembed.sub) <- as.character(Idents(coembed.sub))"
   ]
  },
  {
   "cell_type": "code",
   "execution_count": null,
   "id": "9707922f-0205-45dd-8827-30cf73c75e2c",
   "metadata": {},
   "outputs": [],
   "source": [
    "all.markers <- FindAllMarkers(coembed.sub, only.pos = TRUE, min.pct = 0.25, logfc.threshold = 0.25)\n",
    "    \n",
    "df <- all.markers %>%\n",
    "    group_by(cluster) %>%\n",
    "    slice_max(n = 10, order_by = avg_log2FC)\n",
    "\n",
    "p <- DotPlot(coembed.sub, features = unique(df$gene)) + RotatedAxis()\n",
    "    \n",
    "options(repr.plot.height = 5, repr.plot.width = 15)\n",
    "\n",
    "print(p)"
   ]
  },
  {
   "cell_type": "code",
   "execution_count": null,
   "id": "55995163-e0bf-411e-8300-368adbe22129",
   "metadata": {},
   "outputs": [],
   "source": [
    "if(!dir.exists(\"../data/coembed/MarkerGenesAfterAnnotation\")){\n",
    "    dir.create(\"../data/coembed/MarkerGenesAfterAnnotation\")\n",
    "}"
   ]
  },
  {
   "cell_type": "code",
   "execution_count": null,
   "id": "4eedaa74-92d2-4e7a-92f5-8c44f099fcf3",
   "metadata": {},
   "outputs": [],
   "source": [
    "markerList <- split(all.markers, all.markers$cluster)\n",
    "    \n",
    "    for(i in 1:length(markerList)){\n",
    "        markerList[[i]] <- markerList[[i]][order(-markerList[[i]]$avg_log2FC), ]\n",
    "    }\n",
    "    \n",
    "    WriteXLS::WriteXLS(markerList,\n",
    "                   ExcelFileName = glue::glue(\"../data/coembed/MarkerGenesAfterAnnotation/res.0.9.xlsx\"),\n",
    "                   SheetNames = names(markerList))\n",
    "\n",
    "saveRDS(all.markers, glue::glue(\"../data/coembed/MarkerGenesAfterAnnotation/res.0.9.rds\"))"
   ]
  },
  {
   "cell_type": "code",
   "execution_count": null,
   "id": "23daddea-7cda-493d-8ecb-69a7902242a4",
   "metadata": {},
   "outputs": [],
   "source": [
    "## mapping to spatial data\n",
    "df_anno <- read.csv(\"../../../visiumSpatial/metadata/sample_annotation.csv\", header = TRUE)\n",
    "\n",
    "patient_region_id <- df_anno$patient_region_id\n",
    "patient_region_id <- stringr::str_replace_all(patient_region_id, \"/\", \"_\")\n",
    "\n",
    "names(patient_region_id) <- df_anno$sample_id"
   ]
  },
  {
   "cell_type": "code",
   "execution_count": null,
   "id": "ff058e2e-ad3e-4dd9-8eae-2d9e398e2deb",
   "metadata": {},
   "outputs": [],
   "source": [
    "if(!dir.exists(glue::glue(\"../data/visium/cell_states_mapping_with_annotation\"))){\n",
    "        dir.create(glue::glue(\"../data/visium/cell_states_mapping_with_annotation\"), recursive = TRUE)\n",
    "}"
   ]
  },
  {
   "cell_type": "code",
   "execution_count": null,
   "id": "5e6b04e0-8816-4646-9a84-01d1f2ebc659",
   "metadata": {},
   "outputs": [],
   "source": [
    "head(all.markers)"
   ]
  },
  {
   "cell_type": "code",
   "execution_count": null,
   "id": "9c5a2bf5-b00c-42bd-ab5d-13faaff6150b",
   "metadata": {},
   "outputs": [],
   "source": [
    "saveRDS(coembed.sub, file = \"../data/coembed/coembed.annotation.Rds\")"
   ]
  }
 ],
 "metadata": {
  "kernelspec": {
   "display_name": "R",
   "language": "R",
   "name": "ir"
  },
  "language_info": {
   "codemirror_mode": "r",
   "file_extension": ".r",
   "mimetype": "text/x-r-source",
   "name": "R",
   "pygments_lexer": "r",
   "version": "4.0.3"
  }
 },
 "nbformat": 4,
 "nbformat_minor": 5
}
