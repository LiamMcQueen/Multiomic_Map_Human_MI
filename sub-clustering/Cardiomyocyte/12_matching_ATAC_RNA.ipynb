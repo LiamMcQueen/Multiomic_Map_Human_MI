{
 "cells": [
  {
   "cell_type": "code",
   "execution_count": 9,
   "id": "5917d297-0dd9-492d-bb68-f4252220375e",
   "metadata": {},
   "outputs": [],
   "source": [
    "suppressMessages(library(ArchR))\n",
    "suppressMessages(library(Seurat))\n",
    "suppressMessages(library(Signac))\n",
    "suppressMessages(library(harmony))\n",
    "suppressMessages(library(dplyr))\n",
    "suppressMessages(library(cowplot))\n",
    "suppressMessages(library(harmony))\n",
    "suppressMessages(library(Nebulosa))\n",
    "suppressMessages(library(ggpubr))\n",
    "suppressMessages(library(Ipaper))\n",
    "suppressMessages(library(phateR))\n",
    "source(\"../../utils/stimATAC_analyses_code/R/utils.R\")\n",
    "source(\"../../utils/stimATAC_analyses_code/R/optMatching_functions.R\")"
   ]
  },
  {
   "cell_type": "code",
   "execution_count": 10,
   "id": "7592945f-0fd8-484e-a641-bfd3947b8abe",
   "metadata": {},
   "outputs": [
    {
     "data": {
      "text/html": [
       "'/data/scATA/SingleCellOpenChromatin/local/VisiumHeartRevision/IntegrativeAnalysis/Cardiomyocyte/code'"
      ],
      "text/latex": [
       "'/data/scATA/SingleCellOpenChromatin/local/VisiumHeartRevision/IntegrativeAnalysis/Cardiomyocyte/code'"
      ],
      "text/markdown": [
       "'/data/scATA/SingleCellOpenChromatin/local/VisiumHeartRevision/IntegrativeAnalysis/Cardiomyocyte/code'"
      ],
      "text/plain": [
       "[1] \"/data/scATA/SingleCellOpenChromatin/local/VisiumHeartRevision/IntegrativeAnalysis/Cardiomyocyte/code\""
      ]
     },
     "metadata": {},
     "output_type": "display_data"
    }
   ],
   "source": [
    "set.seed(42)\n",
    "getwd()"
   ]
  },
  {
   "cell_type": "code",
   "execution_count": 11,
   "id": "60842b5d-d2e6-4d76-a0e8-c28ea771a2ab",
   "metadata": {},
   "outputs": [
    {
     "data": {
      "text/plain": [
       "An object of class Seurat \n",
       "230075 features across 59045 samples within 3 assays \n",
       "Active assay: RNA (28933 features, 2000 variable features)\n",
       " 2 other assays present: peaks, GeneActivity\n",
       " 5 dimensional reductions calculated: pca, umap, harmony, umap_harmony, umap_harmony_v2"
      ]
     },
     "metadata": {},
     "output_type": "display_data"
    }
   ],
   "source": [
    "coembed <- readRDS(\"../data/coembed/coembed.annotation.Rds\")\n",
    "coembed"
   ]
  },
  {
   "cell_type": "code",
   "execution_count": 12,
   "id": "2920f56e-84c5-470d-977b-4da5792e2c87",
   "metadata": {},
   "outputs": [],
   "source": [
    "coembed <- subset(coembed, annotation %in% c(\"healthy_CM\", \"intermediate_CM\", \"damaged_CM\"))"
   ]
  },
  {
   "cell_type": "code",
   "execution_count": 13,
   "id": "397434e7-8d9c-4f4b-9828-1897d7e26e5a",
   "metadata": {},
   "outputs": [
    {
     "data": {
      "text/plain": [
       "An object of class Seurat \n",
       "230075 features across 55204 samples within 3 assays \n",
       "Active assay: RNA (28933 features, 2000 variable features)\n",
       " 2 other assays present: peaks, GeneActivity\n",
       " 5 dimensional reductions calculated: pca, umap, harmony, umap_harmony, umap_harmony_v2"
      ]
     },
     "metadata": {},
     "output_type": "display_data"
    }
   ],
   "source": [
    "coembed"
   ]
  },
  {
   "cell_type": "code",
   "execution_count": 15,
   "id": "c46c1ecb-5288-48a0-a57a-dee650d3c9d6",
   "metadata": {},
   "outputs": [],
   "source": [
    "## down-sampling, othewise R will fail to create the matrix\n",
    "coembed.sub <- coembed[, sample(colnames(coembed), size =45000, replace=F)]"
   ]
  },
  {
   "cell_type": "code",
   "execution_count": 16,
   "id": "a6430830-0895-428e-a94b-b2995e1e1de1",
   "metadata": {},
   "outputs": [
    {
     "data": {
      "text/plain": [
       "An object of class Seurat \n",
       "230075 features across 8116 samples within 3 assays \n",
       "Active assay: RNA (28933 features, 2000 variable features)\n",
       " 2 other assays present: peaks, GeneActivity\n",
       " 5 dimensional reductions calculated: pca, umap, harmony, umap_harmony, umap_harmony_v2"
      ]
     },
     "metadata": {},
     "output_type": "display_data"
    },
    {
     "data": {
      "text/plain": [
       "An object of class Seurat \n",
       "230075 features across 21884 samples within 3 assays \n",
       "Active assay: RNA (28933 features, 2000 variable features)\n",
       " 2 other assays present: peaks, GeneActivity\n",
       " 5 dimensional reductions calculated: pca, umap, harmony, umap_harmony, umap_harmony_v2"
      ]
     },
     "metadata": {},
     "output_type": "display_data"
    }
   ],
   "source": [
    "obj.atac <- subset(coembed.sub, tech == \"ATAC\")\n",
    "obj.rna <- subset(coembed.sub, tech == \"RNA\")\n",
    "obj.atac\n",
    "obj.rna"
   ]
  },
  {
   "cell_type": "code",
   "execution_count": 17,
   "id": "11484684-85c6-4397-8f6f-ab98266d2371",
   "metadata": {},
   "outputs": [
    {
     "data": {
      "text/html": [
       "<table class=\"dataframe\">\n",
       "<caption>A matrix: 6 × 2 of type dbl</caption>\n",
       "<thead>\n",
       "\t<tr><th></th><th scope=col>umapharmonyv2_1</th><th scope=col>umapharmonyv2_2</th></tr>\n",
       "</thead>\n",
       "<tbody>\n",
       "\t<tr><th scope=row>TCTCTGGTCCGGCTTT-1_2_1_1_1_1_1_1_1_1_1_1_1</th><td>-3.5039712</td><td> 0.678450737</td></tr>\n",
       "\t<tr><th scope=row>TGCATCCCAAACACGG-1_1_1_1_1_1_1_1_1</th><td> 0.2775377</td><td>-0.677227285</td></tr>\n",
       "\t<tr><th scope=row>CK380#TGCACCTTCAGGGTTT-1</th><td>-1.3187193</td><td>-1.160559919</td></tr>\n",
       "\t<tr><th scope=row>CK173#AACCGATCATTGCCTC-1</th><td>-3.6461130</td><td> 2.045826766</td></tr>\n",
       "\t<tr><th scope=row>CAATGACTCTCTCGCA-1_1_1_1_1_1_1_1_1_1_1_1</th><td> 0.5237629</td><td> 0.310985062</td></tr>\n",
       "\t<tr><th scope=row>GTTCCGTTCTGGACTA-1_2_1_1_1_1_1_1_1_1_1</th><td> 0.5970168</td><td>-0.005988028</td></tr>\n",
       "</tbody>\n",
       "</table>\n"
      ],
      "text/latex": [
       "A matrix: 6 × 2 of type dbl\n",
       "\\begin{tabular}{r|ll}\n",
       "  & umapharmonyv2\\_1 & umapharmonyv2\\_2\\\\\n",
       "\\hline\n",
       "\tTCTCTGGTCCGGCTTT-1\\_2\\_1\\_1\\_1\\_1\\_1\\_1\\_1\\_1\\_1\\_1\\_1 & -3.5039712 &  0.678450737\\\\\n",
       "\tTGCATCCCAAACACGG-1\\_1\\_1\\_1\\_1\\_1\\_1\\_1\\_1 &  0.2775377 & -0.677227285\\\\\n",
       "\tCK380\\#TGCACCTTCAGGGTTT-1 & -1.3187193 & -1.160559919\\\\\n",
       "\tCK173\\#AACCGATCATTGCCTC-1 & -3.6461130 &  2.045826766\\\\\n",
       "\tCAATGACTCTCTCGCA-1\\_1\\_1\\_1\\_1\\_1\\_1\\_1\\_1\\_1\\_1\\_1 &  0.5237629 &  0.310985062\\\\\n",
       "\tGTTCCGTTCTGGACTA-1\\_2\\_1\\_1\\_1\\_1\\_1\\_1\\_1\\_1\\_1 &  0.5970168 & -0.005988028\\\\\n",
       "\\end{tabular}\n"
      ],
      "text/markdown": [
       "\n",
       "A matrix: 6 × 2 of type dbl\n",
       "\n",
       "| <!--/--> | umapharmonyv2_1 | umapharmonyv2_2 |\n",
       "|---|---|---|\n",
       "| TCTCTGGTCCGGCTTT-1_2_1_1_1_1_1_1_1_1_1_1_1 | -3.5039712 |  0.678450737 |\n",
       "| TGCATCCCAAACACGG-1_1_1_1_1_1_1_1_1 |  0.2775377 | -0.677227285 |\n",
       "| CK380#TGCACCTTCAGGGTTT-1 | -1.3187193 | -1.160559919 |\n",
       "| CK173#AACCGATCATTGCCTC-1 | -3.6461130 |  2.045826766 |\n",
       "| CAATGACTCTCTCGCA-1_1_1_1_1_1_1_1_1_1_1_1 |  0.5237629 |  0.310985062 |\n",
       "| GTTCCGTTCTGGACTA-1_2_1_1_1_1_1_1_1_1_1 |  0.5970168 | -0.005988028 |\n",
       "\n"
      ],
      "text/plain": [
       "                                           umapharmonyv2_1 umapharmonyv2_2\n",
       "TCTCTGGTCCGGCTTT-1_2_1_1_1_1_1_1_1_1_1_1_1 -3.5039712       0.678450737   \n",
       "TGCATCCCAAACACGG-1_1_1_1_1_1_1_1_1          0.2775377      -0.677227285   \n",
       "CK380#TGCACCTTCAGGGTTT-1                   -1.3187193      -1.160559919   \n",
       "CK173#AACCGATCATTGCCTC-1                   -3.6461130       2.045826766   \n",
       "CAATGACTCTCTCGCA-1_1_1_1_1_1_1_1_1_1_1_1    0.5237629       0.310985062   \n",
       "GTTCCGTTCTGGACTA-1_2_1_1_1_1_1_1_1_1_1      0.5970168      -0.005988028   "
      ]
     },
     "metadata": {},
     "output_type": "display_data"
    }
   ],
   "source": [
    "head(coembed.sub@reductions$umap_harmony_v2@cell.embeddings)"
   ]
  },
  {
   "cell_type": "code",
   "execution_count": 18,
   "id": "59ed5ea0-4baa-4e52-ba40-98ee56902ac3",
   "metadata": {},
   "outputs": [
    {
     "data": {
      "text/html": [
       "<table class=\"dataframe\">\n",
       "<caption>A data.frame: 6 × 2</caption>\n",
       "<thead>\n",
       "\t<tr><th></th><th scope=col>UMAP1</th><th scope=col>UMAP2</th></tr>\n",
       "\t<tr><th></th><th scope=col>&lt;dbl&gt;</th><th scope=col>&lt;dbl&gt;</th></tr>\n",
       "</thead>\n",
       "<tbody>\n",
       "\t<tr><th scope=row>TCTCTGGTCCGGCTTT-1_2_1_1_1_1_1_1_1_1_1_1_1</th><td>-3.5039712</td><td> 0.678450737</td></tr>\n",
       "\t<tr><th scope=row>TGCATCCCAAACACGG-1_1_1_1_1_1_1_1_1</th><td> 0.2775377</td><td>-0.677227285</td></tr>\n",
       "\t<tr><th scope=row>CK380#TGCACCTTCAGGGTTT-1</th><td>-1.3187193</td><td>-1.160559919</td></tr>\n",
       "\t<tr><th scope=row>CK173#AACCGATCATTGCCTC-1</th><td>-3.6461130</td><td> 2.045826766</td></tr>\n",
       "\t<tr><th scope=row>CAATGACTCTCTCGCA-1_1_1_1_1_1_1_1_1_1_1_1</th><td> 0.5237629</td><td> 0.310985062</td></tr>\n",
       "\t<tr><th scope=row>GTTCCGTTCTGGACTA-1_2_1_1_1_1_1_1_1_1_1</th><td> 0.5970168</td><td>-0.005988028</td></tr>\n",
       "</tbody>\n",
       "</table>\n"
      ],
      "text/latex": [
       "A data.frame: 6 × 2\n",
       "\\begin{tabular}{r|ll}\n",
       "  & UMAP1 & UMAP2\\\\\n",
       "  & <dbl> & <dbl>\\\\\n",
       "\\hline\n",
       "\tTCTCTGGTCCGGCTTT-1\\_2\\_1\\_1\\_1\\_1\\_1\\_1\\_1\\_1\\_1\\_1\\_1 & -3.5039712 &  0.678450737\\\\\n",
       "\tTGCATCCCAAACACGG-1\\_1\\_1\\_1\\_1\\_1\\_1\\_1\\_1 &  0.2775377 & -0.677227285\\\\\n",
       "\tCK380\\#TGCACCTTCAGGGTTT-1 & -1.3187193 & -1.160559919\\\\\n",
       "\tCK173\\#AACCGATCATTGCCTC-1 & -3.6461130 &  2.045826766\\\\\n",
       "\tCAATGACTCTCTCGCA-1\\_1\\_1\\_1\\_1\\_1\\_1\\_1\\_1\\_1\\_1\\_1 &  0.5237629 &  0.310985062\\\\\n",
       "\tGTTCCGTTCTGGACTA-1\\_2\\_1\\_1\\_1\\_1\\_1\\_1\\_1\\_1\\_1 &  0.5970168 & -0.005988028\\\\\n",
       "\\end{tabular}\n"
      ],
      "text/markdown": [
       "\n",
       "A data.frame: 6 × 2\n",
       "\n",
       "| <!--/--> | UMAP1 &lt;dbl&gt; | UMAP2 &lt;dbl&gt; |\n",
       "|---|---|---|\n",
       "| TCTCTGGTCCGGCTTT-1_2_1_1_1_1_1_1_1_1_1_1_1 | -3.5039712 |  0.678450737 |\n",
       "| TGCATCCCAAACACGG-1_1_1_1_1_1_1_1_1 |  0.2775377 | -0.677227285 |\n",
       "| CK380#TGCACCTTCAGGGTTT-1 | -1.3187193 | -1.160559919 |\n",
       "| CK173#AACCGATCATTGCCTC-1 | -3.6461130 |  2.045826766 |\n",
       "| CAATGACTCTCTCGCA-1_1_1_1_1_1_1_1_1_1_1_1 |  0.5237629 |  0.310985062 |\n",
       "| GTTCCGTTCTGGACTA-1_2_1_1_1_1_1_1_1_1_1 |  0.5970168 | -0.005988028 |\n",
       "\n"
      ],
      "text/plain": [
       "                                           UMAP1      UMAP2       \n",
       "TCTCTGGTCCGGCTTT-1_2_1_1_1_1_1_1_1_1_1_1_1 -3.5039712  0.678450737\n",
       "TGCATCCCAAACACGG-1_1_1_1_1_1_1_1_1          0.2775377 -0.677227285\n",
       "CK380#TGCACCTTCAGGGTTT-1                   -1.3187193 -1.160559919\n",
       "CK173#AACCGATCATTGCCTC-1                   -3.6461130  2.045826766\n",
       "CAATGACTCTCTCGCA-1_1_1_1_1_1_1_1_1_1_1_1    0.5237629  0.310985062\n",
       "GTTCCGTTCTGGACTA-1_2_1_1_1_1_1_1_1_1_1      0.5970168 -0.005988028"
      ]
     },
     "metadata": {},
     "output_type": "display_data"
    }
   ],
   "source": [
    "cca_umap_df <- as.data.frame(coembed.sub@reductions$umap_harmony_v2@cell.embeddings)\n",
    "colnames(cca_umap_df) <- c(\"UMAP1\", \"UMAP2\")\n",
    "head(cca_umap_df)"
   ]
  },
  {
   "cell_type": "code",
   "execution_count": 19,
   "id": "38a86a3a-61c6-4250-85f6-79e155217bfb",
   "metadata": {},
   "outputs": [
    {
     "name": "stderr",
     "output_type": "stream",
     "text": [
      "\n",
      "Attaching package: ‘igraph’\n",
      "\n",
      "\n",
      "The following object is masked from ‘package:FNN’:\n",
      "\n",
      "    knn\n",
      "\n",
      "\n",
      "The following objects are masked from ‘package:dplyr’:\n",
      "\n",
      "    as_data_frame, groups, union\n",
      "\n",
      "\n",
      "The following object is masked from ‘package:GenomicRanges’:\n",
      "\n",
      "    union\n",
      "\n",
      "\n",
      "The following object is masked from ‘package:IRanges’:\n",
      "\n",
      "    union\n",
      "\n",
      "\n",
      "The following object is masked from ‘package:S4Vectors’:\n",
      "\n",
      "    union\n",
      "\n",
      "\n",
      "The following objects are masked from ‘package:BiocGenerics’:\n",
      "\n",
      "    normalize, path, union\n",
      "\n",
      "\n",
      "The following objects are masked from ‘package:stats’:\n",
      "\n",
      "    decompose, spectrum\n",
      "\n",
      "\n",
      "The following object is masked from ‘package:base’:\n",
      "\n",
      "    union\n",
      "\n",
      "\n",
      "\n",
      "Attaching package: ‘pracma’\n",
      "\n",
      "\n",
      "The following objects are masked from ‘package:Ipaper’:\n",
      "\n",
      "    fliplr, flipud, fprintf\n",
      "\n",
      "\n",
      "The following objects are masked from ‘package:magrittr’:\n",
      "\n",
      "    and, mod, or\n",
      "\n",
      "\n",
      "The following objects are masked from ‘package:Matrix’:\n",
      "\n",
      "    expm, lu, tril, triu\n",
      "\n",
      "\n"
     ]
    }
   ],
   "source": [
    "options(repr.plot.height = 6, repr.plot.width = 6)\n",
    "\n",
    "df_cell_pairing <- cell_pairing(ATACpcs = obj.atac@reductions$harmony@cell.embeddings,\n",
    "                               RNApcs = obj.rna@reductions$harmony@cell.embeddings,\n",
    "                               cca_umap_df = cca_umap_df,\n",
    "                               nCores = 80)"
   ]
  },
  {
   "cell_type": "code",
   "execution_count": null,
   "id": "1fe95643-e4af-43ab-86d3-ba94e3871652",
   "metadata": {},
   "outputs": [],
   "source": [
    "sel_cells <- c(df_cell_pairing$ATAC, df_cell_pairing$RNA)\n",
    "coembed.sub <- coembed[, sel_cells]\n",
    "\n",
    "options(repr.plot.height = 5, repr.plot.width = 10)\n",
    "DimPlot(coembed.sub, reduction = \"umap_harmony_v2\", group.by = \"annotation\", split.by = \"tech\")"
   ]
  },
  {
   "cell_type": "code",
   "execution_count": null,
   "id": "5bfa3602-56a7-4d49-83e3-9f5295e87908",
   "metadata": {},
   "outputs": [],
   "source": [
    "df_cell_pairing$cell_name <- paste0(\"cell-\", 1:nrow(df_cell_pairing))"
   ]
  },
  {
   "cell_type": "code",
   "execution_count": null,
   "id": "7c5a59a8-970f-4a69-9784-ac6aa18212c9",
   "metadata": {},
   "outputs": [],
   "source": [
    "saveRDS(df_cell_pairing, \"../data/coembed/ATAC_RNA_matching.rds\")"
   ]
  },
  {
   "cell_type": "code",
   "execution_count": null,
   "id": "0f688aa4-7bd1-45c1-94d3-401561018769",
   "metadata": {},
   "outputs": [],
   "source": [
    "sessionInfo()"
   ]
  }
 ],
 "metadata": {
  "kernelspec": {
   "display_name": "R",
   "language": "R",
   "name": "ir"
  },
  "language_info": {
   "codemirror_mode": "r",
   "file_extension": ".r",
   "mimetype": "text/x-r-source",
   "name": "R",
   "pygments_lexer": "r",
   "version": "4.1.1"
  }
 },
 "nbformat": 4,
 "nbformat_minor": 5
}
