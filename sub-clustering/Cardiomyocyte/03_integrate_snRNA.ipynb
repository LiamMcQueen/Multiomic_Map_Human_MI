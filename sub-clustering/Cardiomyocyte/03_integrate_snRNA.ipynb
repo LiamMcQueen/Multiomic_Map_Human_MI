{
 "cells": [
  {
   "cell_type": "code",
   "execution_count": null,
   "id": "54dbdc5a-2ad8-4e5e-96f8-1713b527a057",
   "metadata": {},
   "outputs": [],
   "source": [
    "suppressMessages(library(ArchR))\n",
    "suppressMessages(library(Seurat))\n",
    "suppressMessages(library(Signac))\n",
    "suppressMessages(library(harmony))\n",
    "suppressMessages(library(dplyr))\n",
    "suppressMessages(library(destiny))\n",
    "suppressMessages(library(cowplot))"
   ]
  },
  {
   "cell_type": "code",
   "execution_count": null,
   "id": "fd7d9caf-7d07-40d7-a398-60b2b0e81e37",
   "metadata": {},
   "outputs": [],
   "source": [
    "obj.rna <- readRDS(\"../../../snRNA/from_rico/ct_data/CM/CM_states.rds\")"
   ]
  },
  {
   "cell_type": "code",
   "execution_count": null,
   "id": "f51b82b6-29c3-4a65-bd16-53ca42c24efe",
   "metadata": {},
   "outputs": [],
   "source": [
    "obj.rna"
   ]
  },
  {
   "cell_type": "code",
   "execution_count": null,
   "id": "f5c28782-4e0a-4fd3-a3ea-195c44dec213",
   "metadata": {},
   "outputs": [],
   "source": [
    "## add annotation for samples\n",
    "df_sample_annotation <- read.csv(\"../../../snRNA/metadata/sample_annotation.csv\", header = TRUE)\n",
    "head(df_sample_annotation)\n",
    "\n",
    "sample_to_region <- df_sample_annotation$region_novel\n",
    "sample_to_patient <- df_sample_annotation$patient\n",
    "sample_to_patient_region <- df_sample_annotation$patient_region_id\n",
    "sample_to_patient_group <- df_sample_annotation$patient_group\n",
    "\n",
    "names(sample_to_region) <- df_sample_annotation$sample_id\n",
    "names(sample_to_patient) <- df_sample_annotation$sample_id\n",
    "names(sample_to_patient_region) <- df_sample_annotation$sample_id\n",
    "names(sample_to_patient_group) <- df_sample_annotation$sample_id"
   ]
  },
  {
   "cell_type": "code",
   "execution_count": null,
   "id": "203b0199-0db4-4daa-b9cc-3024ad6ac372",
   "metadata": {},
   "outputs": [],
   "source": [
    "obj.rna@meta.data$region <- stringr::str_replace_all(obj.rna@meta.data$orig.ident, sample_to_region)\n",
    "obj.rna@meta.data$patient <- stringr::str_replace_all(obj.rna@meta.data$orig.ident, sample_to_patient)\n",
    "obj.rna@meta.data$patient_region_id <- stringr::str_replace_all(obj.rna@meta.data$orig.ident, sample_to_patient_region)\n",
    "obj.rna@meta.data$patient_group <- stringr::str_replace_all(obj.rna@meta.data$orig.ident, sample_to_patient_group)"
   ]
  },
  {
   "cell_type": "code",
   "execution_count": null,
   "id": "7e5f4842-8e8f-45bd-9812-ab6e0e58ef45",
   "metadata": {},
   "outputs": [],
   "source": [
    "df_cell_count <- as.data.frame(obj.rna@meta.data) %>%\n",
    "    group_by(orig.ident) %>%\n",
    "    summarise(count = n()) %>%\n",
    "    arrange(desc(count))\n",
    "\n",
    "df_cell_count"
   ]
  },
  {
   "cell_type": "code",
   "execution_count": null,
   "id": "e1703103-142e-4abc-99fa-2ab65f47badf",
   "metadata": {},
   "outputs": [],
   "source": [
    "# we remove samples with less than 400 cells\n",
    "df_cell_count <- subset(df_cell_count, count > 400)\n",
    "obj.rna.sub <- subset(obj.rna, orig.ident %in% df_cell_count$orig.ident)"
   ]
  },
  {
   "cell_type": "code",
   "execution_count": null,
   "id": "1f73bdb0-52e4-4830-a216-c9bc00a32442",
   "metadata": {},
   "outputs": [],
   "source": [
    "obj.rna.sub"
   ]
  },
  {
   "cell_type": "code",
   "execution_count": null,
   "id": "f75f0608-ea8f-40ae-b8f9-a96efea656a8",
   "metadata": {},
   "outputs": [],
   "source": [
    "obj.rna.sub <- obj.rna.sub %>% \n",
    "        NormalizeData() %>%\n",
    "        FindVariableFeatures() %>%\n",
    "        ScaleData() %>%\n",
    "        RunPCA(verbose = FALSE) %>%\n",
    "        RunUMAP(dims = 1:30)"
   ]
  },
  {
   "cell_type": "code",
   "execution_count": null,
   "id": "40faa7b6-ce93-49f2-8953-b3d385672adb",
   "metadata": {},
   "outputs": [],
   "source": [
    "options(repr.plot.height = 5, repr.plot.width = 20)\n",
    "\n",
    "p1 <- DimPlot(obj.rna.sub, reduction = \"umap\", group.by = \"orig.ident\")\n",
    "p2 <- DimPlot(obj.rna.sub, reduction = \"umap\", group.by = \"patient\")\n",
    "p3 <- DimPlot(obj.rna.sub, reduction = \"umap\", group.by = \"region\")\n",
    "p4 <- DimPlot(obj.rna.sub, reduction = \"umap\", group.by = \"patient_group\", label = TRUE)\n",
    "\n",
    "patchwork::wrap_plots(list(p1, p2, p3, p4), nrow = 1)"
   ]
  },
  {
   "cell_type": "code",
   "execution_count": null,
   "id": "08569d93-0b4f-4040-ba39-45ec0bffcf3c",
   "metadata": {},
   "outputs": [],
   "source": [
    "obj.rna.sub <- RunHarmony(obj.rna.sub, \n",
    "                      group.by.vars = c(\"orig.ident\", \"patient\", \"region\", \"batch\"),\n",
    "                     reduction = \"pca\", \n",
    "                      max.iter.harmony = 30, \n",
    "                      dims.use = 1:30,\n",
    "                     project.dim = FALSE,\n",
    "                     plot_convergence = TRUE)\n",
    "\n",
    "\n",
    "obj.rna.sub <- RunUMAP(obj.rna.sub, \n",
    "               dims = 1:30, \n",
    "               reduction = 'harmony',\n",
    "               reduction.name = \"umap_harmony\",\n",
    "               reduction.ke = 'umapharmony_',\n",
    "              verbose = FALSE,\n",
    "                   min.dist = 0.4)"
   ]
  },
  {
   "cell_type": "code",
   "execution_count": null,
   "id": "2e6a6642-34e2-4066-89d3-7365e463a616",
   "metadata": {},
   "outputs": [],
   "source": [
    "options(repr.plot.height = 5, repr.plot.width = 20)\n",
    "\n",
    "p1 <- DimPlot(obj.rna.sub, reduction = \"umap_harmony\", group.by = \"orig.ident\")\n",
    "p2 <- DimPlot(obj.rna.sub, reduction = \"umap_harmony\", group.by = \"patient\")\n",
    "p3 <- DimPlot(obj.rna.sub, reduction = \"umap_harmony\", group.by = \"region\")\n",
    "p4 <- DimPlot(obj.rna.sub, reduction = \"umap_harmony\", group.by = \"patient_group\", label = TRUE)\n",
    "\n",
    "patchwork::wrap_plots(list(p1, p2, p3, p4), nrow = 1)"
   ]
  },
  {
   "cell_type": "code",
   "execution_count": null,
   "id": "ca5ae36f-58ef-4e62-ac96-4d7117f46669",
   "metadata": {},
   "outputs": [],
   "source": [
    "# opt_state_cols <- ArchR::paletteDiscrete(obj.rna$opt_state)"
   ]
  },
  {
   "cell_type": "code",
   "execution_count": null,
   "id": "853ac802-aab3-4641-addc-5fe79f118c6b",
   "metadata": {},
   "outputs": [],
   "source": [
    "# cols <- c(\"control_P1\" = \"#440154FF\", \"control_P18\" = \"#440154FF\", \n",
    "#           \"control_P7\" = \"#440154FF\", \"control_P8\" = \"#440154FF\",\n",
    "#          \"FZ_P15\" = \"#35B779FF\", \"FZ_P16\" = \"#35B779FF\",\n",
    "#          \"FZ_P17\" = \"#35B779FF\", \"FZ/GT_P16\" = \"#35B779FF\",\n",
    "#          \"FZ/GT_P4\" = \"#35B779FF\", \"GT/IZ_P10\" = \"#FDE725FF\",\n",
    "#          \"GT/IZ_P14\" = \"#FDE725FF\", \"IZ_P11\" = \"#FDE725FF\",\n",
    "#          \"IZ_P16\" = \"#FDE725FF\", \"IZ_P17\" = \"#FDE725FF\",\n",
    "#          \"IZ_P3\" = \"#FDE725FF\", \"IZ/BZ_P2\" = \"#FDE725FF\",\n",
    "#          \"IZ/GT_P10\" = \"#FDE725FF\", \"IZ/GT_P16\" = \"#FDE725FF\",\n",
    "#          \"RZ_P10\" = \"#31688EFF\", \"RZ_P12\" = \"#31688EFF\",\n",
    "#          \"RZ_P3\" = \"#31688EFF\", \"RZ_P6\" = \"#31688EFF\",\n",
    "#          \"RZ/BZ_P13\" = \"#31688EFF\", \"RZ/BZ_P2\" = \"#31688EFF\",\n",
    "#          \"RZ/BZ_P3\" = \"#31688EFF\", \"RZ/FZ_P5\" = \"#31688EFF\",\n",
    "#          \"RZ/GT_P9\" = \"#31688EFF\")"
   ]
  },
  {
   "cell_type": "code",
   "execution_count": null,
   "id": "a0141525-ccf9-4ab9-8a1b-8b9b06f0f241",
   "metadata": {},
   "outputs": [],
   "source": [
    "# df_ct <- obj.rna.sub@meta.data %>%\n",
    "#     as.data.frame() %>%\n",
    "#     group_by(patient, opt_state) %>%\n",
    "#     summarise(counts = n()) %>%\n",
    "#     mutate(cell_proportion = counts / sum(counts))\n",
    "\n",
    "# p <- ggplot(df_ct, aes(patient, cell_proportion, fill=opt_state)) + \n",
    "#     geom_bar(stat=\"identity\", position = position_stack(reverse = TRUE)) +\n",
    "#     scale_fill_manual(values = opt_state_cols) +\n",
    "#     theme_cowplot() +\n",
    "#     xlab(\"\") + ylab(\"\") +\n",
    "#     theme(axis.text.x = element_text(angle = 60, hjust = 1))\n",
    "    \n",
    "\n",
    "# options(repr.plot.width = 10, repr.plot.height = 6)\n",
    "\n",
    "# p"
   ]
  },
  {
   "cell_type": "code",
   "execution_count": null,
   "id": "991077e5-6c77-41c8-ba0f-44492a49b062",
   "metadata": {},
   "outputs": [],
   "source": [
    "suppressMessages(library(Nebulosa))\n",
    "\n",
    "options(repr.plot.height = 10, repr.plot.width = 10)\n",
    "\n",
    "p1 <- plot_density(obj.rna.sub, features=\"NPPA\", reduction=\"umap_harmony\")\n",
    "p2 <- plot_density(obj.rna.sub, features=\"NPPB\", reduction=\"umap_harmony\")\n",
    "p3 <- plot_density(obj.rna.sub, features=\"ANKRD1\", reduction=\"umap_harmony\")\n",
    "p4 <- plot_density(obj.rna.sub, features=\"MYO18B\", reduction=\"umap_harmony\")\n",
    "\n",
    "patchwork::wrap_plots(list(p1, p2, p3, p4), nrow = 2)"
   ]
  },
  {
   "cell_type": "code",
   "execution_count": null,
   "id": "ab8049ab-e7fd-4be4-aa24-35b9828036bf",
   "metadata": {},
   "outputs": [],
   "source": [
    "## find marker\n",
    "Idents(obj.rna.sub) <- \"opt_state\"\n",
    "\n",
    "all.markers <- FindAllMarkers(obj.rna.sub, only.pos = TRUE, min.pct = 0.25, logfc.threshold = 0.25)\n",
    "\n",
    "df <- all.markers %>%\n",
    "    group_by(cluster) %>%\n",
    "    slice_max(n = 10, order_by = avg_log2FC)\n",
    "\n",
    "# Dot plots - the size of the dot corresponds to the percentage of cells expressing the\n",
    "# feature in each cluster. The color represents the average expression level\n",
    "options(repr.plot.height = 4, repr.plot.width = 15)\n",
    "DotPlot(obj.rna.sub, features = df$gene) + RotatedAxis()\n",
    "\n",
    "if(!dir.exists(\"../data/snRNA\")){\n",
    "    dir.create(\"../data/snRNA\")\n",
    "}\n",
    "\n",
    "markerList <- split(all.markers, all.markers$cluster)\n",
    "\n",
    "for(i in 1:length(markerList)){\n",
    "    markerList[[i]] <- markerList[[i]][order(-markerList[[i]]$avg_log2FC), ]\n",
    "}\n",
    "\n",
    "WriteXLS::WriteXLS(markerList,\n",
    "                   ExcelFileName = \"../data/snRNA/MarkerGenes.xlsx\",\n",
    "                   SheetNames = names(markerList))\n",
    "\n",
    "saveRDS(all.markers, \"../data/snRNA/MarkerGenes.rds\")"
   ]
  },
  {
   "cell_type": "code",
   "execution_count": null,
   "id": "4fd06099-db7d-467e-9cce-c84c4deccfc7",
   "metadata": {},
   "outputs": [],
   "source": [
    "# df <- as.data.frame(obj.rna.sub@reductions$harmony@cell.embeddings)\n",
    "# data <- as.ExpressionSet(df)\n",
    "# dm <- DiffusionMap(data,\n",
    "#                    verbose = TRUE)\n",
    "# dpt <- DPT(dm)\n",
    "# plot(dpt)\n",
    "\n",
    "# embedding <- as.data.frame(dm)[, c(\"DC1\", \"DC2\")]\n",
    "# rownames(embedding) <- colnames(obj.rna.sub)\n",
    "# obj.rna.sub[['dm']] = CreateDimReducObject(embeddings = as.matrix(embedding),\n",
    "#                                               key = 'DC_',\n",
    "#                                               assay = 'RNA')\n",
    "# options(repr.plot.height = 8, repr.plot.width = 8)\n",
    "# DimPlot(obj.rna.sub, reduction = 'dm', pt.size = 0.5, group.by = \"opt_state\")"
   ]
  },
  {
   "cell_type": "code",
   "execution_count": null,
   "id": "c56f47b6-1759-4966-8e4e-64001636484a",
   "metadata": {},
   "outputs": [],
   "source": [
    "saveRDS(obj.rna.sub, \"../data/snRNA/snRNA.rds\")"
   ]
  },
  {
   "cell_type": "code",
   "execution_count": null,
   "id": "66f230d6-d984-4f7f-91e9-36786df618c1",
   "metadata": {},
   "outputs": [],
   "source": [
    "sessionInfo()"
   ]
  }
 ],
 "metadata": {
  "kernelspec": {
   "display_name": "R",
   "language": "R",
   "name": "ir"
  },
  "language_info": {
   "codemirror_mode": "r",
   "file_extension": ".r",
   "mimetype": "text/x-r-source",
   "name": "R",
   "pygments_lexer": "r",
   "version": "4.1.1"
  }
 },
 "nbformat": 4,
 "nbformat_minor": 5
}
