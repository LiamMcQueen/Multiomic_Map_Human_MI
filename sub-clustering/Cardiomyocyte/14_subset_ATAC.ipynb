{
 "cells": [
  {
   "cell_type": "code",
   "execution_count": 1,
   "id": "5917d297-0dd9-492d-bb68-f4252220375e",
   "metadata": {},
   "outputs": [],
   "source": [
    "suppressMessages(library(ArchR))\n",
    "suppressMessages(library(Seurat))\n",
    "suppressMessages(library(Signac))\n",
    "suppressMessages(library(harmony))\n",
    "suppressMessages(library(dplyr))\n",
    "suppressMessages(library(cowplot))\n",
    "suppressMessages(library(harmony))\n",
    "suppressMessages(library(Nebulosa))\n",
    "suppressMessages(library(ggpubr))\n",
    "suppressMessages(library(Ipaper))\n",
    "suppressMessages(library(phateR))\n",
    "suppressMessages(library(parallel))"
   ]
  },
  {
   "cell_type": "code",
   "execution_count": 2,
   "id": "7592945f-0fd8-484e-a641-bfd3947b8abe",
   "metadata": {},
   "outputs": [
    {
     "data": {
      "text/html": [
       "'/data/scATA/SingleCellOpenChromatin/local/VisiumHeartRevision/IntegrativeAnalysis/Cardiomyocyte/code'"
      ],
      "text/latex": [
       "'/data/scATA/SingleCellOpenChromatin/local/VisiumHeartRevision/IntegrativeAnalysis/Cardiomyocyte/code'"
      ],
      "text/markdown": [
       "'/data/scATA/SingleCellOpenChromatin/local/VisiumHeartRevision/IntegrativeAnalysis/Cardiomyocyte/code'"
      ],
      "text/plain": [
       "[1] \"/data/scATA/SingleCellOpenChromatin/local/VisiumHeartRevision/IntegrativeAnalysis/Cardiomyocyte/code\""
      ]
     },
     "metadata": {},
     "output_type": "display_data"
    },
    {
     "name": "stderr",
     "output_type": "stream",
     "text": [
      "Setting default number of Parallel threads to 126.\n",
      "\n",
      "Setting default genome to Hg38.\n",
      "\n"
     ]
    }
   ],
   "source": [
    "set.seed(42)\n",
    "getwd()\n",
    "\n",
    "addArchRThreads(threads = parallel::detectCores() - 2)\n",
    "addArchRGenome(\"hg38\")"
   ]
  },
  {
   "cell_type": "code",
   "execution_count": 3,
   "id": "29ba36a0-1f75-4d58-be2e-8420806d8329",
   "metadata": {},
   "outputs": [
    {
     "data": {
      "text/html": [
       "<table class=\"dataframe\">\n",
       "<caption>A data.frame: 6 × 3</caption>\n",
       "<thead>\n",
       "\t<tr><th></th><th scope=col>ATAC</th><th scope=col>RNA</th><th scope=col>cell_name</th></tr>\n",
       "\t<tr><th></th><th scope=col>&lt;chr&gt;</th><th scope=col>&lt;chr&gt;</th><th scope=col>&lt;chr&gt;</th></tr>\n",
       "</thead>\n",
       "<tbody>\n",
       "\t<tr><th scope=row>1</th><td>CK380#TGCACCTTCAGGGTTT-1</td><td>TTTCATGTCGACGTCG-1_1_1_1_1_1_1_1_1_1_1_1_1_1</td><td>cell-1</td></tr>\n",
       "\t<tr><th scope=row>2</th><td>CK173#AACCGATCATTGCCTC-1</td><td>TTGACCCGTACTGTTG-1_1_1_1_1_1                </td><td>cell-2</td></tr>\n",
       "\t<tr><th scope=row>3</th><td>CK338#TAACAGCTCCAGGTCG-1</td><td>GAAGTAACATGATCTG-1_1                        </td><td>cell-3</td></tr>\n",
       "\t<tr><th scope=row>4</th><td>CK340#CTCAGCTTCGACTTAG-1</td><td>GTCAGCGAGACCACGA-1_2_1_1_1_1_1_1_1_1_1_1_1  </td><td>cell-4</td></tr>\n",
       "\t<tr><th scope=row>5</th><td>CK385#GGGACCTTCTTCATAC-1</td><td>CATCGGGAGTCTAGCT-1_2_1_1_1_1_1_1_1_1_1_1_1  </td><td>cell-5</td></tr>\n",
       "\t<tr><th scope=row>6</th><td>CK340#AACCTTTGTCACAGTT-1</td><td>CATTCATCATTGGGAG-1_2_1_1_1_1_1_1_1_1_1      </td><td>cell-6</td></tr>\n",
       "</tbody>\n",
       "</table>\n"
      ],
      "text/latex": [
       "A data.frame: 6 × 3\n",
       "\\begin{tabular}{r|lll}\n",
       "  & ATAC & RNA & cell\\_name\\\\\n",
       "  & <chr> & <chr> & <chr>\\\\\n",
       "\\hline\n",
       "\t1 & CK380\\#TGCACCTTCAGGGTTT-1 & TTTCATGTCGACGTCG-1\\_1\\_1\\_1\\_1\\_1\\_1\\_1\\_1\\_1\\_1\\_1\\_1\\_1 & cell-1\\\\\n",
       "\t2 & CK173\\#AACCGATCATTGCCTC-1 & TTGACCCGTACTGTTG-1\\_1\\_1\\_1\\_1\\_1                 & cell-2\\\\\n",
       "\t3 & CK338\\#TAACAGCTCCAGGTCG-1 & GAAGTAACATGATCTG-1\\_1                         & cell-3\\\\\n",
       "\t4 & CK340\\#CTCAGCTTCGACTTAG-1 & GTCAGCGAGACCACGA-1\\_2\\_1\\_1\\_1\\_1\\_1\\_1\\_1\\_1\\_1\\_1\\_1   & cell-4\\\\\n",
       "\t5 & CK385\\#GGGACCTTCTTCATAC-1 & CATCGGGAGTCTAGCT-1\\_2\\_1\\_1\\_1\\_1\\_1\\_1\\_1\\_1\\_1\\_1\\_1   & cell-5\\\\\n",
       "\t6 & CK340\\#AACCTTTGTCACAGTT-1 & CATTCATCATTGGGAG-1\\_2\\_1\\_1\\_1\\_1\\_1\\_1\\_1\\_1\\_1       & cell-6\\\\\n",
       "\\end{tabular}\n"
      ],
      "text/markdown": [
       "\n",
       "A data.frame: 6 × 3\n",
       "\n",
       "| <!--/--> | ATAC &lt;chr&gt; | RNA &lt;chr&gt; | cell_name &lt;chr&gt; |\n",
       "|---|---|---|---|\n",
       "| 1 | CK380#TGCACCTTCAGGGTTT-1 | TTTCATGTCGACGTCG-1_1_1_1_1_1_1_1_1_1_1_1_1_1 | cell-1 |\n",
       "| 2 | CK173#AACCGATCATTGCCTC-1 | TTGACCCGTACTGTTG-1_1_1_1_1_1                 | cell-2 |\n",
       "| 3 | CK338#TAACAGCTCCAGGTCG-1 | GAAGTAACATGATCTG-1_1                         | cell-3 |\n",
       "| 4 | CK340#CTCAGCTTCGACTTAG-1 | GTCAGCGAGACCACGA-1_2_1_1_1_1_1_1_1_1_1_1_1   | cell-4 |\n",
       "| 5 | CK385#GGGACCTTCTTCATAC-1 | CATCGGGAGTCTAGCT-1_2_1_1_1_1_1_1_1_1_1_1_1   | cell-5 |\n",
       "| 6 | CK340#AACCTTTGTCACAGTT-1 | CATTCATCATTGGGAG-1_2_1_1_1_1_1_1_1_1_1       | cell-6 |\n",
       "\n"
      ],
      "text/plain": [
       "  ATAC                     RNA                                         \n",
       "1 CK380#TGCACCTTCAGGGTTT-1 TTTCATGTCGACGTCG-1_1_1_1_1_1_1_1_1_1_1_1_1_1\n",
       "2 CK173#AACCGATCATTGCCTC-1 TTGACCCGTACTGTTG-1_1_1_1_1_1                \n",
       "3 CK338#TAACAGCTCCAGGTCG-1 GAAGTAACATGATCTG-1_1                        \n",
       "4 CK340#CTCAGCTTCGACTTAG-1 GTCAGCGAGACCACGA-1_2_1_1_1_1_1_1_1_1_1_1_1  \n",
       "5 CK385#GGGACCTTCTTCATAC-1 CATCGGGAGTCTAGCT-1_2_1_1_1_1_1_1_1_1_1_1_1  \n",
       "6 CK340#AACCTTTGTCACAGTT-1 CATTCATCATTGGGAG-1_2_1_1_1_1_1_1_1_1_1      \n",
       "  cell_name\n",
       "1 cell-1   \n",
       "2 cell-2   \n",
       "3 cell-3   \n",
       "4 cell-4   \n",
       "5 cell-5   \n",
       "6 cell-6   "
      ]
     },
     "metadata": {},
     "output_type": "display_data"
    }
   ],
   "source": [
    "df.matching <- readRDS(\"../data/coembed/ATAC_RNA_matching.rds\")\n",
    "head(df.matching)"
   ]
  },
  {
   "cell_type": "code",
   "execution_count": 4,
   "id": "60842b5d-d2e6-4d76-a0e8-c28ea771a2ab",
   "metadata": {},
   "outputs": [
    {
     "name": "stderr",
     "output_type": "stream",
     "text": [
      "Warning message in Cells(x = value) == Cells(x = x):\n",
      "“longer object length is not a multiple of shorter object length”\n",
      "Warning message in Cells(x = value) == Cells(x = x):\n",
      "“longer object length is not a multiple of shorter object length”\n",
      "Warning message in Cells(x = value) == Cells(x = x):\n",
      "“longer object length is not a multiple of shorter object length”\n",
      "Warning message in Cells(x = value) == Cells(x = x):\n",
      "“longer object length is not a multiple of shorter object length”\n",
      "Warning message in Cells(x = value) == Cells(x = x):\n",
      "“longer object length is not a multiple of shorter object length”\n",
      "Warning message in Cells(x = value) == Cells(x = x):\n",
      "“longer object length is not a multiple of shorter object length”\n"
     ]
    }
   ],
   "source": [
    "coembed <- readRDS(\"../data/coembed/coembed.annotation.trajectory.Rds\")\n",
    "obj.atac <- coembed[, df.matching$ATAC]"
   ]
  },
  {
   "cell_type": "code",
   "execution_count": 5,
   "id": "32c814f1-929b-43fa-8c8f-2cd9c6c65063",
   "metadata": {},
   "outputs": [
    {
     "name": "stderr",
     "output_type": "stream",
     "text": [
      "Warning message in Cells(x = value) == Cells(x = x):\n",
      "“longer object length is not a multiple of shorter object length”\n",
      "Warning message in Cells(x = value) == Cells(x = x):\n",
      "“longer object length is not a multiple of shorter object length”\n",
      "Warning message in Cells(x = value) == Cells(x = x):\n",
      "“longer object length is not a multiple of shorter object length”\n",
      "Warning message in Cells(x = value) == Cells(x = x):\n",
      "“longer object length is not a multiple of shorter object length”\n",
      "Warning message in Cells(x = value) == Cells(x = x):\n",
      "“longer object length is not a multiple of shorter object length”\n",
      "Warning message in Cells(x = value) == Cells(x = x):\n",
      "“longer object length is not a multiple of shorter object length”\n"
     ]
    }
   ],
   "source": [
    "obj.atac <- obj.atac[, !is.na(obj.atac$healthy_intermediate_damaged)]"
   ]
  },
  {
   "cell_type": "code",
   "execution_count": 6,
   "id": "b515c862-493f-4d48-9a6d-59cd51acdfab",
   "metadata": {},
   "outputs": [
    {
     "data": {
      "text/plain": [
       "An object of class Seurat \n",
       "230075 features across 10689 samples within 3 assays \n",
       "Active assay: RNA (28933 features, 2000 variable features)\n",
       " 2 other assays present: peaks, GeneActivity\n",
       " 6 dimensional reductions calculated: pca, umap, harmony, umap_harmony, umap_harmony_v2, dm"
      ]
     },
     "metadata": {},
     "output_type": "display_data"
    }
   ],
   "source": [
    "obj.atac"
   ]
  },
  {
   "cell_type": "code",
   "execution_count": 7,
   "id": "079d39bb-7623-4efa-957d-c196947dd61c",
   "metadata": {},
   "outputs": [
    {
     "name": "stderr",
     "output_type": "stream",
     "text": [
      "Successfully loaded ArchRProject!\n",
      "\n",
      "Dropping ImputeWeights Since You Are Subsetting Cells! ImputeWeights is a cell-x-cell Matrix!\n",
      "\n",
      "Copying ArchRProject to new outputDirectory : /data/scATA/SingleCellOpenChromatin/local/VisiumHeartRevision/IntegrativeAnalysis/Cardiomyocyte/data/snATAC_healthy_intermediate_damaged\n",
      "\n",
      "Copying Arrow Files...\n",
      "\n",
      "Getting ImputeWeights\n",
      "\n",
      "No imputeWeights found, returning NULL\n",
      "\n",
      "Copying Other Files...\n",
      "\n",
      "Copying Other Files (1 of 14): cell_type_proportion.txt\n",
      "\n",
      "Copying Other Files (2 of 14): Embeddings\n",
      "\n",
      "Copying Other Files (3 of 14): GeneScoreMatrix.Rds\n",
      "\n",
      "Copying Other Files (4 of 14): GroupCoverages\n",
      "\n",
      "Copying Other Files (5 of 14): IterativeLSI\n",
      "\n",
      "Copying Other Files (6 of 14): marker_heatmap.Rds\n",
      "\n",
      "Copying Other Files (7 of 14): MarkerGenes.Rds\n",
      "\n",
      "Copying Other Files (8 of 14): MarkerGenes.xlsx\n",
      "\n",
      "Copying Other Files (9 of 14): metadata.csv\n",
      "\n",
      "Copying Other Files (10 of 14): PeakCalls\n",
      "\n",
      "Copying Other Files (11 of 14): PeakMatrix.Rds\n",
      "\n",
      "Copying Other Files (12 of 14): Plots\n",
      "\n",
      "Copying Other Files (13 of 14): snATAC.annotated.Rds\n",
      "\n",
      "Copying Other Files (14 of 14): snATAC.Rds\n",
      "\n",
      "Saving ArchRProject...\n",
      "\n",
      "Loading ArchRProject...\n",
      "\n",
      "Successfully loaded ArchRProject!\n",
      "\n",
      "\n",
      "                                                   / |\n",
      "                                                 /    \\\n",
      "            .                                  /      |.\n",
      "            \\\\\\                              /        |.\n",
      "              \\\\\\                          /           `|.\n",
      "                \\\\\\                      /              |.\n",
      "                  \\                    /                |\\\n",
      "                  \\\\#####\\           /                  ||\n",
      "                ==###########>      /                   ||\n",
      "                 \\\\##==......\\    /                     ||\n",
      "            ______ =       =|__ /__                     ||      \\\\\\\n",
      "        ,--' ,----`-,__ ___/'  --,-`-===================##========>\n",
      "       \\               '        ##_______ _____ ,--,__,=##,__   ///\n",
      "        ,    __==    ___,-,__,--'#'  ==='      `-'    | ##,-/\n",
      "        -,____,---'       \\\\####\\\\________________,--\\\\_##,/\n",
      "           ___      .______        ______  __    __  .______      \n",
      "          /   \\     |   _  \\      /      ||  |  |  | |   _  \\     \n",
      "         /  ^  \\    |  |_)  |    |  ,----'|  |__|  | |  |_)  |    \n",
      "        /  /_\\  \\   |      /     |  |     |   __   | |      /     \n",
      "       /  _____  \\  |  |\\  \\\\___ |  `----.|  |  |  | |  |\\  \\\\___.\n",
      "      /__/     \\__\\ | _| `._____| \\______||__|  |__| | _| `._____|\n",
      "    \n",
      "\n"
     ]
    }
   ],
   "source": [
    "## subset atac project\n",
    "proj <- loadArchRProject(\"../data/snATAC\", showLogo = FALSE)\n",
    "\n",
    "proj <- subsetArchRProject(proj, \n",
    "                           cells = colnames(obj.atac),\n",
    "                           outputDirectory = \"../data/snATAC_healthy_intermediate_damaged\",\n",
    "                           force = TRUE)"
   ]
  },
  {
   "cell_type": "code",
   "execution_count": 8,
   "id": "d707f236-5fb0-4be9-85ee-c8bf5f708dc8",
   "metadata": {},
   "outputs": [
    {
     "name": "stderr",
     "output_type": "stream",
     "text": [
      "\n",
      "           ___      .______        ______  __    __  .______      \n",
      "          /   \\     |   _  \\      /      ||  |  |  | |   _  \\     \n",
      "         /  ^  \\    |  |_)  |    |  ,----'|  |__|  | |  |_)  |    \n",
      "        /  /_\\  \\   |      /     |  |     |   __   | |      /     \n",
      "       /  _____  \\  |  |\\  \\\\___ |  `----.|  |  |  | |  |\\  \\\\___.\n",
      "      /__/     \\__\\ | _| `._____| \\______||__|  |__| | _| `._____|\n",
      "    \n",
      "\n"
     ]
    },
    {
     "data": {
      "text/plain": [
       "class: ArchRProject \n",
       "outputDirectory: /data/scATA/SingleCellOpenChromatin/local/VisiumHeartRevision/IntegrativeAnalysis/Cardiomyocyte/data/snATAC_healthy_intermediate_damaged \n",
       "samples(19): CK171 CK380 ... CK346 CK170\n",
       "sampleColData names(1): ArrowFiles\n",
       "cellColData names(22): Sample TSSEnrichment ... patient_region_id\n",
       "  patient_group\n",
       "numberOfCells(1): 10686\n",
       "medianTSS(1): 8.77\n",
       "medianFrags(1): 29285.5"
      ]
     },
     "metadata": {},
     "output_type": "display_data"
    }
   ],
   "source": [
    "proj"
   ]
  },
  {
   "cell_type": "code",
   "execution_count": 10,
   "id": "3ba57839-ef2f-488a-8880-51fa65215dc5",
   "metadata": {},
   "outputs": [
    {
     "name": "stderr",
     "output_type": "stream",
     "text": [
      "Overriding previous entry for annotation\n",
      "\n"
     ]
    }
   ],
   "source": [
    "## add cell states information\n",
    "meta.data <- as.data.frame(obj.atac@meta.data)\n",
    "meta.data <- meta.data[proj@cellColData@rownames, ]\n",
    "annotation <- meta.data$annotation\n",
    "\n",
    "proj <- addCellColData(proj, \n",
    "                       data = as.character(annotation), \n",
    "                        cells = rownames(meta.data),\n",
    "                       name = \"annotation\", \n",
    "                       force = TRUE)\n",
    "\n",
    "## add trajectory\n",
    "trajectory <- meta.data$healthy_intermediate_damaged\n",
    "proj <- addCellColData(proj, \n",
    "                       data = as.numeric(trajectory), \n",
    "                        cells = rownames(meta.data),\n",
    "                       name = \"healthy_intermediate_damaged\", \n",
    "                       force = TRUE)"
   ]
  },
  {
   "cell_type": "code",
   "execution_count": 11,
   "id": "7b35330b-cddf-49a7-bc09-bc4c1a1ddbf0",
   "metadata": {},
   "outputs": [],
   "source": [
    "## add harmony\n",
    "embedding <- obj.atac@reductions$harmony@cell.embeddings\n",
    "embedding <- embedding[rownames(proj), ]\n",
    "\n",
    "proj@reducedDims[[\"Harmony\"]] <- SimpleList(matDR = as.data.frame(embedding),\n",
    "                                      params = NULL,\n",
    "                                           date = Sys.time(),\n",
    "    scaleDims = NA, #Do not scale dims after\n",
    "    corToDepth = NA)"
   ]
  },
  {
   "cell_type": "code",
   "execution_count": 12,
   "id": "c9d48c42-650f-49ae-87a7-317297ddb245",
   "metadata": {},
   "outputs": [],
   "source": [
    "## add umap\n",
    "embedding <- obj.atac@reductions$umap_harmony_v2@cell.embeddings\n",
    "embedding <- embedding[rownames(proj), ]\n",
    "colnames(embedding) <- c(\"Harmony#UMAP_Dimension_1\",\n",
    "                         \"Harmony#UMAP_Dimension_2\")\n",
    "\n",
    "proj@embeddings[[\"umap\"]] <- SimpleList(df = as.data.frame(embedding),\n",
    "                                      params = NULL)"
   ]
  },
  {
   "cell_type": "code",
   "execution_count": 13,
   "id": "d44695ed-b36e-4e66-aa40-cde454ad3cbb",
   "metadata": {},
   "outputs": [],
   "source": [
    "## add dm\n",
    "embedding <- obj.atac@reductions$dm@cell.embeddings\n",
    "embedding <- embedding[rownames(proj), ]\n",
    "colnames(embedding) <- c(\"Harmony#DM_Dimension_1\",\n",
    "                         \"Harmony#DM_Dimension_2\")\n",
    "\n",
    "proj@embeddings[[\"dm\"]] <- SimpleList(df = as.data.frame(embedding),\n",
    "                                      params = NULL)"
   ]
  },
  {
   "cell_type": "code",
   "execution_count": null,
   "id": "3e2ae4e0-dc25-4ec8-bfbf-3ac98a9f542b",
   "metadata": {},
   "outputs": [],
   "source": [
    "## peak calling for each annotated cell state\n",
    "pathToMacs2 <- findMacs2()\n",
    "\n",
    "proj <- addGroupCoverages(ArchRProj = proj, groupBy = \"annotation\", force = TRUE)\n",
    "\n",
    "proj <- addReproduciblePeakSet(\n",
    "    ArchRProj = proj, \n",
    "    groupBy = \"annotation\", \n",
    "    pathToMacs2 = pathToMacs2\n",
    ")\n",
    "\n",
    "proj <- addPeakMatrix(proj, binarize = TRUE, force = TRUE)"
   ]
  },
  {
   "cell_type": "code",
   "execution_count": null,
   "id": "896a8d1d-d46e-40b5-89e5-3558197f57af",
   "metadata": {},
   "outputs": [],
   "source": [
    "## add chromVAR\n",
    "proj <- addMotifAnnotations(ArchRProj = proj, motifSet = \"JASPAR2020\", name = \"Motif\",\n",
    "                           force = TRUE)\n",
    "\n",
    "proj <- addBgdPeaks(proj, force = TRUE)\n",
    "\n",
    "proj <- addDeviationsMatrix(\n",
    "  ArchRProj = proj, \n",
    "  peakAnnotation = \"Motif\",\n",
    "  force = TRUE,\n",
    "    binarize = TRUE\n",
    ")"
   ]
  },
  {
   "cell_type": "code",
   "execution_count": null,
   "id": "1dc2bbdf-57b8-45a1-8db5-8a3ebdbaff67",
   "metadata": {},
   "outputs": [],
   "source": [
    "## add gene expression\n",
    "df.matching.sub <- df.matching %>%\n",
    "    dplyr::filter(ATAC %in% colnames(obj.atac))\n",
    "\n",
    "obj.rna <- subset(coembed[, df.matching.sub$RNA])\n",
    "\n",
    "obj.rna\n",
    "\n",
    "geneMatrix <- getMatrixFromProject(ArchRProj = proj,\n",
    "                                   useMatrix = \"GeneScoreMatrix\")\n",
    "\n",
    "gex.mat <- as.matrix(obj.rna@assays$RNA@counts)\n",
    "colnames(gex.mat) <- df.matching.sub$ATAC\n",
    "\n",
    "rowRanges <- rowData(geneMatrix)\n",
    "sel_genes <- intersect(rownames(gex.mat), rowRanges$name)\n",
    "\n",
    "length(sel_genes)\n",
    "\n",
    "gex.mat <- gex.mat[sel_genes, ]\n",
    "rownames(rowRanges) <- rowRanges$name\n",
    "rowRanges <- rowRanges[sel_genes, ]\n",
    "\n",
    "rowRanges <- GRanges(rowRanges$seqnames,\n",
    "                     IRanges(start = as.numeric(rowRanges$start),\n",
    "                             end = as.numeric(rowRanges$start) + 1))\n",
    "\n",
    "seRNA <- SummarizedExperiment(assays = SimpleList(counts = gex.mat),\n",
    "                              rowRanges = rowRanges)\n",
    "\n",
    "proj <- addGeneExpressionMatrix(proj,\n",
    "                                seRNA = seRNA,\n",
    "                                force = TRUE)"
   ]
  },
  {
   "cell_type": "code",
   "execution_count": null,
   "id": "7c5a59a8-970f-4a69-9784-ac6aa18212c9",
   "metadata": {},
   "outputs": [],
   "source": [
    "saveRDS(obj.atac, file = \"../data/snATAC_healthy_intermediate_damaged/snATAC.Rds\")\n",
    "\n",
    "saveArchRProject(ArchRProj = proj, \n",
    "                 load = FALSE)"
   ]
  },
  {
   "cell_type": "code",
   "execution_count": null,
   "id": "0f688aa4-7bd1-45c1-94d3-401561018769",
   "metadata": {},
   "outputs": [],
   "source": [
    "sessionInfo()"
   ]
  }
 ],
 "metadata": {
  "kernelspec": {
   "display_name": "R",
   "language": "R",
   "name": "ir"
  },
  "language_info": {
   "codemirror_mode": "r",
   "file_extension": ".r",
   "mimetype": "text/x-r-source",
   "name": "R",
   "pygments_lexer": "r",
   "version": "4.1.1"
  }
 },
 "nbformat": 4,
 "nbformat_minor": 5
}
