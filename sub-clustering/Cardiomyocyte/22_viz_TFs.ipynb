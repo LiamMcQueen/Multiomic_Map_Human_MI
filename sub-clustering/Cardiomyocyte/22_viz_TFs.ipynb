{
 "cells": [
  {
   "cell_type": "code",
   "execution_count": 3,
   "id": "ae84b656-3a93-450f-aca9-34225935b82b",
   "metadata": {},
   "outputs": [],
   "source": [
    "options(warn=-1)\n",
    "\n",
    "suppressMessages(library(ArchR))\n",
    "suppressMessages(library(Seurat))\n",
    "suppressMessages(library(Signac))\n",
    "suppressMessages(library(harmony))\n",
    "suppressMessages(library(dplyr))\n",
    "suppressMessages(library(cowplot))\n",
    "suppressMessages(library(harmony))\n",
    "suppressMessages(library(Nebulosa))\n",
    "suppressMessages(library(ggpubr))\n",
    "suppressMessages(library(Ipaper))\n",
    "suppressMessages(library(phateR))\n",
    "suppressMessages(library(parallel))\n",
    "suppressMessages(library(ggrepel))\n",
    "suppressMessages(library(circlize))"
   ]
  },
  {
   "cell_type": "code",
   "execution_count": 4,
   "id": "415cd453-e87f-4df0-8f34-fb4e4e3dfe1d",
   "metadata": {},
   "outputs": [
    {
     "data": {
      "text/html": [
       "'/data/scATA/SingleCellOpenChromatin/local/VisiumHeartRevision/IntegrativeAnalysis/Cardiomyocyte/code'"
      ],
      "text/latex": [
       "'/data/scATA/SingleCellOpenChromatin/local/VisiumHeartRevision/IntegrativeAnalysis/Cardiomyocyte/code'"
      ],
      "text/markdown": [
       "'/data/scATA/SingleCellOpenChromatin/local/VisiumHeartRevision/IntegrativeAnalysis/Cardiomyocyte/code'"
      ],
      "text/plain": [
       "[1] \"/data/scATA/SingleCellOpenChromatin/local/VisiumHeartRevision/IntegrativeAnalysis/Cardiomyocyte/code\""
      ]
     },
     "metadata": {},
     "output_type": "display_data"
    },
    {
     "name": "stderr",
     "output_type": "stream",
     "text": [
      "Setting default number of Parallel threads to 126.\n",
      "\n",
      "Setting default genome to Hg38.\n",
      "\n"
     ]
    }
   ],
   "source": [
    "set.seed(42)\n",
    "getwd()\n",
    "\n",
    "addArchRThreads(threads = parallel::detectCores() - 2)\n",
    "addArchRGenome(\"hg38\")"
   ]
  },
  {
   "cell_type": "code",
   "execution_count": 3,
   "id": "3ec986ac-fe7f-45d0-8625-28baf4d3c02d",
   "metadata": {},
   "outputs": [
    {
     "name": "stderr",
     "output_type": "stream",
     "text": [
      "Successfully loaded ArchRProject!\n",
      "\n"
     ]
    }
   ],
   "source": [
    "## subset atac project\n",
    "proj <- loadArchRProject(\"../data/snATAC_healthy_intermediate_damaged\", showLogo = FALSE)"
   ]
  },
  {
   "cell_type": "code",
   "execution_count": 4,
   "id": "dfe6d79c-0282-4835-92ba-5e3c7263dc24",
   "metadata": {},
   "outputs": [
    {
     "data": {
      "text/html": [
       "<table class=\"dataframe\">\n",
       "<caption>A data.frame: 6 × 12</caption>\n",
       "<thead>\n",
       "\t<tr><th></th><th scope=col>idx1</th><th scope=col>idx2</th><th scope=col>matchname1</th><th scope=col>matchname2</th><th scope=col>name1</th><th scope=col>name2</th><th scope=col>Correlation</th><th scope=col>VarAssay1</th><th scope=col>VarAssay2</th><th scope=col>TStat</th><th scope=col>Pval</th><th scope=col>FDR</th></tr>\n",
       "\t<tr><th></th><th scope=col>&lt;int&gt;</th><th scope=col>&lt;int&gt;</th><th scope=col>&lt;chr&gt;</th><th scope=col>&lt;chr&gt;</th><th scope=col>&lt;chr&gt;</th><th scope=col>&lt;chr&gt;</th><th scope=col>&lt;dbl&gt;</th><th scope=col>&lt;dbl&gt;</th><th scope=col>&lt;dbl&gt;</th><th scope=col>&lt;dbl&gt;</th><th scope=col>&lt;dbl&gt;</th><th scope=col>&lt;dbl&gt;</th></tr>\n",
       "</thead>\n",
       "<tbody>\n",
       "\t<tr><th scope=row>3</th><td> 9</td><td> 6062</td><td>RORA  </td><td>RORA  </td><td>z:RORA_9   </td><td>chr15:RORA  </td><td>0.3588709</td><td>0.584518167</td><td>0.9259434</td><td>3.806181</td><td>2.458795e-04</td><td>0.005185823</td></tr>\n",
       "\t<tr><th scope=row>4</th><td>16</td><td>10193</td><td>REL   </td><td>REL   </td><td>z:REL_16   </td><td>chr2:REL    </td><td>0.1525305</td><td>0.426540284</td><td>0.6444339</td><td>1.527853</td><td>1.297703e-01</td><td>0.431544539</td></tr>\n",
       "\t<tr><th scope=row>5</th><td>17</td><td> 3251</td><td>RELA  </td><td>RELA  </td><td>z:RELA_17  </td><td>chr11:RELA  </td><td>0.1030552</td><td>0.420221169</td><td>0.5125618</td><td>1.025655</td><td>3.075792e-01</td><td>0.659329184</td></tr>\n",
       "\t<tr><th scope=row>8</th><td>24</td><td>11533</td><td>NFATC2</td><td>NFATC2</td><td>z:NFATC2_24</td><td>chr20:NFATC2</td><td>0.1059962</td><td>0.731437599</td><td>0.7432461</td><td>1.055253</td><td>2.939041e-01</td><td>0.646310540</td></tr>\n",
       "\t<tr><th scope=row>12</th><td>32</td><td>10042</td><td>FOSL2 </td><td>FOSL2 </td><td>z:FOSL2_32 </td><td>chr2:FOSL2  </td><td>0.3869445</td><td>0.995260664</td><td>0.9255230</td><td>4.154151</td><td>6.982884e-05</td><td>0.002025036</td></tr>\n",
       "\t<tr><th scope=row>13</th><td>33</td><td>17643</td><td>FOXH1 </td><td>FOXH1 </td><td>z:FOXH1_33 </td><td>chr8:FOXH1  </td><td>0.2004729</td><td>0.007898894</td><td>0.9359298</td><td>2.025703</td><td>4.551371e-02</td><td>0.242739770</td></tr>\n",
       "</tbody>\n",
       "</table>\n"
      ],
      "text/latex": [
       "A data.frame: 6 × 12\n",
       "\\begin{tabular}{r|llllllllllll}\n",
       "  & idx1 & idx2 & matchname1 & matchname2 & name1 & name2 & Correlation & VarAssay1 & VarAssay2 & TStat & Pval & FDR\\\\\n",
       "  & <int> & <int> & <chr> & <chr> & <chr> & <chr> & <dbl> & <dbl> & <dbl> & <dbl> & <dbl> & <dbl>\\\\\n",
       "\\hline\n",
       "\t3 &  9 &  6062 & RORA   & RORA   & z:RORA\\_9    & chr15:RORA   & 0.3588709 & 0.584518167 & 0.9259434 & 3.806181 & 2.458795e-04 & 0.005185823\\\\\n",
       "\t4 & 16 & 10193 & REL    & REL    & z:REL\\_16    & chr2:REL     & 0.1525305 & 0.426540284 & 0.6444339 & 1.527853 & 1.297703e-01 & 0.431544539\\\\\n",
       "\t5 & 17 &  3251 & RELA   & RELA   & z:RELA\\_17   & chr11:RELA   & 0.1030552 & 0.420221169 & 0.5125618 & 1.025655 & 3.075792e-01 & 0.659329184\\\\\n",
       "\t8 & 24 & 11533 & NFATC2 & NFATC2 & z:NFATC2\\_24 & chr20:NFATC2 & 0.1059962 & 0.731437599 & 0.7432461 & 1.055253 & 2.939041e-01 & 0.646310540\\\\\n",
       "\t12 & 32 & 10042 & FOSL2  & FOSL2  & z:FOSL2\\_32  & chr2:FOSL2   & 0.3869445 & 0.995260664 & 0.9255230 & 4.154151 & 6.982884e-05 & 0.002025036\\\\\n",
       "\t13 & 33 & 17643 & FOXH1  & FOXH1  & z:FOXH1\\_33  & chr8:FOXH1   & 0.2004729 & 0.007898894 & 0.9359298 & 2.025703 & 4.551371e-02 & 0.242739770\\\\\n",
       "\\end{tabular}\n"
      ],
      "text/markdown": [
       "\n",
       "A data.frame: 6 × 12\n",
       "\n",
       "| <!--/--> | idx1 &lt;int&gt; | idx2 &lt;int&gt; | matchname1 &lt;chr&gt; | matchname2 &lt;chr&gt; | name1 &lt;chr&gt; | name2 &lt;chr&gt; | Correlation &lt;dbl&gt; | VarAssay1 &lt;dbl&gt; | VarAssay2 &lt;dbl&gt; | TStat &lt;dbl&gt; | Pval &lt;dbl&gt; | FDR &lt;dbl&gt; |\n",
       "|---|---|---|---|---|---|---|---|---|---|---|---|---|\n",
       "| 3 |  9 |  6062 | RORA   | RORA   | z:RORA_9    | chr15:RORA   | 0.3588709 | 0.584518167 | 0.9259434 | 3.806181 | 2.458795e-04 | 0.005185823 |\n",
       "| 4 | 16 | 10193 | REL    | REL    | z:REL_16    | chr2:REL     | 0.1525305 | 0.426540284 | 0.6444339 | 1.527853 | 1.297703e-01 | 0.431544539 |\n",
       "| 5 | 17 |  3251 | RELA   | RELA   | z:RELA_17   | chr11:RELA   | 0.1030552 | 0.420221169 | 0.5125618 | 1.025655 | 3.075792e-01 | 0.659329184 |\n",
       "| 8 | 24 | 11533 | NFATC2 | NFATC2 | z:NFATC2_24 | chr20:NFATC2 | 0.1059962 | 0.731437599 | 0.7432461 | 1.055253 | 2.939041e-01 | 0.646310540 |\n",
       "| 12 | 32 | 10042 | FOSL2  | FOSL2  | z:FOSL2_32  | chr2:FOSL2   | 0.3869445 | 0.995260664 | 0.9255230 | 4.154151 | 6.982884e-05 | 0.002025036 |\n",
       "| 13 | 33 | 17643 | FOXH1  | FOXH1  | z:FOXH1_33  | chr8:FOXH1   | 0.2004729 | 0.007898894 | 0.9359298 | 2.025703 | 4.551371e-02 | 0.242739770 |\n",
       "\n"
      ],
      "text/plain": [
       "   idx1 idx2  matchname1 matchname2 name1       name2        Correlation\n",
       "3   9    6062 RORA       RORA       z:RORA_9    chr15:RORA   0.3588709  \n",
       "4  16   10193 REL        REL        z:REL_16    chr2:REL     0.1525305  \n",
       "5  17    3251 RELA       RELA       z:RELA_17   chr11:RELA   0.1030552  \n",
       "8  24   11533 NFATC2     NFATC2     z:NFATC2_24 chr20:NFATC2 0.1059962  \n",
       "12 32   10042 FOSL2      FOSL2      z:FOSL2_32  chr2:FOSL2   0.3869445  \n",
       "13 33   17643 FOXH1      FOXH1      z:FOXH1_33  chr8:FOXH1   0.2004729  \n",
       "   VarAssay1   VarAssay2 TStat    Pval         FDR        \n",
       "3  0.584518167 0.9259434 3.806181 2.458795e-04 0.005185823\n",
       "4  0.426540284 0.6444339 1.527853 1.297703e-01 0.431544539\n",
       "5  0.420221169 0.5125618 1.025655 3.075792e-01 0.659329184\n",
       "8  0.731437599 0.7432461 1.055253 2.939041e-01 0.646310540\n",
       "12 0.995260664 0.9255230 4.154151 6.982884e-05 0.002025036\n",
       "13 0.007898894 0.9359298 2.025703 4.551371e-02 0.242739770"
      ]
     },
     "metadata": {},
     "output_type": "display_data"
    }
   ],
   "source": [
    "## we first plot the activity and expression of the selected TFs\n",
    "df_tf <- read.csv(\"../data/snATAC_healthy_intermediate_damaged/sel_tf_by_expression.csv\", row.names = 1)"
   ]
  },
  {
   "cell_type": "code",
   "execution_count": 7,
   "id": "862d01a6-d81a-4334-878c-6e3823be6084",
   "metadata": {},
   "outputs": [
    {
     "name": "stderr",
     "output_type": "stream",
     "text": [
      "Creating Trajectory Group Matrix..\n",
      "\n",
      "Smoothing...\n",
      "\n",
      "ArchR logging to : ArchRLogs/ArchR-plotTrajectoryHeatmap-3f6ff53dbd05b4-Date-2022-02-09_Time-18-40-26.log\n",
      "If there is an issue, please report to github with logFile!\n",
      "\n",
      "useSeqnames is NULL or greater than 1 with a Sparse.Assays.Matrix trajectory input.\n",
      "\n",
      "2022-02-09 18:40:26 : \n",
      "\n",
      "force=FALSE thus continuing with subsetting useSeqnames = z\n",
      "\n",
      "2022-02-09 18:40:26 : \n",
      "\n",
      "Preparing Main Heatmap..\n",
      "\n",
      "'magick' package is suggested to install to give better rasterization.\n",
      "\n",
      "Set `ht_opt$message = FALSE` to turn off this message.\n",
      "\n",
      "ArchR logging successful to : ArchRLogs/ArchR-plotTrajectoryHeatmap-3f6ff53dbd05b4-Date-2022-02-09_Time-18-40-26.log\n",
      "\n"
     ]
    },
    {
     "data": {
      "text/html": [
       "<table class=\"dataframe\">\n",
       "<caption>A tibble: 6 × 3</caption>\n",
       "<thead>\n",
       "\t<tr><th scope=col>tf</th><th scope=col>pseudotime</th><th scope=col>tf_activity</th></tr>\n",
       "\t<tr><th scope=col>&lt;chr&gt;</th><th scope=col>&lt;dbl&gt;</th><th scope=col>&lt;dbl&gt;</th></tr>\n",
       "</thead>\n",
       "<tbody>\n",
       "\t<tr><td>RORA</td><td>1</td><td>-0.6714971</td></tr>\n",
       "\t<tr><td>RORA</td><td>2</td><td>-0.6714971</td></tr>\n",
       "\t<tr><td>RORA</td><td>3</td><td>-0.6714971</td></tr>\n",
       "\t<tr><td>RORA</td><td>4</td><td>-0.6714971</td></tr>\n",
       "\t<tr><td>RORA</td><td>5</td><td>-0.6714971</td></tr>\n",
       "\t<tr><td>RORA</td><td>6</td><td>-0.6714971</td></tr>\n",
       "</tbody>\n",
       "</table>\n"
      ],
      "text/latex": [
       "A tibble: 6 × 3\n",
       "\\begin{tabular}{lll}\n",
       " tf & pseudotime & tf\\_activity\\\\\n",
       " <chr> & <dbl> & <dbl>\\\\\n",
       "\\hline\n",
       "\t RORA & 1 & -0.6714971\\\\\n",
       "\t RORA & 2 & -0.6714971\\\\\n",
       "\t RORA & 3 & -0.6714971\\\\\n",
       "\t RORA & 4 & -0.6714971\\\\\n",
       "\t RORA & 5 & -0.6714971\\\\\n",
       "\t RORA & 6 & -0.6714971\\\\\n",
       "\\end{tabular}\n"
      ],
      "text/markdown": [
       "\n",
       "A tibble: 6 × 3\n",
       "\n",
       "| tf &lt;chr&gt; | pseudotime &lt;dbl&gt; | tf_activity &lt;dbl&gt; |\n",
       "|---|---|---|\n",
       "| RORA | 1 | -0.6714971 |\n",
       "| RORA | 2 | -0.6714971 |\n",
       "| RORA | 3 | -0.6714971 |\n",
       "| RORA | 4 | -0.6714971 |\n",
       "| RORA | 5 | -0.6714971 |\n",
       "| RORA | 6 | -0.6714971 |\n",
       "\n"
      ],
      "text/plain": [
       "  tf   pseudotime tf_activity\n",
       "1 RORA 1          -0.6714971 \n",
       "2 RORA 2          -0.6714971 \n",
       "3 RORA 3          -0.6714971 \n",
       "4 RORA 4          -0.6714971 \n",
       "5 RORA 5          -0.6714971 \n",
       "6 RORA 6          -0.6714971 "
      ]
     },
     "metadata": {},
     "output_type": "display_data"
    }
   ],
   "source": [
    "## obtain tf activity along the trajectory\n",
    "trajMM  <- getTrajectory(ArchRProj = proj,\n",
    "                         name = \"healthy_intermediate_damaged\",\n",
    "                         useMatrix = \"MotifMatrix\",\n",
    "                         log2Norm = FALSE,\n",
    "                         scaleTo = NULL,\n",
    "                        smoothWindow = 11)\n",
    "\n",
    "trajMM <- trajMM[!grepl(\"deviations\", rownames(trajMM)), ]\n",
    "\n",
    "matMM <- plotTrajectoryHeatmap(trajMM, \n",
    "                            varCutOff = 0,\n",
    "                            pal = paletteContinuous(set = \"solarExtra\"),\n",
    "                            limits = c(-2, 2),\n",
    "                              returnMatrix = TRUE)\n",
    "\n",
    "df_motif_activity <- as.data.frame(matMM[df_tf$name1, ]) \n",
    "colnames(df_motif_activity) <- 1:100\n",
    "df_motif_activity$tf <- rownames(df_motif_activity)\n",
    "\n",
    "df_motif_activity2 <- tidyr::pivot_longer(df_motif_activity, -tf, names_to = \"pseudotime\", values_to = \"tf_activity\")\n",
    "\n",
    "df_motif_activity2$pseudotime <- as.numeric(df_motif_activity2$pseudotime)\n",
    "df_motif_activity2$tf <- stringr::str_split_fixed(df_motif_activity2$tf, \":|_\", 3)[, 2]"
   ]
  },
  {
   "cell_type": "code",
   "execution_count": 8,
   "id": "0feda574-1b4b-4e93-b09f-f2d603502edc",
   "metadata": {},
   "outputs": [
    {
     "name": "stderr",
     "output_type": "stream",
     "text": [
      "Creating Trajectory Group Matrix..\n",
      "\n",
      "Smoothing...\n",
      "\n",
      "ArchR logging to : ArchRLogs/ArchR-plotTrajectoryHeatmap-3f6ff5620ce895-Date-2022-02-09_Time-18-42-12.log\n",
      "If there is an issue, please report to github with logFile!\n",
      "\n",
      "Preparing Main Heatmap..\n",
      "\n",
      "'magick' package is suggested to install to give better rasterization.\n",
      "\n",
      "Set `ht_opt$message = FALSE` to turn off this message.\n",
      "\n",
      "ArchR logging successful to : ArchRLogs/ArchR-plotTrajectoryHeatmap-3f6ff5620ce895-Date-2022-02-09_Time-18-42-12.log\n",
      "\n"
     ]
    }
   ],
   "source": [
    "trajGEX <- getTrajectory(ArchRProj = proj,\n",
    "                         name = \"healthy_intermediate_damaged\",\n",
    "                         useMatrix = \"GeneExpressionMatrix\",\n",
    "                         log2Norm = TRUE,\n",
    "                        smoothWindow = 11)\n",
    "\n",
    "trajGEX <- trajGEX[df_tf$name2, ]\n",
    "\n",
    "gene_expression <- plotTrajectoryHeatmap(trajGEX,\n",
    "                        varCutOff = 0,\n",
    "                        pal = paletteContinuous(set = \"horizonExtra\"),\n",
    "                        limits = c(-2, 2),\n",
    "                                         returnMatrix = TRUE)\n",
    "\n",
    "df_gene_expression <- as.data.frame(gene_expression) \n",
    "colnames(df_gene_expression) <- 1:100\n",
    "df_gene_expression$tf <- rownames(df_gene_expression)\n",
    "\n",
    "df_gene_expression2 <- tidyr::pivot_longer(df_gene_expression, -tf, names_to = \"pseudotime\", values_to = \"tf_expression\")\n",
    "\n",
    "df_gene_expression2$pseudotime <- as.numeric(df_gene_expression2$pseudotime)\n",
    "df_gene_expression2$tf <- stringr::str_split_fixed(df_gene_expression2$tf, \":\", 2)[, 2]"
   ]
  },
  {
   "cell_type": "code",
   "execution_count": 49,
   "id": "605a4eb3-6186-444d-9ba6-312b2178c159",
   "metadata": {},
   "outputs": [
    {
     "name": "stderr",
     "output_type": "stream",
     "text": [
      "`geom_smooth()` using formula 'y ~ x'\n",
      "\n",
      "`geom_smooth()` using formula 'y ~ x'\n",
      "\n",
      "`geom_smooth()` using formula 'y ~ x'\n",
      "\n",
      "`geom_smooth()` using formula 'y ~ x'\n",
      "\n",
      "`geom_smooth()` using formula 'y ~ x'\n",
      "\n",
      "`geom_smooth()` using formula 'y ~ x'\n",
      "\n",
      "`geom_smooth()` using formula 'y ~ x'\n",
      "\n",
      "`geom_smooth()` using formula 'y ~ x'\n",
      "\n",
      "`geom_smooth()` using formula 'y ~ x'\n",
      "\n",
      "`geom_smooth()` using formula 'y ~ x'\n",
      "\n",
      "`geom_smooth()` using formula 'y ~ x'\n",
      "\n",
      "`geom_smooth()` using formula 'y ~ x'\n",
      "\n",
      "`geom_smooth()` using formula 'y ~ x'\n",
      "\n",
      "`geom_smooth()` using formula 'y ~ x'\n",
      "\n",
      "`geom_smooth()` using formula 'y ~ x'\n",
      "\n",
      "`geom_smooth()` using formula 'y ~ x'\n",
      "\n",
      "`geom_smooth()` using formula 'y ~ x'\n",
      "\n",
      "`geom_smooth()` using formula 'y ~ x'\n",
      "\n",
      "`geom_smooth()` using formula 'y ~ x'\n",
      "\n",
      "`geom_smooth()` using formula 'y ~ x'\n",
      "\n",
      "`geom_smooth()` using formula 'y ~ x'\n",
      "\n",
      "`geom_smooth()` using formula 'y ~ x'\n",
      "\n",
      "`geom_smooth()` using formula 'y ~ x'\n",
      "\n",
      "`geom_smooth()` using formula 'y ~ x'\n",
      "\n",
      "`geom_smooth()` using formula 'y ~ x'\n",
      "\n",
      "`geom_smooth()` using formula 'y ~ x'\n",
      "\n",
      "`geom_smooth()` using formula 'y ~ x'\n",
      "\n",
      "`geom_smooth()` using formula 'y ~ x'\n",
      "\n",
      "`geom_smooth()` using formula 'y ~ x'\n",
      "\n",
      "`geom_smooth()` using formula 'y ~ x'\n",
      "\n",
      "`geom_smooth()` using formula 'y ~ x'\n",
      "\n",
      "`geom_smooth()` using formula 'y ~ x'\n",
      "\n",
      "`geom_smooth()` using formula 'y ~ x'\n",
      "\n",
      "`geom_smooth()` using formula 'y ~ x'\n",
      "\n",
      "`geom_smooth()` using formula 'y ~ x'\n",
      "\n",
      "`geom_smooth()` using formula 'y ~ x'\n",
      "\n",
      "`geom_smooth()` using formula 'y ~ x'\n",
      "\n",
      "`geom_smooth()` using formula 'y ~ x'\n",
      "\n",
      "`geom_smooth()` using formula 'y ~ x'\n",
      "\n",
      "`geom_smooth()` using formula 'y ~ x'\n",
      "\n",
      "`geom_smooth()` using formula 'y ~ x'\n",
      "\n",
      "`geom_smooth()` using formula 'y ~ x'\n",
      "\n",
      "`geom_smooth()` using formula 'y ~ x'\n",
      "\n",
      "`geom_smooth()` using formula 'y ~ x'\n",
      "\n",
      "`geom_smooth()` using formula 'y ~ x'\n",
      "\n",
      "`geom_smooth()` using formula 'y ~ x'\n",
      "\n",
      "`geom_smooth()` using formula 'y ~ x'\n",
      "\n",
      "`geom_smooth()` using formula 'y ~ x'\n",
      "\n",
      "`geom_smooth()` using formula 'y ~ x'\n",
      "\n",
      "`geom_smooth()` using formula 'y ~ x'\n",
      "\n",
      "`geom_smooth()` using formula 'y ~ x'\n",
      "\n",
      "`geom_smooth()` using formula 'y ~ x'\n",
      "\n",
      "`geom_smooth()` using formula 'y ~ x'\n",
      "\n",
      "`geom_smooth()` using formula 'y ~ x'\n",
      "\n",
      "`geom_smooth()` using formula 'y ~ x'\n",
      "\n",
      "`geom_smooth()` using formula 'y ~ x'\n",
      "\n",
      "`geom_smooth()` using formula 'y ~ x'\n",
      "\n",
      "`geom_smooth()` using formula 'y ~ x'\n",
      "\n",
      "`geom_smooth()` using formula 'y ~ x'\n",
      "\n",
      "`geom_smooth()` using formula 'y ~ x'\n",
      "\n",
      "`geom_smooth()` using formula 'y ~ x'\n",
      "\n",
      "`geom_smooth()` using formula 'y ~ x'\n",
      "\n",
      "`geom_smooth()` using formula 'y ~ x'\n",
      "\n",
      "`geom_smooth()` using formula 'y ~ x'\n",
      "\n",
      "`geom_smooth()` using formula 'y ~ x'\n",
      "\n"
     ]
    }
   ],
   "source": [
    "if(!dir.exists(\"../data/snATAC_healthy_intermediate_damaged/VisGRN_V2/TF\")){\n",
    "    dir.create(\"../data/snATAC_healthy_intermediate_damaged/VisGRN_V2/TF\", recursive = TRUE)\n",
    "}\n",
    "\n",
    "write.csv(df_motif_activity2, \"../data/snATAC_healthy_intermediate_damaged/VisGRN_V2/TF_activity.csv\")\n",
    "write.csv(df_gene_expression2, \"../data/snATAC_healthy_intermediate_damaged/VisGRN_V2/TF_expression.csv\")\n",
    "\n",
    "for(sel_tf in unique(df_motif_activity2$tf)){\n",
    "        df_plot1 <- subset(df_motif_activity2, tf == sel_tf) %>%\n",
    "            rename(value = tf_activity) %>%\n",
    "            mutate(value = scale(value)) %>%\n",
    "            mutate(data = \"Activity\")\n",
    "\n",
    "        \n",
    "        df_plot2 <- subset(df_gene_expression2, tf == sel_tf) %>%\n",
    "            rename(value = tf_expression)%>%\n",
    "            mutate(value = scale(value)) %>%\n",
    "            mutate(data = \"Expression\")\n",
    "        \n",
    "        df_plot <- rbind(df_plot1, df_plot2)\n",
    "        \n",
    "        p <- ggplot(data = df_plot, aes(x = pseudotime, y = value, color = data)) +\n",
    "        geom_smooth(method = \"loess\",se = FALSE) +\n",
    "        theme_cowplot() +\n",
    "        theme(legend.title = element_blank())\n",
    "    \n",
    "         ggsave(glue::glue(\"../data/snATAC_healthy_intermediate_damaged/VisGRN_V2/TF/{sel_tf}.pdf\"),\n",
    "                  plot = p, height = 3, width = 5)\n",
    "        \n",
    "}"
   ]
  },
  {
   "cell_type": "code",
   "execution_count": 1,
   "id": "3cdff57c-21b2-4143-91aa-02422b198146",
   "metadata": {},
   "outputs": [
    {
     "data": {
      "text/html": [
       "<table class=\"dataframe\">\n",
       "<caption>A data.frame: 6 × 3</caption>\n",
       "<thead>\n",
       "\t<tr><th></th><th scope=col>tf</th><th scope=col>gene</th><th scope=col>correlation</th></tr>\n",
       "\t<tr><th></th><th scope=col>&lt;chr&gt;</th><th scope=col>&lt;chr&gt;</th><th scope=col>&lt;dbl&gt;</th></tr>\n",
       "</thead>\n",
       "<tbody>\n",
       "\t<tr><th scope=row>1</th><td>NFIA </td><td>TRDN  </td><td>0.5352448</td></tr>\n",
       "\t<tr><th scope=row>2</th><td>FOXH1</td><td>TRDN  </td><td>0.7274919</td></tr>\n",
       "\t<tr><th scope=row>3</th><td>HLF  </td><td>TRDN  </td><td>0.7511693</td></tr>\n",
       "\t<tr><th scope=row>4</th><td>ESRRB</td><td>TRDN  </td><td>0.5484806</td></tr>\n",
       "\t<tr><th scope=row>5</th><td>RFX3 </td><td>KCNMB2</td><td>0.8387288</td></tr>\n",
       "\t<tr><th scope=row>6</th><td>NR3C2</td><td>SPHKAP</td><td>0.6645800</td></tr>\n",
       "</tbody>\n",
       "</table>\n"
      ],
      "text/latex": [
       "A data.frame: 6 × 3\n",
       "\\begin{tabular}{r|lll}\n",
       "  & tf & gene & correlation\\\\\n",
       "  & <chr> & <chr> & <dbl>\\\\\n",
       "\\hline\n",
       "\t1 & NFIA  & TRDN   & 0.5352448\\\\\n",
       "\t2 & FOXH1 & TRDN   & 0.7274919\\\\\n",
       "\t3 & HLF   & TRDN   & 0.7511693\\\\\n",
       "\t4 & ESRRB & TRDN   & 0.5484806\\\\\n",
       "\t5 & RFX3  & KCNMB2 & 0.8387288\\\\\n",
       "\t6 & NR3C2 & SPHKAP & 0.6645800\\\\\n",
       "\\end{tabular}\n"
      ],
      "text/markdown": [
       "\n",
       "A data.frame: 6 × 3\n",
       "\n",
       "| <!--/--> | tf &lt;chr&gt; | gene &lt;chr&gt; | correlation &lt;dbl&gt; |\n",
       "|---|---|---|---|\n",
       "| 1 | NFIA  | TRDN   | 0.5352448 |\n",
       "| 2 | FOXH1 | TRDN   | 0.7274919 |\n",
       "| 3 | HLF   | TRDN   | 0.7511693 |\n",
       "| 4 | ESRRB | TRDN   | 0.5484806 |\n",
       "| 5 | RFX3  | KCNMB2 | 0.8387288 |\n",
       "| 6 | NR3C2 | SPHKAP | 0.6645800 |\n",
       "\n"
      ],
      "text/plain": [
       "  tf    gene   correlation\n",
       "1 NFIA  TRDN   0.5352448  \n",
       "2 FOXH1 TRDN   0.7274919  \n",
       "3 HLF   TRDN   0.7511693  \n",
       "4 ESRRB TRDN   0.5484806  \n",
       "5 RFX3  KCNMB2 0.8387288  \n",
       "6 NR3C2 SPHKAP 0.6645800  "
      ]
     },
     "metadata": {},
     "output_type": "display_data"
    },
    {
     "data": {
      "text/html": [
       "12009"
      ],
      "text/latex": [
       "12009"
      ],
      "text/markdown": [
       "12009"
      ],
      "text/plain": [
       "[1] 12009"
      ]
     },
     "metadata": {},
     "output_type": "display_data"
    }
   ],
   "source": [
    "df_tf_gene <- read.csv(\"../data/snATAC_healthy_intermediate_damaged/gene_regulatory_network.csv\")\n",
    "\n",
    "#df_tf_gene$tf <- stringr::str_split_fixed(df_tf_gene$tf, \":\", 2)[, 2]\n",
    "\n",
    "head(df_tf_gene)\n",
    "nrow(df_tf_gene)"
   ]
  },
  {
   "cell_type": "code",
   "execution_count": 2,
   "id": "aeeced1e-a9e1-4e73-b2b6-b18f41d50056",
   "metadata": {},
   "outputs": [
    {
     "ename": "ERROR",
     "evalue": "Error in getTrajectory(ArchRProj = proj, name = \"healthy_intermediate_damaged\", : could not find function \"getTrajectory\"\n",
     "output_type": "error",
     "traceback": [
      "Error in getTrajectory(ArchRProj = proj, name = \"healthy_intermediate_damaged\", : could not find function \"getTrajectory\"\nTraceback:\n"
     ]
    }
   ],
   "source": [
    "trajGEX <- getTrajectory(ArchRProj = proj,\n",
    "                         name = \"healthy_intermediate_damaged\",\n",
    "                         useMatrix = \"GeneExpressionMatrix\",\n",
    "                         log2Norm = TRUE,\n",
    "                        smoothWindow = 11)"
   ]
  },
  {
   "cell_type": "code",
   "execution_count": null,
   "id": "9c971bb4-ad6a-4b86-a869-8e48b1e588f8",
   "metadata": {},
   "outputs": [],
   "source": [
    "gene_expression <- plotTrajectoryHeatmap(trajGEX,\n",
    "                                         varCutOff = 0.1,\n",
    "                                         limits = c(-2, 2),\n",
    "                                         returnMatrix = TRUE)\n",
    "\n",
    "rownames(gene_expression) <- stringr::str_split_fixed(rownames(gene_expression), \":\", 2)[, 2]\n",
    "\n",
    "head(gene_expression)"
   ]
  },
  {
   "cell_type": "code",
   "execution_count": null,
   "id": "ec21aadf-256e-4848-9f05-7dbb6e3f9b30",
   "metadata": {},
   "outputs": [],
   "source": [
    "df_gene_expression <- as.data.frame(gene_expression) \n",
    "colnames(df_gene_expression) <- 1:100\n",
    "df_gene_expression$gene <- rownames(df_gene_expression)\n",
    "df_gene_expression2 <- tidyr::pivot_longer(df_gene_expression, -gene, \n",
    "                                           names_to = \"pseudotime\", values_to = \"gene_expression\")\n",
    "df_gene_expression2$pseudotime <- as.numeric(df_gene_expression2$pseudotime)\n",
    "\n",
    "write.csv(df_gene_expression2, \"../data/snATAC_healthy_intermediate_damaged/VisGRN_V2/TF_Target_Gene_expression.csv\")"
   ]
  },
  {
   "cell_type": "code",
   "execution_count": null,
   "id": "4ddaec93-c18b-4e5c-bb38-4eca7b49b589",
   "metadata": {},
   "outputs": [],
   "source": [
    "if(!dir.exists(glue::glue(\"../data/snATAC_healthy_intermediate_damaged/VisGRN_V2/TF_Target_Expression\"))){\n",
    "        dir.create(glue::glue(\"../data/snATAC_healthy_intermediate_damaged/VisGRN_V2/TF_Target_Expression\"), \n",
    "                   recursive = TRUE)\n",
    "}\n",
    "\n",
    "for(name1 in unique(df_tf_gene$gene)){\n",
    "        df_plot <- subset(df_gene_expression2, gene == name1)\n",
    "\n",
    "        p <- ggplot(df_plot, aes(x = pseudotime, y = gene_expression)) +\n",
    "         geom_smooth(method = \"loess\",se = FALSE) +\n",
    "        theme_cowplot() + ggtitle(name1)\n",
    "    \n",
    "        ggsave(glue::glue(\"../data/snATAC_healthy_intermediate_damaged/VisGRN_V2/TF_Target_Expression/{name1}.pdf\"),\n",
    "              plot = p, height = 4, width = 5)\n",
    "\n",
    "    }"
   ]
  },
  {
   "cell_type": "code",
   "execution_count": null,
   "id": "5c93c633-4116-449a-bdeb-3ea6b78802a4",
   "metadata": {
    "jupyter": {
     "source_hidden": true
    },
    "tags": []
   },
   "outputs": [],
   "source": [
    "# for(gene_name in unique(df_tf_gene$gene)){\n",
    "# #for(tf_name in c(\"KLF2_403\")){\n",
    "# df_tf_gene_sub <- subset(df_tf_gene, tf == tf_name)\n",
    "    \n",
    "#     trajGEX_sub <- trajGEX[unique(df_tf_gene_sub$gene), ]\n",
    "    \n",
    "#     gene_expression <- plotTrajectoryHeatmap(trajGEX_sub,\n",
    "#                         varCutOff = 0,\n",
    "#                         pal = paletteContinuous(set = \"horizonExtra\"),\n",
    "#                         limits = c(-2, 2),\n",
    "#                                          returnMatrix = TRUE)\n",
    "    \n",
    "#     df_gene_expression <- as.data.frame(gene_expression) \n",
    "#     colnames(df_gene_expression) <- 1:100\n",
    "#     df_gene_expression$tf <- rownames(df_gene_expression)\n",
    "\n",
    "#     df_gene_expression2 <- tidyr::pivot_longer(df_gene_expression, -tf, \n",
    "#                                                names_to = \"pseudotime\", values_to = \"tf_expression\")\n",
    "\n",
    "#     df_gene_expression2$pseudotime <- as.numeric(df_gene_expression2$pseudotime)\n",
    "#     df_gene_expression2$tf <- stringr::str_split_fixed(df_gene_expression2$tf, \":\", 2)[, 2]\n",
    "\n",
    "\n",
    "\n",
    "#     for(name1 in unique(df_gene_expression2$tf)){\n",
    "#         df_plot <- subset(df_gene_expression2, tf == name1)\n",
    "\n",
    "#         p <- ggplot(df_plot, aes(x = pseudotime, y = tf_expression)) +\n",
    "#             geom_point(aes(color = pseudotime)) + \n",
    "#             scale_color_gradientn(colours = ArchR::paletteContinuous(set = \"blueYellow\")) +\n",
    "#          geom_smooth(method = \"loess\",se = FALSE) +\n",
    "#         theme_cowplot() + ggtitle(name1)\n",
    "\n",
    "\n",
    "#         ggsave(glue::glue(\"../data/snATAC_healthy_intermediate_damaged/VisGRN/TF_Target_Expression/{name1}.pdf\"),\n",
    "#               plot = p, height = 4, width = 5)\n",
    "\n",
    "#     }\n",
    "    \n",
    "\n",
    "# }"
   ]
  }
 ],
 "metadata": {
  "kernelspec": {
   "display_name": "R",
   "language": "R",
   "name": "ir"
  },
  "language_info": {
   "codemirror_mode": "r",
   "file_extension": ".r",
   "mimetype": "text/x-r-source",
   "name": "R",
   "pygments_lexer": "r",
   "version": "4.1.1"
  }
 },
 "nbformat": 4,
 "nbformat_minor": 5
}
