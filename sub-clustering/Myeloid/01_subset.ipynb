{
 "cells": [
  {
   "cell_type": "code",
   "execution_count": 1,
   "id": "db026b8b-224e-4f25-b027-44beed695c55",
   "metadata": {},
   "outputs": [],
   "source": [
    "suppressMessages(library(ArchR))\n",
    "suppressMessages(library(Seurat))\n",
    "suppressMessages(library(Signac))\n",
    "suppressMessages(library(cowplot))\n",
    "suppressMessages(library(ggplot2))\n",
    "suppressMessages(library(dplyr))"
   ]
  },
  {
   "cell_type": "code",
   "execution_count": 2,
   "id": "cfd9b2ae-638d-4f58-95d4-7ece69e061ab",
   "metadata": {},
   "outputs": [
    {
     "name": "stderr",
     "output_type": "stream",
     "text": [
      "Setting default number of Parallel threads to 126.\n",
      "\n",
      "Setting default genome to Hg38.\n",
      "\n"
     ]
    }
   ],
   "source": [
    "# set parameters\n",
    "set.seed(42)\n",
    "addArchRThreads(threads = parallel::detectCores() - 2)\n",
    "addArchRGenome(\"hg38\")"
   ]
  },
  {
   "cell_type": "code",
   "execution_count": 3,
   "id": "a613ae16-dd84-4a51-b697-1a06cf8e3f19",
   "metadata": {},
   "outputs": [
    {
     "name": "stderr",
     "output_type": "stream",
     "text": [
      "Successfully loaded ArchRProject!\n",
      "\n"
     ]
    }
   ],
   "source": [
    "proj <- loadArchRProject(\"../../../snATAC/DataIntegration/data/VisiumHeart\", showLogo = FALSE)"
   ]
  },
  {
   "cell_type": "code",
   "execution_count": 4,
   "id": "2ccf2f5d-77ea-43c4-ab42-251e1b5d78b8",
   "metadata": {},
   "outputs": [
    {
     "data": {
      "text/html": [
       "<table class=\"dataframe\">\n",
       "<caption>A data.frame: 6 × 39</caption>\n",
       "<thead>\n",
       "\t<tr><th></th><th scope=col>orig.ident</th><th scope=col>nCount_peaks</th><th scope=col>nFeature_peaks</th><th scope=col>Sample</th><th scope=col>TSSEnrichment</th><th scope=col>ReadsInTSS</th><th scope=col>ReadsInPromoter</th><th scope=col>ReadsInBlacklist</th><th scope=col>PromoterRatio</th><th scope=col>PassQC</th><th scope=col>⋯</th><th scope=col>seurat_clusters</th><th scope=col>cell_type</th><th scope=col>condition</th><th scope=col>region</th><th scope=col>patient_group</th><th scope=col>global_id</th><th scope=col>rep</th><th scope=col>patient</th><th scope=col>region_novel</th><th scope=col>patient_id</th></tr>\n",
       "\t<tr><th></th><th scope=col>&lt;chr&gt;</th><th scope=col>&lt;int&gt;</th><th scope=col>&lt;int&gt;</th><th scope=col>&lt;chr&gt;</th><th scope=col>&lt;dbl&gt;</th><th scope=col>&lt;int&gt;</th><th scope=col>&lt;int&gt;</th><th scope=col>&lt;int&gt;</th><th scope=col>&lt;dbl&gt;</th><th scope=col>&lt;int&gt;</th><th scope=col>⋯</th><th scope=col>&lt;int&gt;</th><th scope=col>&lt;chr&gt;</th><th scope=col>&lt;chr&gt;</th><th scope=col>&lt;chr&gt;</th><th scope=col>&lt;chr&gt;</th><th scope=col>&lt;chr&gt;</th><th scope=col>&lt;int&gt;</th><th scope=col>&lt;chr&gt;</th><th scope=col>&lt;chr&gt;</th><th scope=col>&lt;chr&gt;</th></tr>\n",
       "</thead>\n",
       "<tbody>\n",
       "\t<tr><th scope=row>CK171#AGGCGTCCACCATTCC-1</th><td>CK171</td><td>62095</td><td>34713</td><td>CK171</td><td>6.245</td><td>14669</td><td>18011</td><td>1136</td><td>0.09025808</td><td>1</td><td>⋯</td><td>15</td><td>CM</td><td>not_defined</td><td>BZ</td><td>group_1</td><td>AKK003 No4 borderzone</td><td>1</td><td>P2</td><td>RZ/BZ</td><td>RZ/BZ_P2</td></tr>\n",
       "\t<tr><th scope=row>CK171#TGATCAGAGGTAAGTT-1</th><td>CK171</td><td>90454</td><td>46242</td><td>CK171</td><td>8.331</td><td>24600</td><td>26536</td><td> 912</td><td>0.13673276</td><td>1</td><td>⋯</td><td> 3</td><td>CM</td><td>not_defined</td><td>BZ</td><td>group_1</td><td>AKK003 No4 borderzone</td><td>1</td><td>P2</td><td>RZ/BZ</td><td>RZ/BZ_P2</td></tr>\n",
       "\t<tr><th scope=row>CK171#TAGCATGCAAGTCTCA-1</th><td>CK171</td><td>73832</td><td>39097</td><td>CK171</td><td>9.020</td><td>21378</td><td>23169</td><td>1163</td><td>0.12278870</td><td>1</td><td>⋯</td><td>15</td><td>CM</td><td>not_defined</td><td>BZ</td><td>group_1</td><td>AKK003 No4 borderzone</td><td>1</td><td>P2</td><td>RZ/BZ</td><td>RZ/BZ_P2</td></tr>\n",
       "\t<tr><th scope=row>CK171#TACATTCCAAACCTAC-1</th><td>CK171</td><td>90941</td><td>46789</td><td>CK171</td><td>8.800</td><td>23434</td><td>25827</td><td> 912</td><td>0.13702053</td><td>1</td><td>⋯</td><td> 3</td><td>CM</td><td>not_defined</td><td>BZ</td><td>group_1</td><td>AKK003 No4 borderzone</td><td>1</td><td>P2</td><td>RZ/BZ</td><td>RZ/BZ_P2</td></tr>\n",
       "\t<tr><th scope=row>CK171#CACCACTGTCGCTAGC-1</th><td>CK171</td><td>76195</td><td>40207</td><td>CK171</td><td>9.127</td><td>21954</td><td>23478</td><td>1032</td><td>0.12531759</td><td>1</td><td>⋯</td><td>15</td><td>CM</td><td>not_defined</td><td>BZ</td><td>group_1</td><td>AKK003 No4 borderzone</td><td>1</td><td>P2</td><td>RZ/BZ</td><td>RZ/BZ_P2</td></tr>\n",
       "\t<tr><th scope=row>CK171#GTCACCTAGGAAGGTA-1</th><td>CK171</td><td>79884</td><td>42256</td><td>CK171</td><td>8.614</td><td>22565</td><td>25028</td><td> 956</td><td>0.13525286</td><td>1</td><td>⋯</td><td>15</td><td>CM</td><td>not_defined</td><td>BZ</td><td>group_1</td><td>AKK003 No4 borderzone</td><td>1</td><td>P2</td><td>RZ/BZ</td><td>RZ/BZ_P2</td></tr>\n",
       "</tbody>\n",
       "</table>\n"
      ],
      "text/latex": [
       "A data.frame: 6 × 39\n",
       "\\begin{tabular}{r|lllllllllllllllllllll}\n",
       "  & orig.ident & nCount\\_peaks & nFeature\\_peaks & Sample & TSSEnrichment & ReadsInTSS & ReadsInPromoter & ReadsInBlacklist & PromoterRatio & PassQC & ⋯ & seurat\\_clusters & cell\\_type & condition & region & patient\\_group & global\\_id & rep & patient & region\\_novel & patient\\_id\\\\\n",
       "  & <chr> & <int> & <int> & <chr> & <dbl> & <int> & <int> & <int> & <dbl> & <int> & ⋯ & <int> & <chr> & <chr> & <chr> & <chr> & <chr> & <int> & <chr> & <chr> & <chr>\\\\\n",
       "\\hline\n",
       "\tCK171\\#AGGCGTCCACCATTCC-1 & CK171 & 62095 & 34713 & CK171 & 6.245 & 14669 & 18011 & 1136 & 0.09025808 & 1 & ⋯ & 15 & CM & not\\_defined & BZ & group\\_1 & AKK003 No4 borderzone & 1 & P2 & RZ/BZ & RZ/BZ\\_P2\\\\\n",
       "\tCK171\\#TGATCAGAGGTAAGTT-1 & CK171 & 90454 & 46242 & CK171 & 8.331 & 24600 & 26536 &  912 & 0.13673276 & 1 & ⋯ &  3 & CM & not\\_defined & BZ & group\\_1 & AKK003 No4 borderzone & 1 & P2 & RZ/BZ & RZ/BZ\\_P2\\\\\n",
       "\tCK171\\#TAGCATGCAAGTCTCA-1 & CK171 & 73832 & 39097 & CK171 & 9.020 & 21378 & 23169 & 1163 & 0.12278870 & 1 & ⋯ & 15 & CM & not\\_defined & BZ & group\\_1 & AKK003 No4 borderzone & 1 & P2 & RZ/BZ & RZ/BZ\\_P2\\\\\n",
       "\tCK171\\#TACATTCCAAACCTAC-1 & CK171 & 90941 & 46789 & CK171 & 8.800 & 23434 & 25827 &  912 & 0.13702053 & 1 & ⋯ &  3 & CM & not\\_defined & BZ & group\\_1 & AKK003 No4 borderzone & 1 & P2 & RZ/BZ & RZ/BZ\\_P2\\\\\n",
       "\tCK171\\#CACCACTGTCGCTAGC-1 & CK171 & 76195 & 40207 & CK171 & 9.127 & 21954 & 23478 & 1032 & 0.12531759 & 1 & ⋯ & 15 & CM & not\\_defined & BZ & group\\_1 & AKK003 No4 borderzone & 1 & P2 & RZ/BZ & RZ/BZ\\_P2\\\\\n",
       "\tCK171\\#GTCACCTAGGAAGGTA-1 & CK171 & 79884 & 42256 & CK171 & 8.614 & 22565 & 25028 &  956 & 0.13525286 & 1 & ⋯ & 15 & CM & not\\_defined & BZ & group\\_1 & AKK003 No4 borderzone & 1 & P2 & RZ/BZ & RZ/BZ\\_P2\\\\\n",
       "\\end{tabular}\n"
      ],
      "text/markdown": [
       "\n",
       "A data.frame: 6 × 39\n",
       "\n",
       "| <!--/--> | orig.ident &lt;chr&gt; | nCount_peaks &lt;int&gt; | nFeature_peaks &lt;int&gt; | Sample &lt;chr&gt; | TSSEnrichment &lt;dbl&gt; | ReadsInTSS &lt;int&gt; | ReadsInPromoter &lt;int&gt; | ReadsInBlacklist &lt;int&gt; | PromoterRatio &lt;dbl&gt; | PassQC &lt;int&gt; | ⋯ ⋯ | seurat_clusters &lt;int&gt; | cell_type &lt;chr&gt; | condition &lt;chr&gt; | region &lt;chr&gt; | patient_group &lt;chr&gt; | global_id &lt;chr&gt; | rep &lt;int&gt; | patient &lt;chr&gt; | region_novel &lt;chr&gt; | patient_id &lt;chr&gt; |\n",
       "|---|---|---|---|---|---|---|---|---|---|---|---|---|---|---|---|---|---|---|---|---|---|\n",
       "| CK171#AGGCGTCCACCATTCC-1 | CK171 | 62095 | 34713 | CK171 | 6.245 | 14669 | 18011 | 1136 | 0.09025808 | 1 | ⋯ | 15 | CM | not_defined | BZ | group_1 | AKK003 No4 borderzone | 1 | P2 | RZ/BZ | RZ/BZ_P2 |\n",
       "| CK171#TGATCAGAGGTAAGTT-1 | CK171 | 90454 | 46242 | CK171 | 8.331 | 24600 | 26536 |  912 | 0.13673276 | 1 | ⋯ |  3 | CM | not_defined | BZ | group_1 | AKK003 No4 borderzone | 1 | P2 | RZ/BZ | RZ/BZ_P2 |\n",
       "| CK171#TAGCATGCAAGTCTCA-1 | CK171 | 73832 | 39097 | CK171 | 9.020 | 21378 | 23169 | 1163 | 0.12278870 | 1 | ⋯ | 15 | CM | not_defined | BZ | group_1 | AKK003 No4 borderzone | 1 | P2 | RZ/BZ | RZ/BZ_P2 |\n",
       "| CK171#TACATTCCAAACCTAC-1 | CK171 | 90941 | 46789 | CK171 | 8.800 | 23434 | 25827 |  912 | 0.13702053 | 1 | ⋯ |  3 | CM | not_defined | BZ | group_1 | AKK003 No4 borderzone | 1 | P2 | RZ/BZ | RZ/BZ_P2 |\n",
       "| CK171#CACCACTGTCGCTAGC-1 | CK171 | 76195 | 40207 | CK171 | 9.127 | 21954 | 23478 | 1032 | 0.12531759 | 1 | ⋯ | 15 | CM | not_defined | BZ | group_1 | AKK003 No4 borderzone | 1 | P2 | RZ/BZ | RZ/BZ_P2 |\n",
       "| CK171#GTCACCTAGGAAGGTA-1 | CK171 | 79884 | 42256 | CK171 | 8.614 | 22565 | 25028 |  956 | 0.13525286 | 1 | ⋯ | 15 | CM | not_defined | BZ | group_1 | AKK003 No4 borderzone | 1 | P2 | RZ/BZ | RZ/BZ_P2 |\n",
       "\n"
      ],
      "text/plain": [
       "                         orig.ident nCount_peaks nFeature_peaks Sample\n",
       "CK171#AGGCGTCCACCATTCC-1 CK171      62095        34713          CK171 \n",
       "CK171#TGATCAGAGGTAAGTT-1 CK171      90454        46242          CK171 \n",
       "CK171#TAGCATGCAAGTCTCA-1 CK171      73832        39097          CK171 \n",
       "CK171#TACATTCCAAACCTAC-1 CK171      90941        46789          CK171 \n",
       "CK171#CACCACTGTCGCTAGC-1 CK171      76195        40207          CK171 \n",
       "CK171#GTCACCTAGGAAGGTA-1 CK171      79884        42256          CK171 \n",
       "                         TSSEnrichment ReadsInTSS ReadsInPromoter\n",
       "CK171#AGGCGTCCACCATTCC-1 6.245         14669      18011          \n",
       "CK171#TGATCAGAGGTAAGTT-1 8.331         24600      26536          \n",
       "CK171#TAGCATGCAAGTCTCA-1 9.020         21378      23169          \n",
       "CK171#TACATTCCAAACCTAC-1 8.800         23434      25827          \n",
       "CK171#CACCACTGTCGCTAGC-1 9.127         21954      23478          \n",
       "CK171#GTCACCTAGGAAGGTA-1 8.614         22565      25028          \n",
       "                         ReadsInBlacklist PromoterRatio PassQC ⋯\n",
       "CK171#AGGCGTCCACCATTCC-1 1136             0.09025808    1      ⋯\n",
       "CK171#TGATCAGAGGTAAGTT-1  912             0.13673276    1      ⋯\n",
       "CK171#TAGCATGCAAGTCTCA-1 1163             0.12278870    1      ⋯\n",
       "CK171#TACATTCCAAACCTAC-1  912             0.13702053    1      ⋯\n",
       "CK171#CACCACTGTCGCTAGC-1 1032             0.12531759    1      ⋯\n",
       "CK171#GTCACCTAGGAAGGTA-1  956             0.13525286    1      ⋯\n",
       "                         seurat_clusters cell_type condition   region\n",
       "CK171#AGGCGTCCACCATTCC-1 15              CM        not_defined BZ    \n",
       "CK171#TGATCAGAGGTAAGTT-1  3              CM        not_defined BZ    \n",
       "CK171#TAGCATGCAAGTCTCA-1 15              CM        not_defined BZ    \n",
       "CK171#TACATTCCAAACCTAC-1  3              CM        not_defined BZ    \n",
       "CK171#CACCACTGTCGCTAGC-1 15              CM        not_defined BZ    \n",
       "CK171#GTCACCTAGGAAGGTA-1 15              CM        not_defined BZ    \n",
       "                         patient_group global_id             rep patient\n",
       "CK171#AGGCGTCCACCATTCC-1 group_1       AKK003 No4 borderzone 1   P2     \n",
       "CK171#TGATCAGAGGTAAGTT-1 group_1       AKK003 No4 borderzone 1   P2     \n",
       "CK171#TAGCATGCAAGTCTCA-1 group_1       AKK003 No4 borderzone 1   P2     \n",
       "CK171#TACATTCCAAACCTAC-1 group_1       AKK003 No4 borderzone 1   P2     \n",
       "CK171#CACCACTGTCGCTAGC-1 group_1       AKK003 No4 borderzone 1   P2     \n",
       "CK171#GTCACCTAGGAAGGTA-1 group_1       AKK003 No4 borderzone 1   P2     \n",
       "                         region_novel patient_id\n",
       "CK171#AGGCGTCCACCATTCC-1 RZ/BZ        RZ/BZ_P2  \n",
       "CK171#TGATCAGAGGTAAGTT-1 RZ/BZ        RZ/BZ_P2  \n",
       "CK171#TAGCATGCAAGTCTCA-1 RZ/BZ        RZ/BZ_P2  \n",
       "CK171#TACATTCCAAACCTAC-1 RZ/BZ        RZ/BZ_P2  \n",
       "CK171#CACCACTGTCGCTAGC-1 RZ/BZ        RZ/BZ_P2  \n",
       "CK171#GTCACCTAGGAAGGTA-1 RZ/BZ        RZ/BZ_P2  "
      ]
     },
     "metadata": {},
     "output_type": "display_data"
    }
   ],
   "source": [
    "df <- read.csv(\"../../../snATAC/DataIntegration/data/VisiumHeart/metadata.csv\",\n",
    "              row.names = 1)\n",
    "\n",
    "head(df)"
   ]
  },
  {
   "cell_type": "code",
   "execution_count": 5,
   "id": "98ab83d6-9272-4d2a-bd76-9a505d655b4e",
   "metadata": {},
   "outputs": [
    {
     "data": {
      "text/html": [
       "<style>\n",
       ".list-inline {list-style: none; margin:0; padding: 0}\n",
       ".list-inline>li {display: inline-block}\n",
       ".list-inline>li:not(:last-child)::after {content: \"\\00b7\"; padding: 0 .5ex}\n",
       "</style>\n",
       "<ol class=list-inline><li>'CM'</li><li>'Myeloid'</li><li>'Endo'</li><li>'Fib'</li><li>'Pericyte'</li><li>'Neuronal'</li><li>'Lymphoid'</li><li>'vSMCs'</li></ol>\n"
      ],
      "text/latex": [
       "\\begin{enumerate*}\n",
       "\\item 'CM'\n",
       "\\item 'Myeloid'\n",
       "\\item 'Endo'\n",
       "\\item 'Fib'\n",
       "\\item 'Pericyte'\n",
       "\\item 'Neuronal'\n",
       "\\item 'Lymphoid'\n",
       "\\item 'vSMCs'\n",
       "\\end{enumerate*}\n"
      ],
      "text/markdown": [
       "1. 'CM'\n",
       "2. 'Myeloid'\n",
       "3. 'Endo'\n",
       "4. 'Fib'\n",
       "5. 'Pericyte'\n",
       "6. 'Neuronal'\n",
       "7. 'Lymphoid'\n",
       "8. 'vSMCs'\n",
       "\n",
       "\n"
      ],
      "text/plain": [
       "[1] \"CM\"       \"Myeloid\"  \"Endo\"     \"Fib\"      \"Pericyte\" \"Neuronal\" \"Lymphoid\"\n",
       "[8] \"vSMCs\"   "
      ]
     },
     "metadata": {},
     "output_type": "display_data"
    }
   ],
   "source": [
    "unique(df$cell_type)"
   ]
  },
  {
   "cell_type": "code",
   "execution_count": 6,
   "id": "90cdba24-adbd-4179-9afb-ec13e20793a2",
   "metadata": {},
   "outputs": [],
   "source": [
    "df_sub <- subset(df, cell_type == \"Myeloid\")"
   ]
  },
  {
   "cell_type": "code",
   "execution_count": 7,
   "id": "ef827de1-c312-406d-b4fd-3f20eef21137",
   "metadata": {},
   "outputs": [
    {
     "data": {
      "text/html": [
       "4527"
      ],
      "text/latex": [
       "4527"
      ],
      "text/markdown": [
       "4527"
      ],
      "text/plain": [
       "[1] 4527"
      ]
     },
     "metadata": {},
     "output_type": "display_data"
    }
   ],
   "source": [
    "nrow(df_sub)"
   ]
  },
  {
   "cell_type": "code",
   "execution_count": 9,
   "id": "0f72c705-714b-4b16-90af-53f1b6999eef",
   "metadata": {},
   "outputs": [
    {
     "data": {
      "text/html": [
       "<table class=\"dataframe\">\n",
       "<caption>A tibble: 31 × 2</caption>\n",
       "<thead>\n",
       "\t<tr><th scope=col>Sample</th><th scope=col>count</th></tr>\n",
       "\t<tr><th scope=col>&lt;chr&gt;</th><th scope=col>&lt;int&gt;</th></tr>\n",
       "</thead>\n",
       "<tbody>\n",
       "\t<tr><td>CK166</td><td>320</td></tr>\n",
       "\t<tr><td>CK382</td><td>265</td></tr>\n",
       "\t<tr><td>CK340</td><td>251</td></tr>\n",
       "\t<tr><td>CK380</td><td>244</td></tr>\n",
       "\t<tr><td>CK390</td><td>220</td></tr>\n",
       "\t<tr><td>CK354</td><td>219</td></tr>\n",
       "\t<tr><td>CK168</td><td>218</td></tr>\n",
       "\t<tr><td>CK351</td><td>212</td></tr>\n",
       "\t<tr><td>CK350</td><td>194</td></tr>\n",
       "\t<tr><td>CK387</td><td>172</td></tr>\n",
       "\t<tr><td>CK388</td><td>169</td></tr>\n",
       "\t<tr><td>CK339</td><td>163</td></tr>\n",
       "\t<tr><td>CK383</td><td>159</td></tr>\n",
       "\t<tr><td>CK171</td><td>144</td></tr>\n",
       "\t<tr><td>CK169</td><td>113</td></tr>\n",
       "\t<tr><td>CK167</td><td>112</td></tr>\n",
       "\t<tr><td>CK341</td><td>109</td></tr>\n",
       "\t<tr><td>CK173</td><td>106</td></tr>\n",
       "\t<tr><td>CK346</td><td>104</td></tr>\n",
       "\t<tr><td>CK389</td><td>101</td></tr>\n",
       "\t<tr><td>CK344</td><td> 98</td></tr>\n",
       "\t<tr><td>CK353</td><td> 97</td></tr>\n",
       "\t<tr><td>CK352</td><td> 90</td></tr>\n",
       "\t<tr><td>CK386</td><td> 83</td></tr>\n",
       "\t<tr><td>CK385</td><td> 77</td></tr>\n",
       "\t<tr><td>CK337</td><td> 75</td></tr>\n",
       "\t<tr><td>CK170</td><td> 63</td></tr>\n",
       "\t<tr><td>CK391</td><td> 57</td></tr>\n",
       "\t<tr><td>CK338</td><td> 53</td></tr>\n",
       "\t<tr><td>CK355</td><td> 53</td></tr>\n",
       "\t<tr><td>CK336</td><td> 52</td></tr>\n",
       "</tbody>\n",
       "</table>\n"
      ],
      "text/latex": [
       "A tibble: 31 × 2\n",
       "\\begin{tabular}{ll}\n",
       " Sample & count\\\\\n",
       " <chr> & <int>\\\\\n",
       "\\hline\n",
       "\t CK166 & 320\\\\\n",
       "\t CK382 & 265\\\\\n",
       "\t CK340 & 251\\\\\n",
       "\t CK380 & 244\\\\\n",
       "\t CK390 & 220\\\\\n",
       "\t CK354 & 219\\\\\n",
       "\t CK168 & 218\\\\\n",
       "\t CK351 & 212\\\\\n",
       "\t CK350 & 194\\\\\n",
       "\t CK387 & 172\\\\\n",
       "\t CK388 & 169\\\\\n",
       "\t CK339 & 163\\\\\n",
       "\t CK383 & 159\\\\\n",
       "\t CK171 & 144\\\\\n",
       "\t CK169 & 113\\\\\n",
       "\t CK167 & 112\\\\\n",
       "\t CK341 & 109\\\\\n",
       "\t CK173 & 106\\\\\n",
       "\t CK346 & 104\\\\\n",
       "\t CK389 & 101\\\\\n",
       "\t CK344 &  98\\\\\n",
       "\t CK353 &  97\\\\\n",
       "\t CK352 &  90\\\\\n",
       "\t CK386 &  83\\\\\n",
       "\t CK385 &  77\\\\\n",
       "\t CK337 &  75\\\\\n",
       "\t CK170 &  63\\\\\n",
       "\t CK391 &  57\\\\\n",
       "\t CK338 &  53\\\\\n",
       "\t CK355 &  53\\\\\n",
       "\t CK336 &  52\\\\\n",
       "\\end{tabular}\n"
      ],
      "text/markdown": [
       "\n",
       "A tibble: 31 × 2\n",
       "\n",
       "| Sample &lt;chr&gt; | count &lt;int&gt; |\n",
       "|---|---|\n",
       "| CK166 | 320 |\n",
       "| CK382 | 265 |\n",
       "| CK340 | 251 |\n",
       "| CK380 | 244 |\n",
       "| CK390 | 220 |\n",
       "| CK354 | 219 |\n",
       "| CK168 | 218 |\n",
       "| CK351 | 212 |\n",
       "| CK350 | 194 |\n",
       "| CK387 | 172 |\n",
       "| CK388 | 169 |\n",
       "| CK339 | 163 |\n",
       "| CK383 | 159 |\n",
       "| CK171 | 144 |\n",
       "| CK169 | 113 |\n",
       "| CK167 | 112 |\n",
       "| CK341 | 109 |\n",
       "| CK173 | 106 |\n",
       "| CK346 | 104 |\n",
       "| CK389 | 101 |\n",
       "| CK344 |  98 |\n",
       "| CK353 |  97 |\n",
       "| CK352 |  90 |\n",
       "| CK386 |  83 |\n",
       "| CK385 |  77 |\n",
       "| CK337 |  75 |\n",
       "| CK170 |  63 |\n",
       "| CK391 |  57 |\n",
       "| CK338 |  53 |\n",
       "| CK355 |  53 |\n",
       "| CK336 |  52 |\n",
       "\n"
      ],
      "text/plain": [
       "   Sample count\n",
       "1  CK166  320  \n",
       "2  CK382  265  \n",
       "3  CK340  251  \n",
       "4  CK380  244  \n",
       "5  CK390  220  \n",
       "6  CK354  219  \n",
       "7  CK168  218  \n",
       "8  CK351  212  \n",
       "9  CK350  194  \n",
       "10 CK387  172  \n",
       "11 CK388  169  \n",
       "12 CK339  163  \n",
       "13 CK383  159  \n",
       "14 CK171  144  \n",
       "15 CK169  113  \n",
       "16 CK167  112  \n",
       "17 CK341  109  \n",
       "18 CK173  106  \n",
       "19 CK346  104  \n",
       "20 CK389  101  \n",
       "21 CK344   98  \n",
       "22 CK353   97  \n",
       "23 CK352   90  \n",
       "24 CK386   83  \n",
       "25 CK385   77  \n",
       "26 CK337   75  \n",
       "27 CK170   63  \n",
       "28 CK391   57  \n",
       "29 CK338   53  \n",
       "30 CK355   53  \n",
       "31 CK336   52  "
      ]
     },
     "metadata": {},
     "output_type": "display_data"
    }
   ],
   "source": [
    "df_cell_count <- df_sub %>%\n",
    "    group_by(Sample) %>%\n",
    "    summarise(count = n()) %>%\n",
    "    arrange(desc(count)) %>%\n",
    "    subset(count > 50)\n",
    "\n",
    "df_cell_count"
   ]
  },
  {
   "cell_type": "code",
   "execution_count": 10,
   "id": "1e5cb072-3934-4f2e-bfe3-b7210768f567",
   "metadata": {},
   "outputs": [],
   "source": [
    "# we dont want to include the samples with too few cells\n",
    "df_sub <- subset(df_sub, Sample %in% df_cell_count$Sample)"
   ]
  },
  {
   "cell_type": "code",
   "execution_count": 9,
   "id": "cf0bdc3e-cfca-49d6-9b56-92491bda1aff",
   "metadata": {},
   "outputs": [
    {
     "name": "stderr",
     "output_type": "stream",
     "text": [
      "Copying ArchRProject to new outputDirectory : /data/scATA/SingleCellOpenChromatin/local/VisiumHeartRevision/IntegrativeAnalysis/Fibroblast/data/snATAC\n",
      "\n",
      "Copying Arrow Files...\n",
      "\n"
     ]
    }
   ],
   "source": [
    "proj <- subsetArchRProject(proj, \n",
    "                           cells = rownames(df_sub),\n",
    "                           outputDirectory = \"../data/snATAC\",\n",
    "                           force = TRUE)\n",
    "proj <- addTileMatrix(proj,\n",
    "                      force = TRUE)\n",
    "\n",
    "proj <- addGeneScoreMatrix(proj,\n",
    "                           force = TRUE)"
   ]
  },
  {
   "cell_type": "code",
   "execution_count": null,
   "id": "33766999-e3b2-42ca-b262-f94fdbcacc54",
   "metadata": {},
   "outputs": [],
   "source": [
    "## save peak matrix\n",
    "peakMatrix <- getMatrixFromProject(proj,\n",
    "                                   useMatrix = \"PeakMatrix\")\n",
    "\n",
    "peak_counts <- peakMatrix@assays@data$PeakMatrix\n",
    "df_rangers <- as.data.frame(peakMatrix@rowRanges@ranges)\n",
    "\n",
    "rownames(peak_counts) <- paste(peakMatrix@rowRanges@seqnames,\n",
    "                          df_rangers$start,\n",
    "                          df_rangers$end,\n",
    "                          sep = \"_\") \n",
    "\n",
    "saveRDS(peak_counts, file = \"../data/snATAC/PeakMatrix.Rds\")\n",
    "\n",
    "## save gene matrix\n",
    "atac <- getMatrixFromProject(ArchRProj = proj,\n",
    "                             useMatrix = \"GeneScoreMatrix\")\n",
    "\n",
    "gene_counts <- atac@assays@data$GeneScoreMatrix\n",
    "rownames(gene_counts) <- atac@elementMetadata$name\n",
    "\n",
    "saveRDS(gene_counts, file = \"../data/snATAC/GeneScoreMatrix.Rds\")"
   ]
  },
  {
   "cell_type": "code",
   "execution_count": null,
   "id": "64f5777d-82d0-4581-80f3-6e452f29149a",
   "metadata": {},
   "outputs": [],
   "source": [
    "saveArchRProject(ArchRProj = proj, \n",
    "                 load = FALSE)"
   ]
  },
  {
   "cell_type": "code",
   "execution_count": null,
   "id": "602ae726-a62d-4b8b-a289-ca05e5bcffe3",
   "metadata": {},
   "outputs": [],
   "source": [
    "sessionInfo()"
   ]
  }
 ],
 "metadata": {
  "kernelspec": {
   "display_name": "R",
   "language": "R",
   "name": "ir"
  },
  "language_info": {
   "codemirror_mode": "r",
   "file_extension": ".r",
   "mimetype": "text/x-r-source",
   "name": "R",
   "pygments_lexer": "r",
   "version": "4.0.3"
  }
 },
 "nbformat": 4,
 "nbformat_minor": 5
}
