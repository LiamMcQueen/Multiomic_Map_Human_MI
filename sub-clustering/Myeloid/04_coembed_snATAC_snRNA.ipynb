{
 "cells": [
  {
   "cell_type": "code",
   "execution_count": null,
   "id": "db026b8b-224e-4f25-b027-44beed695c55",
   "metadata": {
    "tags": []
   },
   "outputs": [],
   "source": [
    "suppressMessages(library(ArchR))\n",
    "suppressMessages(library(Seurat))\n",
    "suppressMessages(library(Signac))\n",
    "suppressMessages(library(harmony))\n",
    "suppressMessages(library(dplyr))\n",
    "suppressMessages(library(cowplot))"
   ]
  },
  {
   "cell_type": "code",
   "execution_count": null,
   "id": "7a64824f-f6b3-4ff4-9585-0baf6efb9ba8",
   "metadata": {},
   "outputs": [],
   "source": [
    "set.seed(42)"
   ]
  },
  {
   "cell_type": "code",
   "execution_count": null,
   "id": "8fbb8458-64c3-40f7-89f4-340d5ae74510",
   "metadata": {},
   "outputs": [],
   "source": [
    "proj <- loadArchRProject(\"../data/snATAC\", showLogo = FALSE)"
   ]
  },
  {
   "cell_type": "code",
   "execution_count": null,
   "id": "c3af88d3-5702-4ab9-8ab0-22a067acfcaf",
   "metadata": {},
   "outputs": [],
   "source": [
    "p1 <- plotEmbedding(ArchRProj = proj, \n",
    "              colorBy = \"cellColData\", \n",
    "              name = \"Clusters\", embedding = \"UMAP_Harmony\",plotAs = \"points\",\n",
    "                   size = 0.5, labelAsFactors = FALSE, rastr = FALSE) +\n",
    "    theme_cowplot()\n",
    "\n",
    "options(repr.plot.height = 6, repr.plot.width = 6)\n",
    "\n",
    "p1"
   ]
  },
  {
   "cell_type": "code",
   "execution_count": null,
   "id": "4de868d6-5a6a-4355-866a-aef34ab4d8e8",
   "metadata": {},
   "outputs": [],
   "source": [
    "table(proj@cellColData$Clusters)"
   ]
  },
  {
   "cell_type": "code",
   "execution_count": null,
   "id": "a2f44ba4-f253-4ad7-9e01-5aab421e1348",
   "metadata": {},
   "outputs": [],
   "source": [
    "peak_counts <- readRDS(\"../data/snATAC/PeakMatrix.Rds\")\n",
    "dim(peak_counts)"
   ]
  },
  {
   "cell_type": "code",
   "execution_count": null,
   "id": "9bf05834-efba-45a0-a313-18abf44a8a9f",
   "metadata": {},
   "outputs": [],
   "source": [
    "## cluster 1-3 seems to be outlier, we here removed it from downstream analysis\n",
    "metadata <- as.data.frame(proj@cellColData) %>%\n",
    "    subset(., select = c(\"Sample\", \"Clusters\", \"region\", \"patient\", \"patient_region_id\", \"patient_group\")) #%>%\n",
    "    #subset(., Clusters %in% c(\"C4\", \"C5\", \"C6\", \"C7\", \"C8\") )\n",
    "\n",
    "\n",
    "head(metadata)\n",
    "\n",
    "peak_counts_sub <- peak_counts[, rownames(metadata)]\n",
    "\n",
    "dim(peak_counts_sub)"
   ]
  },
  {
   "cell_type": "code",
   "execution_count": null,
   "id": "9797b11a-8b49-4fab-8f16-135067d80df3",
   "metadata": {},
   "outputs": [],
   "source": [
    "table(metadata$Clusters)"
   ]
  },
  {
   "cell_type": "code",
   "execution_count": null,
   "id": "16a143d1-d49c-4548-91c2-548c0d201219",
   "metadata": {},
   "outputs": [],
   "source": [
    "chrom_assay <- CreateChromatinAssay(\n",
    "  counts = peak_counts_sub,\n",
    "  sep = c(\"_\", \"_\"),\n",
    "  min.cells = 100\n",
    ")\n",
    "\n",
    "obj.atac <- CreateSeuratObject(\n",
    "  counts = chrom_assay,\n",
    "  assay = \"peaks\",\n",
    "  meta.data = metadata,\n",
    "  names.field = 1, \n",
    "  names.delim = \"#\")\n",
    "\n",
    "obj.atac"
   ]
  },
  {
   "cell_type": "code",
   "execution_count": null,
   "id": "6e1c85a9-5db5-40b1-b46c-47766bf631e5",
   "metadata": {
    "tags": []
   },
   "outputs": [],
   "source": [
    "## add dimension reduced matrix\n",
    "harmony_matDR <- proj@reducedDims$Harmony$matDR\n",
    "colnames(harmony_matDR) <- paste0(\"Harmony_\", 1:ncol(harmony_matDR))\n",
    "harmony_matDR <- harmony_matDR[colnames(obj.atac), ]\n",
    "\n",
    "obj.atac[[\"harmony\"]] <- CreateDimReducObject(embeddings = harmony_matDR,\n",
    "                                             assay = DefaultAssay(obj.atac),\n",
    "                                             key = \"Harmony_\")\n",
    "\n",
    "embedding <- proj@embeddings$UMAP_Harmony$df\n",
    "colnames(embedding) <- paste0(\"UMAP_\", 1:ncol(embedding))\n",
    "embedding <- embedding[colnames(obj.atac), ]\n",
    "\n",
    "#head(embedding)\n",
    "obj.atac[[\"umap\"]] <- CreateDimReducObject(embeddings = as.matrix(embedding),\n",
    "                                             assay = \"peaks\",\n",
    "                                             key = \"UMAP_\")"
   ]
  },
  {
   "cell_type": "code",
   "execution_count": null,
   "id": "4cceb279-11f4-4fcb-9226-4a02e0a3ca5b",
   "metadata": {},
   "outputs": [],
   "source": [
    "obj.atac <- RunUMAP(obj.atac, \n",
    "               dims = 1:30, \n",
    "               reduction = 'harmony',\n",
    "               reduction.name = \"umap_harmony\",\n",
    "               reduction.ke = 'umapharmony_',\n",
    "              verbose = FALSE,\n",
    "                   min.dist = 0.4)"
   ]
  },
  {
   "cell_type": "code",
   "execution_count": null,
   "id": "ea0d370a-f6e5-4889-96ac-c24e487c4a37",
   "metadata": {},
   "outputs": [],
   "source": [
    "cols.clusters <- ArchR::paletteDiscrete(metadata$Clusters)"
   ]
  },
  {
   "cell_type": "code",
   "execution_count": null,
   "id": "3427fb50-4201-4be3-bfc2-6c185240d2ac",
   "metadata": {},
   "outputs": [],
   "source": [
    "options(repr.plot.height = 8, repr.plot.width = 10)\n",
    "p1 <- DimPlot(obj.atac, group.by = \"Clusters\", pt.size = 1, cols = cols.clusters)\n",
    "\n",
    "p1"
   ]
  },
  {
   "cell_type": "code",
   "execution_count": null,
   "id": "3762a274-5397-44d1-8839-f80ac02c8661",
   "metadata": {},
   "outputs": [],
   "source": [
    "## load snRNA-seq data\n",
    "obj.rna <- readRDS(\"../data/snRNA/snRNA.rds\")\n",
    "obj.rna"
   ]
  },
  {
   "cell_type": "code",
   "execution_count": null,
   "id": "ef8f77b3-3c63-4cc3-bb08-36513939864d",
   "metadata": {},
   "outputs": [],
   "source": [
    "DimPlot(obj.rna, pt.size = 1, reduction = \"umap_harmony\")"
   ]
  },
  {
   "cell_type": "code",
   "execution_count": null,
   "id": "b484bf13-b494-4ea1-9239-a9db01dc00d7",
   "metadata": {},
   "outputs": [],
   "source": [
    "suppressMessages(library(Nebulosa))\n",
    "\n",
    "options(repr.plot.height = 5, repr.plot.width = 15)\n",
    "\n",
    "p1 <- plot_density(obj.rna, features=\"KIT\", reduction=\"umap_harmony\")\n",
    "p2 <- plot_density(obj.rna, features=\"CPA3\", reduction=\"umap_harmony\")\n",
    "p3 <- plot_density(obj.rna, features=\"CLNK\", reduction=\"umap_harmony\")\n",
    "\n",
    "patchwork::wrap_plots(list(p1, p2, p3), nrow = 1)"
   ]
  },
  {
   "cell_type": "code",
   "execution_count": null,
   "id": "49008925-bfa5-4f32-a5c7-fbbb3c1a2b70",
   "metadata": {},
   "outputs": [],
   "source": [
    "# obj.rna <- subset(obj.rna, orig.ident %in% df_cell_count$orig.ident)\n",
    "# obj.rna"
   ]
  },
  {
   "cell_type": "code",
   "execution_count": null,
   "id": "0ff7ac06-a6bc-404c-82a4-bb91e78055c1",
   "metadata": {},
   "outputs": [],
   "source": [
    "## add gene activity score\n",
    "gene.activities <- readRDS(\"../data/snATAC/GeneScoreMatrix.Rds\")\n",
    "\n",
    "dim(gene.activities)\n",
    "\n",
    "gene.use <- intersect(rownames(gene.activities),\n",
    "                     rownames(obj.rna))\n",
    "\n",
    "length(gene.use)\n",
    "\n",
    "obj.atac[['GeneActivity']] <- CreateAssayObject(counts = gene.activities[gene.use, colnames(obj.atac)])\n",
    "\n",
    "DefaultAssay(obj.atac) <- \"GeneActivity\"\n",
    "\n",
    "obj.atac <- obj.atac %>% \n",
    "        NormalizeData() %>%\n",
    "        FindVariableFeatures() %>%\n",
    "        ScaleData()"
   ]
  },
  {
   "cell_type": "code",
   "execution_count": null,
   "id": "5391edf7-4609-4f41-a2b0-3d60a9b3b5c8",
   "metadata": {},
   "outputs": [],
   "source": [
    "transfer.anchors <- FindTransferAnchors(reference = obj.rna,\n",
    "                                        query = obj.atac,\n",
    "                                        features = gene.use,\n",
    "                                        reference.assay = \"RNA\",\n",
    "                                        query.assay = \"GeneActivity\",\n",
    "                                        reduction = \"cca\")"
   ]
  },
  {
   "cell_type": "code",
   "execution_count": null,
   "id": "e2651669-b5a0-4258-95df-482a69d14de3",
   "metadata": {},
   "outputs": [],
   "source": [
    "# note that we restrict the imputation to variable genes from scRNA-seq, but could impute the\n",
    "# full transcriptome if we wanted to\n",
    "refdata <- GetAssayData(obj.rna, assay = \"RNA\", slot = \"data\")[gene.use, ]\n",
    "\n",
    "# refdata (input) contains a scRNA-seq expression matrix for the scRNA-seq cells. imputation\n",
    "# (output) will contain an imputed scRNA-seq matrix for each of the ATAC cells\n",
    "imputation <- TransferData(anchorset = transfer.anchors, \n",
    "                           refdata = refdata, \n",
    "                           weight.reduction = obj.atac[[\"harmony\"]],\n",
    "                           dims = 1:30)\n",
    "obj.atac[[\"RNA\"]] <- imputation"
   ]
  },
  {
   "cell_type": "code",
   "execution_count": null,
   "id": "57cb523d-fc06-4c35-9546-9313617d6abd",
   "metadata": {},
   "outputs": [],
   "source": [
    "DefaultAssay(obj.atac) <- \"RNA\"\n",
    "obj.rna$tech <- \"RNA\"\n",
    "obj.atac$tech <- \"ATAC\"\n",
    "coembed <- merge(x = obj.atac, y = obj.rna)"
   ]
  },
  {
   "cell_type": "code",
   "execution_count": null,
   "id": "d8a90801-e9a1-492a-ab59-590630a7ca52",
   "metadata": {},
   "outputs": [],
   "source": [
    "#Finally, we run PCA and UMAP on this combined object, to visualize the co-embedding of both datasets\n",
    "coembed <- coembed %>%\n",
    "    ScaleData(features = gene.use, do.scale = FALSE) %>%\n",
    "    FindVariableFeatures() %>%\n",
    "    RunPCA() %>%\n",
    "    RunUMAP(dims = 1:30, verbose = FALSE)"
   ]
  },
  {
   "cell_type": "code",
   "execution_count": null,
   "id": "c400a45a-afca-4095-8249-b6ef8f2a834c",
   "metadata": {},
   "outputs": [],
   "source": [
    "if(!dir.exists(\"../data/coembed\")){\n",
    "    dir.create(\"../data/coembed\")\n",
    "}"
   ]
  },
  {
   "cell_type": "code",
   "execution_count": null,
   "id": "c6582189-d34b-4f6f-a1b1-52d1c8dcbab6",
   "metadata": {},
   "outputs": [],
   "source": [
    "saveRDS(obj.rna, file = \"../data/snRNA/snRNA.Rds\")\n",
    "saveRDS(obj.atac, file = \"../data/snATAC/snATAC.Rds\")\n",
    "saveRDS(coembed, file = \"../data/coembed/coembed.Rds\")"
   ]
  },
  {
   "cell_type": "code",
   "execution_count": null,
   "id": "1fc3ba58-78d2-4078-94bd-2d4505f34c76",
   "metadata": {},
   "outputs": [],
   "source": [
    "sessionInfo()"
   ]
  }
 ],
 "metadata": {
  "kernelspec": {
   "display_name": "R",
   "language": "R",
   "name": "ir"
  },
  "language_info": {
   "codemirror_mode": "r",
   "file_extension": ".r",
   "mimetype": "text/x-r-source",
   "name": "R",
   "pygments_lexer": "r",
   "version": "4.1.1"
  }
 },
 "nbformat": 4,
 "nbformat_minor": 5
}
