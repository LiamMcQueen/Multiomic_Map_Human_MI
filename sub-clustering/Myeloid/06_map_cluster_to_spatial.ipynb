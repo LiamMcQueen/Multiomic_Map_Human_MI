{
 "cells": [
  {
   "cell_type": "code",
   "execution_count": 2,
   "id": "d5d5c9bc-003b-4bf0-b612-4c6799924017",
   "metadata": {},
   "outputs": [],
   "source": [
    "suppressMessages(library(Seurat))\n",
    "suppressMessages(library(dplyr))\n",
    "suppressMessages(library(cowplot))\n",
    "suppressMessages(library(viridis))\n",
    "suppressMessages(library(ggplot2))\n",
    "options(warn=-1)"
   ]
  },
  {
   "cell_type": "code",
   "execution_count": 1,
   "id": "43845bf0-9928-42e2-8a07-db14b57d2e7d",
   "metadata": {},
   "outputs": [
    {
     "data": {
      "text/html": [
       "'/data/scATA/SingleCellOpenChromatin/local/VisiumHeartRevision/IntegrativeAnalysis/Lymphoid/code'"
      ],
      "text/latex": [
       "'/data/scATA/SingleCellOpenChromatin/local/VisiumHeartRevision/IntegrativeAnalysis/Lymphoid/code'"
      ],
      "text/markdown": [
       "'/data/scATA/SingleCellOpenChromatin/local/VisiumHeartRevision/IntegrativeAnalysis/Lymphoid/code'"
      ],
      "text/plain": [
       "[1] \"/data/scATA/SingleCellOpenChromatin/local/VisiumHeartRevision/IntegrativeAnalysis/Lymphoid/code\""
      ]
     },
     "metadata": {},
     "output_type": "display_data"
    }
   ],
   "source": [
    "set.seed(42)\n",
    "getwd()"
   ]
  },
  {
   "cell_type": "code",
   "execution_count": 5,
   "id": "cf972df2-eafb-4d76-95df-5fd5426285d8",
   "metadata": {},
   "outputs": [
    {
     "data": {
      "text/html": [
       "<style>\n",
       ".list-inline {list-style: none; margin:0; padding: 0}\n",
       ".list-inline>li {display: inline-block}\n",
       ".list-inline>li:not(:last-child)::after {content: \"\\00b7\"; padding: 0 .5ex}\n",
       "</style>\n",
       "<ol class=list-inline><li>'Adipo'</li><li>'CM'</li><li>'Endo'</li><li>'Fib'</li><li>'Lymphoid'</li><li>'Mast'</li><li>'Myeloid'</li><li>'Neuronal'</li><li>'PC'</li><li>'prolif'</li><li>'vSMCs'</li></ol>\n"
      ],
      "text/latex": [
       "\\begin{enumerate*}\n",
       "\\item 'Adipo'\n",
       "\\item 'CM'\n",
       "\\item 'Endo'\n",
       "\\item 'Fib'\n",
       "\\item 'Lymphoid'\n",
       "\\item 'Mast'\n",
       "\\item 'Myeloid'\n",
       "\\item 'Neuronal'\n",
       "\\item 'PC'\n",
       "\\item 'prolif'\n",
       "\\item 'vSMCs'\n",
       "\\end{enumerate*}\n"
      ],
      "text/markdown": [
       "1. 'Adipo'\n",
       "2. 'CM'\n",
       "3. 'Endo'\n",
       "4. 'Fib'\n",
       "5. 'Lymphoid'\n",
       "6. 'Mast'\n",
       "7. 'Myeloid'\n",
       "8. 'Neuronal'\n",
       "9. 'PC'\n",
       "10. 'prolif'\n",
       "11. 'vSMCs'\n",
       "\n",
       "\n"
      ],
      "text/plain": [
       " [1] \"Adipo\"    \"CM\"       \"Endo\"     \"Fib\"      \"Lymphoid\" \"Mast\"    \n",
       " [7] \"Myeloid\"  \"Neuronal\" \"PC\"       \"prolif\"   \"vSMCs\"   "
      ]
     },
     "metadata": {},
     "output_type": "display_data"
    }
   ],
   "source": [
    "## find cell type names\n",
    "obj <- readRDS(glue::glue(\"../../../visiumSpatial/from_rico/processed_visium/objects/AKK001_157785.rds\"))\n",
    "DefaultAssay(obj) <- \"c2l_props\"\n",
    "rownames(obj)"
   ]
  },
  {
   "cell_type": "code",
   "execution_count": 2,
   "id": "fd62b61c-197d-4312-8aba-e027ec65f8c5",
   "metadata": {},
   "outputs": [],
   "source": [
    "resolutions <- seq(0.2, 0.9, 0.1)"
   ]
  },
  {
   "cell_type": "code",
   "execution_count": 3,
   "id": "641223c8-7214-4b8d-943e-8334c4f31e69",
   "metadata": {
    "jupyter": {
     "source_hidden": true
    },
    "tags": []
   },
   "outputs": [],
   "source": [
    "# obj <- readRDS(glue::glue(\"../../../visiumSpatial/from_rico/processed_visium/objects/AKK004_157772.rds\"))\n",
    "\n",
    "# obj\n",
    "\n",
    "# all.markers <- readRDS(glue::glue(\"../data/coembed/MarkerGenes/res.0.2.rds\"))\n",
    "# gene.use <- intersect(rownames(obj), rownames(all.markers))\n",
    "# all.markers <- all.markers[gene.use, ]\n",
    "\n",
    "# all.markers <- all.markers %>%\n",
    "#     subset(p_val_adj < 0.05) %>%\n",
    "#     group_by(cluster) %>%\n",
    "#     top_n(n = 50, wt = avg_log2FC) %>%\n",
    "#     subset(., select = c(\"cluster\", \"gene\"))\n",
    "\n",
    "# all.markers <- split(all.markers, all.markers$cluster)\n",
    "\n",
    "# for(cl in names(all.markers)){\n",
    "#    all.markers[[cl]] <- all.markers[[cl]]$gene \n",
    "# }\n",
    "\n",
    "# DefaultAssay(obj) <- \"c2l_props\"\n",
    "# p1 <- SpatialFeaturePlot(obj, features = \"Fib\") +\n",
    "# scale_fill_viridis(option = \"D\")\n",
    "\n",
    "# DefaultAssay(obj) <- \"c2l\"\n",
    "# p2 <- SpatialFeaturePlot(obj, features = \"Fib\") +\n",
    "# scale_fill_viridis(option = \"D\")\n",
    "\n",
    "# options(repr.plot.height = 5, repr.plot.width = 10)\n",
    "\n",
    "# p1 + p2\n",
    "\n",
    "# fib_score <- obj@assays$c2l_props@data[\"Fib\", ]\n",
    "\n",
    "# DefaultAssay(obj) <- \"SCT\"\n",
    "# obj <- AddModuleScore(obj, features = all.markers)\n",
    "\n",
    "# ## multiply the module score with cell2location deconvolution score\n",
    "# # get module score\n",
    "# df_module_score <- as.data.frame(obj@meta.data)%>%\n",
    "#     select(., contains(\"Cluster\"))\n",
    "\n",
    "# df_module_score <- df_module_score * fib_score\n",
    "\n",
    "# obj <- AddMetaData(obj, metadata = df_module_score)\n",
    "\n",
    "# min_score <- min(df_module_score)\n",
    "# max_score <- max(df_module_score)\n",
    "\n",
    "# plotlist <- SpatialFeaturePlot(obj, features = c(\"Cluster1\", \"Cluster2\", \"Cluster3\", \"Cluster4\", \"Cluster5\"), combine = FALSE)\n",
    "\n",
    "# plotlist <- lapply(plotlist, function(p){\n",
    "#     p <- p + scale_fill_viridis(limits = c(min_score, max_score))\n",
    "# })\n",
    "\n",
    "# p <- patchwork::wrap_plots(plotlist, nrow = 2)\n",
    "\n",
    "# options(repr.plot.height = 10, repr.plot.width = 20)\n",
    "\n",
    "# p"
   ]
  },
  {
   "cell_type": "code",
   "execution_count": 4,
   "id": "ad915164-9e31-42fe-a527-32188fd77f04",
   "metadata": {},
   "outputs": [],
   "source": [
    "df_anno <- read.csv(\"../../../visiumSpatial/metadata/sample_annotation.csv\", header = TRUE)\n",
    "\n",
    "patient_region_id <- df_anno$patient_region_id\n",
    "patient_region_id <- stringr::str_replace_all(patient_region_id, \"/\", \"_\")\n",
    "\n",
    "names(patient_region_id) <- df_anno$sample_id"
   ]
  },
  {
   "cell_type": "code",
   "execution_count": 5,
   "id": "d297ef0f-ef9d-4e65-9571-af312286e60c",
   "metadata": {},
   "outputs": [
    {
     "name": "stderr",
     "output_type": "stream",
     "text": [
      "processing sample: AKK006_157771\n",
      "\n",
      "processing sample: Visium_1_CK279\n",
      "\n",
      "processing sample: Visium_3_CK281\n",
      "\n",
      "processing sample: Visium_4_CK282\n",
      "\n",
      "processing sample: Visium_12_CK290\n",
      "\n",
      "processing sample: Visium_13_CK291\n",
      "\n",
      "processing sample: Visium_16_CK294\n",
      "\n",
      "processing sample: Visium_14_CK292\n",
      "\n",
      "processing sample: AKK004_157772\n",
      "\n",
      "processing sample: Visium_11_CK289\n",
      "\n",
      "processing sample: Visium_18_CK296\n",
      "\n",
      "processing sample: Visium_9_CK287\n",
      "\n",
      "processing sample: Visium_19_CK297\n",
      "\n",
      "processing sample: Visium_7_CK285\n",
      "\n",
      "processing sample: Visium_20_CK298\n",
      "\n",
      "processing sample: Visium_15_CK293\n",
      "\n",
      "processing sample: AKK002_157779\n",
      "\n",
      "processing sample: AKK003_157775\n",
      "\n",
      "processing sample: Visium_8_CK286\n",
      "\n",
      "processing sample: AKK002_157782\n",
      "\n",
      "processing sample: Visium_2_CK280\n",
      "\n",
      "processing sample: Visium_17_CK295\n",
      "\n"
     ]
    }
   ],
   "source": [
    "for(res in resolutions){\n",
    "    if(!dir.exists(glue::glue(\"../data/visium/cell_states_mapping/res_{res}\"))){\n",
    "        dir.create(glue::glue(\"../data/visium/cell_states_mapping/res_{res}\"), recursive = TRUE)\n",
    "    }\n",
    "    \n",
    "    for(sample in names(patient_region_id)){\n",
    "        message(glue::glue(\"processing sample: {sample}\"))\n",
    "\n",
    "        # load visium object\n",
    "        obj <- readRDS(glue::glue(\"../../../visiumSpatial/from_rico/processed_visium/objects/{sample}.rds\"))\n",
    "    \n",
    "        DefaultAssay(obj) <- \"c2l_props\"\n",
    "        p1 <- SpatialFeaturePlot(obj, features = \"Myeloid\") + ggtitle(\"c2l: proportion\")\n",
    "   \n",
    "        DefaultAssay(obj) <- \"c2l\"\n",
    "        p2 <- SpatialFeaturePlot(obj, features = \"Myeloid\") + ggtitle(\"c2l: count\")\n",
    "\n",
    "        DefaultAssay(obj) <- \"SCT\"\n",
    "        \n",
    "        # load marker genes\n",
    "        all.markers <- readRDS(glue::glue(\"../data/coembed/MarkerGenes/res.{res}.rds\"))\n",
    "        \n",
    "        # only keep genes that are found in spatial dta\n",
    "        gene.use <- intersect(rownames(obj), rownames(all.markers))\n",
    "        all.markers <- all.markers[gene.use, ]\n",
    "        \n",
    "        # get number of clusters\n",
    "        n_clusters <- length(unique(all.markers$cluster))\n",
    "        \n",
    "        # get the marker genes for each cluster\n",
    "        all.markers <- all.markers %>%\n",
    "            subset(p_val_adj < 0.05) %>%\n",
    "            #group_by(cluster) %>%\n",
    "            #top_n(n = 50, wt = avg_log2FC) %>%\n",
    "            subset(., select = c(\"cluster\", \"gene\"))\n",
    "        \n",
    "        # convert dataframe to list for module score calculation\n",
    "        all.markers <- split(all.markers, all.markers$cluster)\n",
    "        for(cl in names(all.markers)){\n",
    "           all.markers[[cl]] <- all.markers[[cl]]$gene \n",
    "        }\n",
    "        \n",
    "        # get module score\n",
    "        obj <- AddModuleScore(obj, features = all.markers, assay = \"SCT\")\n",
    "        \n",
    "        df_module_score <- as.data.frame(obj@meta.data)%>%\n",
    "            select(., contains(\"Cluster\"))\n",
    "\n",
    "\n",
    "        # plot module score after normalization by proportion from cell2location\n",
    "        fib_score_prop <- obj@assays$c2l_props@data[\"Myeloid\", ]\n",
    "        df_module_score_prop <- df_module_score * fib_score_prop\n",
    "        \n",
    "        obj <- AddMetaData(obj, metadata = df_module_score_prop)\n",
    "        min_score <- min(df_module_score_prop)\n",
    "        max_score <- max(df_module_score_prop)\n",
    "        features <- paste0(\"Cluster\", 1:n_clusters)\n",
    "        \n",
    "        plotlist <- SpatialFeaturePlot(obj, features = features, combine = FALSE)\n",
    "        plotlist <- lapply(1:length(plotlist), function(i){\n",
    "            cl <- i - 1\n",
    "           p <- plotlist[[i]] + ggtitle(glue::glue(\"Cluster{cl}\")) + theme(legend.title = element_blank())\n",
    "           return(p)\n",
    "        })\n",
    "        ps1 <- patchwork::wrap_plots(plotlist, nrow = 2) +\n",
    "            patchwork::plot_annotation(title = \"Normalized by proportion\")\n",
    "\n",
    "        # plot module score after normalization by count from cell2location\n",
    "        fib_score_count <- obj@assays$c2l@data[\"Myeloid\", ]\n",
    "        df_module_score_count <- df_module_score * fib_score_count\n",
    "        obj <- AddMetaData(obj, metadata = df_module_score_count)\n",
    "        min_score <- min(df_module_score_count)\n",
    "        max_score <- max(df_module_score_count)\n",
    "        features <- paste0(\"Cluster\", 1:n_clusters)\n",
    "        \n",
    "        plotlist <- SpatialFeaturePlot(obj, features = features, combine = FALSE)\n",
    "        plotlist <- lapply(1:length(plotlist), function(i){\n",
    "            cl <- i - 1\n",
    "           p <- plotlist[[i]] + ggtitle(glue::glue(\"Cluster{cl}\")) + theme(legend.title = element_blank())\n",
    "           return(p)\n",
    "        })\n",
    "        ps2 <- patchwork::wrap_plots(plotlist, nrow = 2) +\n",
    "            patchwork::plot_annotation(title = \"Normalized by count\")\n",
    "        \n",
    "        \n",
    "        patient_region <- patient_region_id[sample]\n",
    "\n",
    "        pdf(glue::glue(\"../data/visium/cell_states_mapping/res_{res}/{sample}_{patient_region}.pdf\"), width = 20, height = 10)\n",
    "        print(p1+p2)\n",
    "        print(ps1)\n",
    "        print(ps2)\n",
    "        dev.off()\n",
    "    }\n",
    "}"
   ]
  },
  {
   "cell_type": "code",
   "execution_count": null,
   "id": "632e314f-c2b5-405f-8500-7587b807e67d",
   "metadata": {},
   "outputs": [],
   "source": [
    "sessionInfo()"
   ]
  }
 ],
 "metadata": {
  "kernelspec": {
   "display_name": "R",
   "language": "R",
   "name": "ir"
  },
  "language_info": {
   "codemirror_mode": "r",
   "file_extension": ".r",
   "mimetype": "text/x-r-source",
   "name": "R",
   "pygments_lexer": "r",
   "version": "4.1.1"
  }
 },
 "nbformat": 4,
 "nbformat_minor": 5
}
