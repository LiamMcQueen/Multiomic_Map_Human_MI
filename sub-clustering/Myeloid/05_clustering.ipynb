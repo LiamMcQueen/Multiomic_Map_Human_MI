{
 "cells": [
  {
   "cell_type": "code",
   "execution_count": 1,
   "id": "db026b8b-224e-4f25-b027-44beed695c55",
   "metadata": {
    "tags": []
   },
   "outputs": [],
   "source": [
    "suppressMessages(library(ArchR))\n",
    "suppressMessages(library(Seurat))\n",
    "suppressMessages(library(Signac))\n",
    "suppressMessages(library(harmony))\n",
    "suppressMessages(library(dplyr))\n",
    "suppressMessages(library(cowplot))\n",
    "suppressMessages(library(harmony))\n",
    "suppressMessages(library(Nebulosa))"
   ]
  },
  {
   "cell_type": "code",
   "execution_count": 2,
   "id": "ed70a0bc-d51c-4306-ac04-32c0533099d7",
   "metadata": {},
   "outputs": [
    {
     "data": {
      "text/html": [
       "'/data/scATA/SingleCellOpenChromatin/local/VisiumHeartRevision/IntegrativeAnalysis/Myeloid/code'"
      ],
      "text/latex": [
       "'/data/scATA/SingleCellOpenChromatin/local/VisiumHeartRevision/IntegrativeAnalysis/Myeloid/code'"
      ],
      "text/markdown": [
       "'/data/scATA/SingleCellOpenChromatin/local/VisiumHeartRevision/IntegrativeAnalysis/Myeloid/code'"
      ],
      "text/plain": [
       "[1] \"/data/scATA/SingleCellOpenChromatin/local/VisiumHeartRevision/IntegrativeAnalysis/Myeloid/code\""
      ]
     },
     "metadata": {},
     "output_type": "display_data"
    }
   ],
   "source": [
    "set.seed(42)\n",
    "getwd()"
   ]
  },
  {
   "cell_type": "code",
   "execution_count": 3,
   "id": "dfb42547-afc4-4c1a-9aa0-883010fd4963",
   "metadata": {},
   "outputs": [
    {
     "data": {
      "text/plain": [
       "An object of class Seurat \n",
       "131519 features across 25137 samples within 3 assays \n",
       "Active assay: RNA (28933 features, 2000 variable features)\n",
       " 2 other assays present: peaks, GeneActivity\n",
       " 4 dimensional reductions calculated: pca, umap, harmony, umap_harmony"
      ]
     },
     "metadata": {},
     "output_type": "display_data"
    }
   ],
   "source": [
    "coembed <- readRDS(\"../data/coembed/coembed.Rds\")\n",
    "coembed"
   ]
  },
  {
   "cell_type": "code",
   "execution_count": 4,
   "id": "73641bf7-4a21-4e8f-88d1-9b0ad9fb6593",
   "metadata": {},
   "outputs": [],
   "source": [
    "coembed@meta.data$`RNA_snn_res.0.1` <- NULL\n",
    "coembed@meta.data$`RNA_snn_res.0.2` <- NULL\n",
    "coembed@meta.data$`RNA_snn_res.0.4` <- NULL\n",
    "coembed@meta.data$`RNA_snn_res.0.6` <- NULL\n",
    "coembed@meta.data$`RNA_snn_res.0.8` <- NULL\n",
    "coembed@meta.data$`RNA_snn_res.1` <- NULL"
   ]
  },
  {
   "cell_type": "code",
   "execution_count": null,
   "id": "c8464256-7a76-450a-88b2-5d957147d698",
   "metadata": {},
   "outputs": [],
   "source": [
    "options(repr.plot.height = 12, repr.plot.width = 12)\n",
    "\n",
    "p1 <- DimPlot(coembed, group.by = \"patient\")\n",
    "p2 <- DimPlot(coembed, group.by = \"region\")\n",
    "p3 <- DimPlot(coembed, group.by = \"tech\")\n",
    "p4 <- DimPlot(coembed, group.by = \"patient_group\")\n",
    "\n",
    "(p1 + p2) / (p3 + p4)"
   ]
  },
  {
   "cell_type": "code",
   "execution_count": null,
   "id": "3c4ea1ec-4832-4d60-9dc7-f49d1ad25a48",
   "metadata": {},
   "outputs": [],
   "source": [
    "coembed <- RunHarmony(coembed, \n",
    "                      group.by.vars = c(\"patient\", \"region\", \"tech\"),\n",
    "                     reduction = \"pca\", \n",
    "                      max.iter.harmony = 30, \n",
    "                      dims.use = 1:30,\n",
    "                     project.dim = FALSE,\n",
    "                     plot_convergence = TRUE)\n",
    "\n",
    "coembed <- RunUMAP(coembed, \n",
    "               dims = 1:30, \n",
    "               reduction = 'harmony',\n",
    "               reduction.name = \"umap_harmony\",\n",
    "               reduction.ke = 'umapharmony_',\n",
    "              verbose = FALSE,\n",
    "                   min.dist = 0.4)\n",
    "\n",
    "options(repr.plot.height = 12, repr.plot.width = 12)\n",
    "\n",
    "p1 <- DimPlot(coembed, group.by = \"patient\", reduction = \"umap_harmony\")\n",
    "p2 <- DimPlot(coembed, group.by = \"region\", reduction = \"umap_harmony\")\n",
    "p3 <- DimPlot(coembed, group.by = \"tech\", reduction = \"umap_harmony\", shuffle = TRUE)\n",
    "p4 <- DimPlot(coembed, group.by = \"patient_group\", reduction = \"umap_harmony\")\n",
    "\n",
    "(p1 + p2) / (p3 + p4)"
   ]
  },
  {
   "cell_type": "code",
   "execution_count": null,
   "id": "fac487e3-6233-49ab-a6f9-5469ea94fbdc",
   "metadata": {},
   "outputs": [],
   "source": [
    "# options(repr.plot.height = 5, repr.plot.width = 20)\n",
    "\n",
    "# ps1 <- plot_density(coembed, features=c(\"GNLY\", \"PRF1\", \"NKG7\", \"GZMB\"), reduction=\"umap_harmony\", combine = FALSE)\n",
    "# ps2 <- plot_density(coembed, features=c(\"IL32\", \"IL7R\", \"CD3D\", \"TRAC\"), reduction=\"umap_harmony\", combine = FALSE)\n",
    "# ps3 <- plot_density(coembed, features=c(\"GNAO1\", \"AC104078.2\", \"PPP1R16B\", \"TNIP3\"), reduction=\"umap_harmony\", combine = FALSE)\n",
    "# ps4 <- plot_density(coembed, features=c(\"CD3D\", \"IL32\", \"CCL5\", \"CD3E\"), reduction=\"umap_harmony\", combine = FALSE)\n",
    "# ps5 <- plot_density(coembed, features=c(\"KLRD1\", \"NKG7\", \"GNLY\", \"PRF1\"), reduction=\"umap_harmony\", combine = FALSE)\n",
    "\n",
    "# patchwork::wrap_plots(ps1, nrow = 1)\n",
    "# patchwork::wrap_plots(ps2, nrow = 1)\n",
    "# patchwork::wrap_plots(ps3, nrow = 1)\n",
    "# patchwork::wrap_plots(ps4, nrow = 1)\n",
    "# patchwork::wrap_plots(ps5, nrow = 1)"
   ]
  },
  {
   "cell_type": "code",
   "execution_count": null,
   "id": "1b29d9a9-b274-4757-8c9a-fde2a4a43279",
   "metadata": {},
   "outputs": [],
   "source": [
    "# options(repr.plot.height = 5, repr.plot.width = 5)\n",
    "\n",
    "# FeaturePlot(coembed, features=c(\"PTPRC\"), reduction=\"umap_harmony\", combine = FALSE)"
   ]
  },
  {
   "cell_type": "code",
   "execution_count": null,
   "id": "332acd44-1490-4275-89ad-bc7a26432309",
   "metadata": {},
   "outputs": [],
   "source": [
    "obj.rna <- subset(coembed, tech == \"RNA\")"
   ]
  },
  {
   "cell_type": "code",
   "execution_count": null,
   "id": "4262b8f3-5b8b-433a-a3ac-632ae9322229",
   "metadata": {},
   "outputs": [],
   "source": [
    "FeaturePlot(obj.rna, \"doublet_score\", reduction=\"umap_harmony\")\n",
    "FeaturePlot(obj.rna, \"nCount_RNA\", reduction=\"umap_harmony\")"
   ]
  },
  {
   "cell_type": "code",
   "execution_count": null,
   "id": "03839734-8e56-4c92-926b-8d4f6054849e",
   "metadata": {},
   "outputs": [],
   "source": [
    "resolutions <- seq(0.2, 1, 0.1)\n",
    "\n",
    "coembed <- FindNeighbors(coembed, reduction = \"harmony\", dims = 1:30)\n",
    "coembed <- FindClusters(coembed, resolution = resolutions, verbose = FALSE)"
   ]
  },
  {
   "cell_type": "code",
   "execution_count": null,
   "id": "f61aae9b-c5a4-4159-ae4b-bde3265bb909",
   "metadata": {},
   "outputs": [],
   "source": [
    "library(clustree)\n",
    "\n",
    "options(repr.plot.height = 8, repr.plot.width = 12)\n",
    "\n",
    "clustree(coembed, prefix = \"RNA_snn_res.\")"
   ]
  },
  {
   "cell_type": "code",
   "execution_count": null,
   "id": "2f22b65d-ace4-4c8a-9916-72c05c0ba1e2",
   "metadata": {},
   "outputs": [],
   "source": [
    "options(repr.plot.height = 15, repr.plot.width = 18)\n",
    "\n",
    "plotlist <- lapply(resolutions, function(x){\n",
    "    cols <- ArchR::paletteDiscrete(coembed@meta.data[, glue::glue(\"RNA_snn_res.{x}\")])\n",
    "    \n",
    "    p <- DimPlot(coembed, group.by = glue::glue(\"RNA_snn_res.{x}\"), label = TRUE,\n",
    "             reduction = \"umap_harmony\", shuffle = TRUE) +\n",
    "    scale_color_manual(values = cols) +\n",
    "    xlab(\"UMAP1\") + ylab(\"UMAP2\")\n",
    "    \n",
    "    p\n",
    "})\n",
    "\n",
    "p <- patchwork::wrap_plots(plotlist, ncol = 3)\n",
    "\n",
    "p"
   ]
  },
  {
   "cell_type": "code",
   "execution_count": null,
   "id": "93993e52-4ac1-4205-874d-73b0b561e3a8",
   "metadata": {},
   "outputs": [],
   "source": [
    "options(repr.plot.width = 12, repr.plot.height = 5)\n",
    "\n",
    "\n",
    "for(x in resolutions){\n",
    "    cols <- ArchR::paletteDiscrete(coembed@meta.data[, glue::glue(\"RNA_snn_res.{x}\")])\n",
    "    p <- DimPlot(coembed, group.by = glue::glue(\"RNA_snn_res.{x}\"), split.by = \"tech\", reduction = \"umap_harmony\", cols=cols)\n",
    "    \n",
    "    print(p)\n",
    "}"
   ]
  },
  {
   "cell_type": "code",
   "execution_count": null,
   "id": "7bb68e72-be73-4c4f-a099-1408da0c619f",
   "metadata": {},
   "outputs": [],
   "source": [
    "options(repr.plot.height = 4, repr.plot.width = 15)\n",
    "\n",
    "if(!dir.exists(\"../data/coembed/MarkerGenes\")){\n",
    "    dir.create(\"../data/coembed/MarkerGenes\")\n",
    "}\n",
    "\n",
    "for(res in resolutions){\n",
    "    Idents(coembed) <- glue::glue(\"RNA_snn_res.{res}\")\n",
    "    all.markers <- FindAllMarkers(coembed, only.pos = TRUE, min.pct = 0.25, logfc.threshold = 0.25)\n",
    "    \n",
    "    df <- all.markers %>%\n",
    "    group_by(cluster) %>%\n",
    "    slice_max(n = 10, order_by = avg_log2FC)\n",
    "    \n",
    "    p <- DotPlot(coembed, features = unique(df$gene)) + RotatedAxis() + ggtitle(glue::glue(\"RNA_snn_res.{res}\"))\n",
    "    \n",
    "    print(p)\n",
    "    \n",
    "    markerList <- split(all.markers, all.markers$cluster)\n",
    "    \n",
    "    for(i in 1:length(markerList)){\n",
    "        markerList[[i]] <- markerList[[i]][order(-markerList[[i]]$avg_log2FC), ]\n",
    "    }\n",
    "    \n",
    "    WriteXLS::WriteXLS(markerList,\n",
    "                   ExcelFileName = glue::glue(\"../data/coembed/MarkerGenes/res.{res}.xlsx\"),\n",
    "                   SheetNames = names(markerList))\n",
    "\n",
    "    saveRDS(all.markers, glue::glue(\"../data/coembed/MarkerGenes/res.{res}.rds\"))\n",
    "}"
   ]
  },
  {
   "cell_type": "code",
   "execution_count": null,
   "id": "c6582189-d34b-4f6f-a1b1-52d1c8dcbab6",
   "metadata": {},
   "outputs": [],
   "source": [
    "saveRDS(coembed, file = \"../data/coembed/coembed.Rds\")"
   ]
  },
  {
   "cell_type": "code",
   "execution_count": null,
   "id": "1fc3ba58-78d2-4078-94bd-2d4505f34c76",
   "metadata": {},
   "outputs": [],
   "source": [
    "sessionInfo()"
   ]
  }
 ],
 "metadata": {
  "kernelspec": {
   "display_name": "R",
   "language": "R",
   "name": "ir"
  },
  "language_info": {
   "codemirror_mode": "r",
   "file_extension": ".r",
   "mimetype": "text/x-r-source",
   "name": "R",
   "pygments_lexer": "r",
   "version": "4.1.1"
  }
 },
 "nbformat": 4,
 "nbformat_minor": 5
}
