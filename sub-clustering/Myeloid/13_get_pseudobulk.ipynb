{
 "cells": [
  {
   "cell_type": "code",
   "execution_count": 1,
   "id": "7e51c041-b93f-4a64-8eb9-312078824f3b",
   "metadata": {},
   "outputs": [],
   "source": [
    "suppressMessages(library(ArchR))\n",
    "suppressMessages(library(Seurat))\n",
    "suppressMessages(library(Signac))\n",
    "suppressMessages(library(harmony))\n",
    "suppressMessages(library(dplyr))\n",
    "suppressMessages(library(cowplot))\n",
    "suppressMessages(library(harmony))\n",
    "suppressMessages(library(Nebulosa))\n",
    "suppressMessages(library(ggpubr))\n",
    "suppressMessages(library(Ipaper))\n",
    "suppressMessages(library(phateR))\n",
    "suppressMessages(library(ComplexHeatmap))"
   ]
  },
  {
   "cell_type": "code",
   "execution_count": 2,
   "id": "ecfd98e5-4b89-48f1-a9b9-98e187ab92e9",
   "metadata": {},
   "outputs": [
    {
     "data": {
      "text/plain": [
       "An object of class Seurat \n",
       "131519 features across 17533 samples within 3 assays \n",
       "Active assay: RNA (28933 features, 2000 variable features)\n",
       " 2 other assays present: peaks, GeneActivity\n",
       " 5 dimensional reductions calculated: pca, umap, harmony, umap_harmony, umap_harmony_v2"
      ]
     },
     "metadata": {},
     "output_type": "display_data"
    }
   ],
   "source": [
    "coembed <- readRDS(\"../data/coembed/coembed.annotation.Rds\")\n",
    "coembed"
   ]
  },
  {
   "cell_type": "code",
   "execution_count": 5,
   "id": "535a8c4f-f0fa-4456-9575-6b8330cc261b",
   "metadata": {},
   "outputs": [],
   "source": [
    "avg_exp <- AverageExpression(coembed, assays = \"RNA\", group.by = \"annotation\")$RNA"
   ]
  },
  {
   "cell_type": "code",
   "execution_count": 6,
   "id": "ba7ef32b-9225-4c86-b282-83a9d0b2cf15",
   "metadata": {},
   "outputs": [
    {
     "data": {
      "text/html": [
       "<table class=\"dataframe\">\n",
       "<caption>A matrix: 6 × 5 of type dbl</caption>\n",
       "<thead>\n",
       "\t<tr><th></th><th scope=col>LYVE_FOLR_Macrophages</th><th scope=col>LYVE_PLTP_Macrophages</th><th scope=col>Monocytes</th><th scope=col>SPP1_Macrophages</th><th scope=col>CCL18_Macrophages</th></tr>\n",
       "</thead>\n",
       "<tbody>\n",
       "\t<tr><th scope=row>FAM87B</th><td>0.000000000</td><td>0.0006011937</td><td>0.001088002</td><td>0.000000e+00</td><td>0.000000000</td></tr>\n",
       "\t<tr><th scope=row>LINC01128</th><td>0.182597009</td><td>0.2592825677</td><td>0.228115372</td><td>2.580359e-01</td><td>0.215423393</td></tr>\n",
       "\t<tr><th scope=row>LINC00115</th><td>0.023451716</td><td>0.0199339685</td><td>0.024383395</td><td>2.087091e-02</td><td>0.027451188</td></tr>\n",
       "\t<tr><th scope=row>FAM41C</th><td>0.005956609</td><td>0.0050357692</td><td>0.006590365</td><td>9.065779e-05</td><td>0.001780537</td></tr>\n",
       "\t<tr><th scope=row>LINC02593</th><td>0.006645285</td><td>0.0099667819</td><td>0.007936486</td><td>1.327508e-02</td><td>0.004756472</td></tr>\n",
       "\t<tr><th scope=row>SAMD11</th><td>0.015562493</td><td>0.0227919612</td><td>0.020386268</td><td>4.887912e-02</td><td>0.026236596</td></tr>\n",
       "</tbody>\n",
       "</table>\n"
      ],
      "text/latex": [
       "A matrix: 6 × 5 of type dbl\n",
       "\\begin{tabular}{r|lllll}\n",
       "  & LYVE\\_FOLR\\_Macrophages & LYVE\\_PLTP\\_Macrophages & Monocytes & SPP1\\_Macrophages & CCL18\\_Macrophages\\\\\n",
       "\\hline\n",
       "\tFAM87B & 0.000000000 & 0.0006011937 & 0.001088002 & 0.000000e+00 & 0.000000000\\\\\n",
       "\tLINC01128 & 0.182597009 & 0.2592825677 & 0.228115372 & 2.580359e-01 & 0.215423393\\\\\n",
       "\tLINC00115 & 0.023451716 & 0.0199339685 & 0.024383395 & 2.087091e-02 & 0.027451188\\\\\n",
       "\tFAM41C & 0.005956609 & 0.0050357692 & 0.006590365 & 9.065779e-05 & 0.001780537\\\\\n",
       "\tLINC02593 & 0.006645285 & 0.0099667819 & 0.007936486 & 1.327508e-02 & 0.004756472\\\\\n",
       "\tSAMD11 & 0.015562493 & 0.0227919612 & 0.020386268 & 4.887912e-02 & 0.026236596\\\\\n",
       "\\end{tabular}\n"
      ],
      "text/markdown": [
       "\n",
       "A matrix: 6 × 5 of type dbl\n",
       "\n",
       "| <!--/--> | LYVE_FOLR_Macrophages | LYVE_PLTP_Macrophages | Monocytes | SPP1_Macrophages | CCL18_Macrophages |\n",
       "|---|---|---|---|---|---|\n",
       "| FAM87B | 0.000000000 | 0.0006011937 | 0.001088002 | 0.000000e+00 | 0.000000000 |\n",
       "| LINC01128 | 0.182597009 | 0.2592825677 | 0.228115372 | 2.580359e-01 | 0.215423393 |\n",
       "| LINC00115 | 0.023451716 | 0.0199339685 | 0.024383395 | 2.087091e-02 | 0.027451188 |\n",
       "| FAM41C | 0.005956609 | 0.0050357692 | 0.006590365 | 9.065779e-05 | 0.001780537 |\n",
       "| LINC02593 | 0.006645285 | 0.0099667819 | 0.007936486 | 1.327508e-02 | 0.004756472 |\n",
       "| SAMD11 | 0.015562493 | 0.0227919612 | 0.020386268 | 4.887912e-02 | 0.026236596 |\n",
       "\n"
      ],
      "text/plain": [
       "          LYVE_FOLR_Macrophages LYVE_PLTP_Macrophages Monocytes  \n",
       "FAM87B    0.000000000           0.0006011937          0.001088002\n",
       "LINC01128 0.182597009           0.2592825677          0.228115372\n",
       "LINC00115 0.023451716           0.0199339685          0.024383395\n",
       "FAM41C    0.005956609           0.0050357692          0.006590365\n",
       "LINC02593 0.006645285           0.0099667819          0.007936486\n",
       "SAMD11    0.015562493           0.0227919612          0.020386268\n",
       "          SPP1_Macrophages CCL18_Macrophages\n",
       "FAM87B    0.000000e+00     0.000000000      \n",
       "LINC01128 2.580359e-01     0.215423393      \n",
       "LINC00115 2.087091e-02     0.027451188      \n",
       "FAM41C    9.065779e-05     0.001780537      \n",
       "LINC02593 1.327508e-02     0.004756472      \n",
       "SAMD11    4.887912e-02     0.026236596      "
      ]
     },
     "metadata": {},
     "output_type": "display_data"
    }
   ],
   "source": [
    "head(avg_exp)"
   ]
  },
  {
   "cell_type": "code",
   "execution_count": 8,
   "id": "78b0ea85-8884-4f1a-b671-b80c26556b1d",
   "metadata": {},
   "outputs": [],
   "source": [
    "write.csv(avg_exp, \"../data/coembed/avg_exp.csv\")"
   ]
  },
  {
   "cell_type": "code",
   "execution_count": null,
   "id": "44688342-4250-44a5-ba05-98cbfbb06c78",
   "metadata": {},
   "outputs": [],
   "source": []
  }
 ],
 "metadata": {
  "kernelspec": {
   "display_name": "R",
   "language": "R",
   "name": "ir"
  },
  "language_info": {
   "codemirror_mode": "r",
   "file_extension": ".r",
   "mimetype": "text/x-r-source",
   "name": "R",
   "pygments_lexer": "r",
   "version": "4.1.1"
  }
 },
 "nbformat": 4,
 "nbformat_minor": 5
}
