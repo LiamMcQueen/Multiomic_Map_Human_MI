{
 "cells": [
  {
   "cell_type": "code",
   "execution_count": 1,
   "id": "ffe3a67f-e27d-4944-b728-677f629fb844",
   "metadata": {},
   "outputs": [],
   "source": [
    "suppressMessages(library(Gviz))\n",
    "suppressMessages(library(cicero))\n",
    "suppressMessages(library(rtracklayer))\n",
    "suppressMessages(library(ArchR))\n",
    "suppressMessages(library(ComplexHeatmap))\n",
    "suppressMessages(library(dplyr))\n",
    "suppressMessages(library(cowplot))"
   ]
  },
  {
   "cell_type": "code",
   "execution_count": 2,
   "id": "5f5c82f3-4b62-47e5-8203-1ff6f070511e",
   "metadata": {},
   "outputs": [],
   "source": [
    "## load gene model\n",
    "gene_model <- readGFF(\"../data/genes.gtf\")\n",
    "gene_model$chromosome <- gene_model$seqid\n",
    "gene_model$gene <- gene_model$gene_id\n",
    "gene_model$transcript <- gene_model$transcript_id\n",
    "gene_model$symbol <- gene_model$gene_name\n",
    "gene_model$exon <- gene_model$exon_id\n",
    "gene_model$width <- gene_model$end - gene_model$start + 1\n",
    "gene_model$feature <- gene_model$transcript_type\n",
    "gene_model <- subset(gene_model, !is.na(transcript) & !is.na(exon))"
   ]
  },
  {
   "cell_type": "code",
   "execution_count": 7,
   "id": "277257bf-6af1-4476-9bea-5e8c66c115c7",
   "metadata": {},
   "outputs": [
    {
     "data": {
      "text/html": [
       "<table class=\"dataframe\">\n",
       "<caption>A data.frame: 6 × 2</caption>\n",
       "<thead>\n",
       "\t<tr><th></th><th scope=col>gene</th><th scope=col>gene_pos</th></tr>\n",
       "\t<tr><th></th><th scope=col>&lt;chr&gt;</th><th scope=col>&lt;chr&gt;</th></tr>\n",
       "</thead>\n",
       "<tbody>\n",
       "\t<tr><th scope=row>1</th><td>OR4F5       </td><td>chr1_69090_69091  </td></tr>\n",
       "\t<tr><th scope=row>2</th><td>LOC729737   </td><td>chr1_140338_140339</td></tr>\n",
       "\t<tr><th scope=row>3</th><td>LOC101928626</td><td>chr1_629009_629010</td></tr>\n",
       "\t<tr><th scope=row>4</th><td>NA          </td><td>chr1_632412_632413</td></tr>\n",
       "\t<tr><th scope=row>5</th><td>FAM87B      </td><td>chr1_817370_817371</td></tr>\n",
       "\t<tr><th scope=row>6</th><td>LINC01128   </td><td>chr1_825137_825138</td></tr>\n",
       "</tbody>\n",
       "</table>\n"
      ],
      "text/latex": [
       "A data.frame: 6 × 2\n",
       "\\begin{tabular}{r|ll}\n",
       "  & gene & gene\\_pos\\\\\n",
       "  & <chr> & <chr>\\\\\n",
       "\\hline\n",
       "\t1 & OR4F5        & chr1\\_69090\\_69091  \\\\\n",
       "\t2 & LOC729737    & chr1\\_140338\\_140339\\\\\n",
       "\t3 & LOC101928626 & chr1\\_629009\\_629010\\\\\n",
       "\t4 & NA           & chr1\\_632412\\_632413\\\\\n",
       "\t5 & FAM87B       & chr1\\_817370\\_817371\\\\\n",
       "\t6 & LINC01128    & chr1\\_825137\\_825138\\\\\n",
       "\\end{tabular}\n"
      ],
      "text/markdown": [
       "\n",
       "A data.frame: 6 × 2\n",
       "\n",
       "| <!--/--> | gene &lt;chr&gt; | gene_pos &lt;chr&gt; |\n",
       "|---|---|---|\n",
       "| 1 | OR4F5        | chr1_69090_69091   |\n",
       "| 2 | LOC729737    | chr1_140338_140339 |\n",
       "| 3 | LOC101928626 | chr1_629009_629010 |\n",
       "| 4 | NA           | chr1_632412_632413 |\n",
       "| 5 | FAM87B       | chr1_817370_817371 |\n",
       "| 6 | LINC01128    | chr1_825137_825138 |\n",
       "\n"
      ],
      "text/plain": [
       "  gene         gene_pos          \n",
       "1 OR4F5        chr1_69090_69091  \n",
       "2 LOC729737    chr1_140338_140339\n",
       "3 LOC101928626 chr1_629009_629010\n",
       "4 NA           chr1_632412_632413\n",
       "5 FAM87B       chr1_817370_817371\n",
       "6 LINC01128    chr1_825137_825138"
      ]
     },
     "metadata": {},
     "output_type": "display_data"
    }
   ],
   "source": [
    "## get promoter coordinates for genes\n",
    "df_gene <- readRDS(\"../data/gene.rds\")\n",
    "\n",
    "head(df_gene)"
   ]
  },
  {
   "cell_type": "code",
   "execution_count": 11,
   "id": "37edfd87-b6fb-457e-9837-2200d488d176",
   "metadata": {},
   "outputs": [
    {
     "data": {
      "text/html": [
       "<table class=\"dataframe\">\n",
       "<caption>A data.frame: 6 × 4</caption>\n",
       "<thead>\n",
       "\t<tr><th></th><th scope=col>gene</th><th scope=col>peak</th><th scope=col>FDR</th><th scope=col>gene_pos</th></tr>\n",
       "\t<tr><th></th><th scope=col>&lt;chr&gt;</th><th scope=col>&lt;chr&gt;</th><th scope=col>&lt;dbl&gt;</th><th scope=col>&lt;chr&gt;</th></tr>\n",
       "</thead>\n",
       "<tbody>\n",
       "\t<tr><th scope=row>1</th><td>A2M  </td><td>chr12_9039340_9039840   </td><td>1.169602e-05</td><td>chr12_9116228_9116229   </td></tr>\n",
       "\t<tr><th scope=row>2</th><td>A2M  </td><td>chr12_9124227_9124727   </td><td>7.109326e-08</td><td>chr12_9116228_9116229   </td></tr>\n",
       "\t<tr><th scope=row>3</th><td>A2M  </td><td>chr12_8948526_8949026   </td><td>2.871069e-15</td><td>chr12_9116228_9116229   </td></tr>\n",
       "\t<tr><th scope=row>4</th><td>AAMDC</td><td>chr11_78040343_78040843 </td><td>1.445553e-05</td><td>chr11_77821108_77821109 </td></tr>\n",
       "\t<tr><th scope=row>5</th><td>AAMDC</td><td>chr11_77590510_77591010 </td><td>2.853359e-05</td><td>chr11_77821108_77821109 </td></tr>\n",
       "\t<tr><th scope=row>6</th><td>ABCA1</td><td>chr9_105159281_105159781</td><td>1.083615e-06</td><td>chr9_104928236_104928237</td></tr>\n",
       "</tbody>\n",
       "</table>\n"
      ],
      "text/latex": [
       "A data.frame: 6 × 4\n",
       "\\begin{tabular}{r|llll}\n",
       "  & gene & peak & FDR & gene\\_pos\\\\\n",
       "  & <chr> & <chr> & <dbl> & <chr>\\\\\n",
       "\\hline\n",
       "\t1 & A2M   & chr12\\_9039340\\_9039840    & 1.169602e-05 & chr12\\_9116228\\_9116229   \\\\\n",
       "\t2 & A2M   & chr12\\_9124227\\_9124727    & 7.109326e-08 & chr12\\_9116228\\_9116229   \\\\\n",
       "\t3 & A2M   & chr12\\_8948526\\_8949026    & 2.871069e-15 & chr12\\_9116228\\_9116229   \\\\\n",
       "\t4 & AAMDC & chr11\\_78040343\\_78040843  & 1.445553e-05 & chr11\\_77821108\\_77821109 \\\\\n",
       "\t5 & AAMDC & chr11\\_77590510\\_77591010  & 2.853359e-05 & chr11\\_77821108\\_77821109 \\\\\n",
       "\t6 & ABCA1 & chr9\\_105159281\\_105159781 & 1.083615e-06 & chr9\\_104928236\\_104928237\\\\\n",
       "\\end{tabular}\n"
      ],
      "text/markdown": [
       "\n",
       "A data.frame: 6 × 4\n",
       "\n",
       "| <!--/--> | gene &lt;chr&gt; | peak &lt;chr&gt; | FDR &lt;dbl&gt; | gene_pos &lt;chr&gt; |\n",
       "|---|---|---|---|---|\n",
       "| 1 | A2M   | chr12_9039340_9039840    | 1.169602e-05 | chr12_9116228_9116229    |\n",
       "| 2 | A2M   | chr12_9124227_9124727    | 7.109326e-08 | chr12_9116228_9116229    |\n",
       "| 3 | A2M   | chr12_8948526_8949026    | 2.871069e-15 | chr12_9116228_9116229    |\n",
       "| 4 | AAMDC | chr11_78040343_78040843  | 1.445553e-05 | chr11_77821108_77821109  |\n",
       "| 5 | AAMDC | chr11_77590510_77591010  | 2.853359e-05 | chr11_77821108_77821109  |\n",
       "| 6 | ABCA1 | chr9_105159281_105159781 | 1.083615e-06 | chr9_104928236_104928237 |\n",
       "\n"
      ],
      "text/plain": [
       "  gene  peak                     FDR          gene_pos                \n",
       "1 A2M   chr12_9039340_9039840    1.169602e-05 chr12_9116228_9116229   \n",
       "2 A2M   chr12_9124227_9124727    7.109326e-08 chr12_9116228_9116229   \n",
       "3 A2M   chr12_8948526_8949026    2.871069e-15 chr12_9116228_9116229   \n",
       "4 AAMDC chr11_78040343_78040843  1.445553e-05 chr11_77821108_77821109 \n",
       "5 AAMDC chr11_77590510_77591010  2.853359e-05 chr11_77821108_77821109 \n",
       "6 ABCA1 chr9_105159281_105159781 1.083615e-06 chr9_104928236_104928237"
      ]
     },
     "metadata": {},
     "output_type": "display_data"
    }
   ],
   "source": [
    "df_p2g <- read.csv(\"../data/snATAC_SCARA5_Myofib/p2g.csv\") %>%\n",
    "    subset(select = c(peak, gene, FDR))\n",
    "\n",
    "df_p2g <- merge.data.frame(df_p2g, df_gene)\n",
    "\n",
    "head(df_p2g)"
   ]
  },
  {
   "cell_type": "code",
   "execution_count": 12,
   "id": "46ef98b1-e472-448b-993f-8d69da0f56c1",
   "metadata": {},
   "outputs": [
    {
     "data": {
      "text/html": [
       "<table class=\"dataframe\">\n",
       "<caption>A data.frame: 0 × 4</caption>\n",
       "<thead>\n",
       "\t<tr><th scope=col>gene</th><th scope=col>peak</th><th scope=col>FDR</th><th scope=col>gene_pos</th></tr>\n",
       "\t<tr><th scope=col>&lt;chr&gt;</th><th scope=col>&lt;chr&gt;</th><th scope=col>&lt;dbl&gt;</th><th scope=col>&lt;chr&gt;</th></tr>\n",
       "</thead>\n",
       "<tbody>\n",
       "</tbody>\n",
       "</table>\n"
      ],
      "text/latex": [
       "A data.frame: 0 × 4\n",
       "\\begin{tabular}{llll}\n",
       " gene & peak & FDR & gene\\_pos\\\\\n",
       " <chr> & <chr> & <dbl> & <chr>\\\\\n",
       "\\hline\n",
       "\\end{tabular}\n"
      ],
      "text/markdown": [
       "\n",
       "A data.frame: 0 × 4\n",
       "\n",
       "| gene &lt;chr&gt; | peak &lt;chr&gt; | FDR &lt;dbl&gt; | gene_pos &lt;chr&gt; |\n",
       "|---|---|---|---|\n",
       "\n"
      ],
      "text/plain": [
       "     gene peak FDR gene_pos"
      ]
     },
     "metadata": {},
     "output_type": "display_data"
    }
   ],
   "source": [
    "df_p2g_rela <- subset(df_p2g, gene == \"RELA\")\n",
    "\n",
    "head(df_p2g_rela)"
   ]
  },
  {
   "cell_type": "code",
   "execution_count": null,
   "id": "501d51c2-5def-4d15-ac5a-6387f3ca31a2",
   "metadata": {},
   "outputs": [],
   "source": [
    "chromosome <- \"chr8\"\n",
    "from <- 11575000\n",
    "to <- 11710000\n",
    "\n",
    "df_link$coaccess[df_link$coaccess > 100] <- 100\n",
    "\n",
    "link_tracks <- plot_connections(df_link, chromosome, from, to,\n",
    "                                  gene_model = gene_model,\n",
    "                                  coaccess_cutoff = 30, \n",
    "                                  connection_width = 1.0, \n",
    "                                  connection_ymax = 100,\n",
    "                                  connection_color = \"#377eb8\",\n",
    "                                  collapseTranscripts = \"longest\",\n",
    "                                  include_axis_track = FALSE,\n",
    "                                  return_as_list = TRUE)"
   ]
  }
 ],
 "metadata": {
  "kernelspec": {
   "display_name": "R",
   "language": "R",
   "name": "ir"
  },
  "language_info": {
   "codemirror_mode": "r",
   "file_extension": ".r",
   "mimetype": "text/x-r-source",
   "name": "R",
   "pygments_lexer": "r",
   "version": "4.1.1"
  }
 },
 "nbformat": 4,
 "nbformat_minor": 5
}
