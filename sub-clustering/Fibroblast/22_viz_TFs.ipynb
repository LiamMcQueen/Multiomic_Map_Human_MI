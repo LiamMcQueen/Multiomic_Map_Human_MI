{
 "cells": [
  {
   "cell_type": "code",
   "execution_count": 1,
   "id": "ae84b656-3a93-450f-aca9-34225935b82b",
   "metadata": {},
   "outputs": [],
   "source": [
    "options(warn=-1)\n",
    "\n",
    "suppressMessages(library(ArchR))\n",
    "suppressMessages(library(Seurat))\n",
    "suppressMessages(library(Signac))\n",
    "suppressMessages(library(harmony))\n",
    "suppressMessages(library(dplyr))\n",
    "suppressMessages(library(cowplot))\n",
    "suppressMessages(library(harmony))\n",
    "suppressMessages(library(Nebulosa))\n",
    "suppressMessages(library(ggpubr))\n",
    "suppressMessages(library(Ipaper))\n",
    "suppressMessages(library(phateR))\n",
    "suppressMessages(library(parallel))\n",
    "suppressMessages(library(ggrepel))\n",
    "suppressMessages(library(circlize))"
   ]
  },
  {
   "cell_type": "code",
   "execution_count": 2,
   "id": "415cd453-e87f-4df0-8f34-fb4e4e3dfe1d",
   "metadata": {},
   "outputs": [
    {
     "data": {
      "text/html": [
       "'/data/scATA/SingleCellOpenChromatin/local/VisiumHeartRevision/IntegrativeAnalysis/Fibroblast/code'"
      ],
      "text/latex": [
       "'/data/scATA/SingleCellOpenChromatin/local/VisiumHeartRevision/IntegrativeAnalysis/Fibroblast/code'"
      ],
      "text/markdown": [
       "'/data/scATA/SingleCellOpenChromatin/local/VisiumHeartRevision/IntegrativeAnalysis/Fibroblast/code'"
      ],
      "text/plain": [
       "[1] \"/data/scATA/SingleCellOpenChromatin/local/VisiumHeartRevision/IntegrativeAnalysis/Fibroblast/code\""
      ]
     },
     "metadata": {},
     "output_type": "display_data"
    },
    {
     "name": "stderr",
     "output_type": "stream",
     "text": [
      "Setting default number of Parallel threads to 126.\n",
      "\n",
      "Setting default genome to Hg38.\n",
      "\n"
     ]
    }
   ],
   "source": [
    "set.seed(42)\n",
    "getwd()\n",
    "\n",
    "addArchRThreads(threads = parallel::detectCores() - 2)\n",
    "addArchRGenome(\"hg38\")"
   ]
  },
  {
   "cell_type": "code",
   "execution_count": 3,
   "id": "3ec986ac-fe7f-45d0-8625-28baf4d3c02d",
   "metadata": {},
   "outputs": [
    {
     "name": "stderr",
     "output_type": "stream",
     "text": [
      "Successfully loaded ArchRProject!\n",
      "\n"
     ]
    }
   ],
   "source": [
    "## subset atac project\n",
    "proj <- loadArchRProject(\"../data/snATAC_SCARA5_Myofib\", showLogo = FALSE)"
   ]
  },
  {
   "cell_type": "code",
   "execution_count": 6,
   "id": "dfe6d79c-0282-4835-92ba-5e3c7263dc24",
   "metadata": {},
   "outputs": [
    {
     "data": {
      "text/html": [
       "<table class=\"dataframe\">\n",
       "<caption>A data.frame: 6 × 12</caption>\n",
       "<thead>\n",
       "\t<tr><th></th><th scope=col>idx1</th><th scope=col>idx2</th><th scope=col>matchname1</th><th scope=col>matchname2</th><th scope=col>name1</th><th scope=col>name2</th><th scope=col>Correlation</th><th scope=col>VarAssay1</th><th scope=col>VarAssay2</th><th scope=col>TStat</th><th scope=col>Pval</th><th scope=col>FDR</th></tr>\n",
       "\t<tr><th></th><th scope=col>&lt;int&gt;</th><th scope=col>&lt;int&gt;</th><th scope=col>&lt;chr&gt;</th><th scope=col>&lt;chr&gt;</th><th scope=col>&lt;chr&gt;</th><th scope=col>&lt;chr&gt;</th><th scope=col>&lt;dbl&gt;</th><th scope=col>&lt;dbl&gt;</th><th scope=col>&lt;dbl&gt;</th><th scope=col>&lt;dbl&gt;</th><th scope=col>&lt;dbl&gt;</th><th scope=col>&lt;dbl&gt;</th></tr>\n",
       "</thead>\n",
       "<tbody>\n",
       "\t<tr><th scope=row>5</th><td>17</td><td> 3251</td><td>RELA   </td><td>RELA   </td><td>z:RELA_17   </td><td>chr11:RELA  </td><td>0.1537066</td><td>0.8278041</td><td>0.5642279</td><td>1.539917</td><td>0.12680337</td><td>0.9308782</td></tr>\n",
       "\t<tr><th scope=row>6</th><td>20</td><td>15086</td><td>ZNF354C</td><td>ZNF354C</td><td>z:ZNF354C_20</td><td>chr5:ZNF354C</td><td>0.1032200</td><td>0.6714060</td><td>0.6586250</td><td>1.027314</td><td>0.30680183</td><td>0.9533176</td></tr>\n",
       "\t<tr><th scope=row>7</th><td>21</td><td> 6967</td><td>CTCF   </td><td>CTCF   </td><td>z:CTCF_21   </td><td>chr16:CTCF  </td><td>0.1207020</td><td>0.8436019</td><td>0.8611900</td><td>1.203690</td><td>0.23160901</td><td>0.9533176</td></tr>\n",
       "\t<tr><th scope=row>14</th><td>37</td><td>14546</td><td>MEF2C  </td><td>MEF2C  </td><td>z:MEF2C_37  </td><td>chr5:MEF2C  </td><td>0.2249046</td><td>0.8088468</td><td>0.6963629</td><td>2.284981</td><td>0.02446968</td><td>0.5334390</td></tr>\n",
       "\t<tr><th scope=row>18</th><td>50</td><td> 7725</td><td>STAT3  </td><td>STAT3  </td><td>z:STAT3_50  </td><td>chr17:STAT3 </td><td>0.1020400</td><td>0.6271722</td><td>0.8251866</td><td>1.015445</td><td>0.31239421</td><td>0.9533176</td></tr>\n",
       "\t<tr><th scope=row>19</th><td>53</td><td>16717</td><td>FOXP2  </td><td>FOXP2  </td><td>z:FOXP2_53  </td><td>chr7:FOXP2  </td><td>0.1169310</td><td>0.7898894</td><td>0.8924629</td><td>1.165554</td><td>0.24662388</td><td>0.9533176</td></tr>\n",
       "</tbody>\n",
       "</table>\n"
      ],
      "text/latex": [
       "A data.frame: 6 × 12\n",
       "\\begin{tabular}{r|llllllllllll}\n",
       "  & idx1 & idx2 & matchname1 & matchname2 & name1 & name2 & Correlation & VarAssay1 & VarAssay2 & TStat & Pval & FDR\\\\\n",
       "  & <int> & <int> & <chr> & <chr> & <chr> & <chr> & <dbl> & <dbl> & <dbl> & <dbl> & <dbl> & <dbl>\\\\\n",
       "\\hline\n",
       "\t5 & 17 &  3251 & RELA    & RELA    & z:RELA\\_17    & chr11:RELA   & 0.1537066 & 0.8278041 & 0.5642279 & 1.539917 & 0.12680337 & 0.9308782\\\\\n",
       "\t6 & 20 & 15086 & ZNF354C & ZNF354C & z:ZNF354C\\_20 & chr5:ZNF354C & 0.1032200 & 0.6714060 & 0.6586250 & 1.027314 & 0.30680183 & 0.9533176\\\\\n",
       "\t7 & 21 &  6967 & CTCF    & CTCF    & z:CTCF\\_21    & chr16:CTCF   & 0.1207020 & 0.8436019 & 0.8611900 & 1.203690 & 0.23160901 & 0.9533176\\\\\n",
       "\t14 & 37 & 14546 & MEF2C   & MEF2C   & z:MEF2C\\_37   & chr5:MEF2C   & 0.2249046 & 0.8088468 & 0.6963629 & 2.284981 & 0.02446968 & 0.5334390\\\\\n",
       "\t18 & 50 &  7725 & STAT3   & STAT3   & z:STAT3\\_50   & chr17:STAT3  & 0.1020400 & 0.6271722 & 0.8251866 & 1.015445 & 0.31239421 & 0.9533176\\\\\n",
       "\t19 & 53 & 16717 & FOXP2   & FOXP2   & z:FOXP2\\_53   & chr7:FOXP2   & 0.1169310 & 0.7898894 & 0.8924629 & 1.165554 & 0.24662388 & 0.9533176\\\\\n",
       "\\end{tabular}\n"
      ],
      "text/markdown": [
       "\n",
       "A data.frame: 6 × 12\n",
       "\n",
       "| <!--/--> | idx1 &lt;int&gt; | idx2 &lt;int&gt; | matchname1 &lt;chr&gt; | matchname2 &lt;chr&gt; | name1 &lt;chr&gt; | name2 &lt;chr&gt; | Correlation &lt;dbl&gt; | VarAssay1 &lt;dbl&gt; | VarAssay2 &lt;dbl&gt; | TStat &lt;dbl&gt; | Pval &lt;dbl&gt; | FDR &lt;dbl&gt; |\n",
       "|---|---|---|---|---|---|---|---|---|---|---|---|---|\n",
       "| 5 | 17 |  3251 | RELA    | RELA    | z:RELA_17    | chr11:RELA   | 0.1537066 | 0.8278041 | 0.5642279 | 1.539917 | 0.12680337 | 0.9308782 |\n",
       "| 6 | 20 | 15086 | ZNF354C | ZNF354C | z:ZNF354C_20 | chr5:ZNF354C | 0.1032200 | 0.6714060 | 0.6586250 | 1.027314 | 0.30680183 | 0.9533176 |\n",
       "| 7 | 21 |  6967 | CTCF    | CTCF    | z:CTCF_21    | chr16:CTCF   | 0.1207020 | 0.8436019 | 0.8611900 | 1.203690 | 0.23160901 | 0.9533176 |\n",
       "| 14 | 37 | 14546 | MEF2C   | MEF2C   | z:MEF2C_37   | chr5:MEF2C   | 0.2249046 | 0.8088468 | 0.6963629 | 2.284981 | 0.02446968 | 0.5334390 |\n",
       "| 18 | 50 |  7725 | STAT3   | STAT3   | z:STAT3_50   | chr17:STAT3  | 0.1020400 | 0.6271722 | 0.8251866 | 1.015445 | 0.31239421 | 0.9533176 |\n",
       "| 19 | 53 | 16717 | FOXP2   | FOXP2   | z:FOXP2_53   | chr7:FOXP2   | 0.1169310 | 0.7898894 | 0.8924629 | 1.165554 | 0.24662388 | 0.9533176 |\n",
       "\n"
      ],
      "text/plain": [
       "   idx1 idx2  matchname1 matchname2 name1        name2        Correlation\n",
       "5  17    3251 RELA       RELA       z:RELA_17    chr11:RELA   0.1537066  \n",
       "6  20   15086 ZNF354C    ZNF354C    z:ZNF354C_20 chr5:ZNF354C 0.1032200  \n",
       "7  21    6967 CTCF       CTCF       z:CTCF_21    chr16:CTCF   0.1207020  \n",
       "14 37   14546 MEF2C      MEF2C      z:MEF2C_37   chr5:MEF2C   0.2249046  \n",
       "18 50    7725 STAT3      STAT3      z:STAT3_50   chr17:STAT3  0.1020400  \n",
       "19 53   16717 FOXP2      FOXP2      z:FOXP2_53   chr7:FOXP2   0.1169310  \n",
       "   VarAssay1 VarAssay2 TStat    Pval       FDR      \n",
       "5  0.8278041 0.5642279 1.539917 0.12680337 0.9308782\n",
       "6  0.6714060 0.6586250 1.027314 0.30680183 0.9533176\n",
       "7  0.8436019 0.8611900 1.203690 0.23160901 0.9533176\n",
       "14 0.8088468 0.6963629 2.284981 0.02446968 0.5334390\n",
       "18 0.6271722 0.8251866 1.015445 0.31239421 0.9533176\n",
       "19 0.7898894 0.8924629 1.165554 0.24662388 0.9533176"
      ]
     },
     "metadata": {},
     "output_type": "display_data"
    }
   ],
   "source": [
    "## we first plot the activity and expression of the selected TFs\n",
    "df_tf <- read.csv(\"../data/snATAC_SCARA5_Myofib/sel_tf_by_expression.csv\", row.names = 1)\n",
    "head(df_tf)"
   ]
  },
  {
   "cell_type": "code",
   "execution_count": 7,
   "id": "862d01a6-d81a-4334-878c-6e3823be6084",
   "metadata": {},
   "outputs": [
    {
     "name": "stderr",
     "output_type": "stream",
     "text": [
      "Creating Trajectory Group Matrix..\n",
      "\n",
      "Smoothing...\n",
      "\n",
      "ArchR logging to : ArchRLogs/ArchR-plotTrajectoryHeatmap-31ece6af1adcd-Date-2022-02-24_Time-19-42-27.log\n",
      "If there is an issue, please report to github with logFile!\n",
      "\n",
      "useSeqnames is NULL or greater than 1 with a Sparse.Assays.Matrix trajectory input.\n",
      "\n",
      "2022-02-24 19:42:27 : \n",
      "\n",
      "force=FALSE thus continuing with subsetting useSeqnames = z\n",
      "\n",
      "2022-02-24 19:42:27 : \n",
      "\n",
      "Preparing Main Heatmap..\n",
      "\n",
      "'magick' package is suggested to install to give better rasterization.\n",
      "\n",
      "Set `ht_opt$message = FALSE` to turn off this message.\n",
      "\n",
      "ArchR logging successful to : ArchRLogs/ArchR-plotTrajectoryHeatmap-31ece6af1adcd-Date-2022-02-24_Time-19-42-27.log\n",
      "\n"
     ]
    }
   ],
   "source": [
    "## obtain tf activity along the trajectory\n",
    "trajMM  <- getTrajectory(ArchRProj = proj,\n",
    "                         name = \"SCARA5_Myofib_dm\",\n",
    "                         useMatrix = \"MotifMatrix\",\n",
    "                         log2Norm = FALSE,\n",
    "                         scaleTo = NULL,\n",
    "                        smoothWindow = 11)\n",
    "\n",
    "trajMM <- trajMM[!grepl(\"deviations\", rownames(trajMM)), ]\n",
    "\n",
    "matMM <- plotTrajectoryHeatmap(trajMM, \n",
    "                            varCutOff = 0,\n",
    "                            pal = paletteContinuous(set = \"solarExtra\"),\n",
    "                            limits = c(-2, 2),\n",
    "                              returnMatrix = TRUE)\n",
    "\n",
    "df_motif_activity <- as.data.frame(matMM[df_tf$name1, ]) \n",
    "colnames(df_motif_activity) <- 1:100\n",
    "df_motif_activity$tf <- rownames(df_motif_activity)\n",
    "\n",
    "df_motif_activity2 <- tidyr::pivot_longer(df_motif_activity, -tf, names_to = \"pseudotime\", values_to = \"tf_activity\")\n",
    "\n",
    "df_motif_activity2$pseudotime <- as.numeric(df_motif_activity2$pseudotime)\n",
    "df_motif_activity2$tf <- stringr::str_split_fixed(df_motif_activity2$tf, \":|_\", 3)[, 2]"
   ]
  },
  {
   "cell_type": "code",
   "execution_count": 8,
   "id": "0feda574-1b4b-4e93-b09f-f2d603502edc",
   "metadata": {},
   "outputs": [
    {
     "name": "stderr",
     "output_type": "stream",
     "text": [
      "Creating Trajectory Group Matrix..\n",
      "\n",
      "Smoothing...\n",
      "\n",
      "ArchR logging to : ArchRLogs/ArchR-plotTrajectoryHeatmap-31ece626facd70-Date-2022-02-24_Time-19-42-43.log\n",
      "If there is an issue, please report to github with logFile!\n",
      "\n",
      "Preparing Main Heatmap..\n",
      "\n",
      "'magick' package is suggested to install to give better rasterization.\n",
      "\n",
      "Set `ht_opt$message = FALSE` to turn off this message.\n",
      "\n",
      "ArchR logging successful to : ArchRLogs/ArchR-plotTrajectoryHeatmap-31ece626facd70-Date-2022-02-24_Time-19-42-43.log\n",
      "\n"
     ]
    }
   ],
   "source": [
    "trajGEX <- getTrajectory(ArchRProj = proj,\n",
    "                         name = \"SCARA5_Myofib_dm\",\n",
    "                         useMatrix = \"GeneExpressionMatrix\",\n",
    "                         log2Norm = TRUE,\n",
    "                        smoothWindow = 11)\n",
    "\n",
    "trajGEX <- trajGEX[df_tf$name2, ]\n",
    "\n",
    "gene_expression <- plotTrajectoryHeatmap(trajGEX,\n",
    "                        varCutOff = 0,\n",
    "                        pal = paletteContinuous(set = \"horizonExtra\"),\n",
    "                        limits = c(-2, 2),\n",
    "                                         returnMatrix = TRUE)\n",
    "\n",
    "df_gene_expression <- as.data.frame(gene_expression) \n",
    "colnames(df_gene_expression) <- 1:100\n",
    "df_gene_expression$tf <- rownames(df_gene_expression)\n",
    "\n",
    "df_gene_expression2 <- tidyr::pivot_longer(df_gene_expression, -tf, names_to = \"pseudotime\", values_to = \"tf_expression\")\n",
    "\n",
    "df_gene_expression2$pseudotime <- as.numeric(df_gene_expression2$pseudotime)\n",
    "df_gene_expression2$tf <- stringr::str_split_fixed(df_gene_expression2$tf, \":\", 2)[, 2]"
   ]
  },
  {
   "cell_type": "code",
   "execution_count": 10,
   "id": "605a4eb3-6186-444d-9ba6-312b2178c159",
   "metadata": {},
   "outputs": [],
   "source": [
    "if(!dir.exists(\"../data/snATAC_SCARA5_Myofib/VisGRN_V2/TF\")){\n",
    "    dir.create(\"../data/snATAC_SCARA5_Myofib/VisGRN_V2/TF\", recursive = TRUE)\n",
    "}\n",
    "\n",
    "write.csv(df_motif_activity2, \"../data/snATAC_SCARA5_Myofib/VisGRN_V2/TF_activity.csv\")\n",
    "write.csv(df_gene_expression2, \"../data/snATAC_SCARA5_Myofib/VisGRN_V2/TF_expression.csv\")\n",
    "\n",
    "for(sel_tf in unique(df_motif_activity2$tf)){\n",
    "        df_plot1 <- subset(df_motif_activity2, tf == sel_tf) %>%\n",
    "            rename(value = tf_activity) %>%\n",
    "            mutate(value = scale(value)) %>%\n",
    "            mutate(data = \"Activity\")\n",
    "\n",
    "        \n",
    "        df_plot2 <- subset(df_gene_expression2, tf == sel_tf) %>%\n",
    "            rename(value = tf_expression)%>%\n",
    "            mutate(value = scale(value)) %>%\n",
    "            mutate(data = \"Expression\")\n",
    "        \n",
    "        df_plot <- rbind(df_plot1, df_plot2)\n",
    "        \n",
    "        p <- ggplot(data = df_plot, aes(x = pseudotime, y = value, color = data)) +\n",
    "        geom_smooth(method = \"loess\",se = FALSE, formula = y ~ x) +\n",
    "        theme_cowplot() +\n",
    "        theme(legend.title = element_blank())\n",
    "    \n",
    "         ggsave(glue::glue(\"../data/snATAC_SCARA5_Myofib/VisGRN_V2/TF/{sel_tf}.pdf\"),\n",
    "                  plot = p, height = 3, width = 5)\n",
    "        \n",
    "}"
   ]
  },
  {
   "cell_type": "code",
   "execution_count": 11,
   "id": "3cdff57c-21b2-4143-91aa-02422b198146",
   "metadata": {},
   "outputs": [
    {
     "data": {
      "text/html": [
       "<table class=\"dataframe\">\n",
       "<caption>A data.frame: 6 × 3</caption>\n",
       "<thead>\n",
       "\t<tr><th></th><th scope=col>tf</th><th scope=col>gene</th><th scope=col>correlation</th></tr>\n",
       "\t<tr><th></th><th scope=col>&lt;chr&gt;</th><th scope=col>&lt;chr&gt;</th><th scope=col>&lt;dbl&gt;</th></tr>\n",
       "</thead>\n",
       "<tbody>\n",
       "\t<tr><th scope=row>1</th><td>KLF2  </td><td>PCOLCE2</td><td>0.9462578</td></tr>\n",
       "\t<tr><th scope=row>2</th><td>KLF4  </td><td>PCOLCE2</td><td>0.9476462</td></tr>\n",
       "\t<tr><th scope=row>3</th><td>SP3   </td><td>PCOLCE2</td><td>0.9405444</td></tr>\n",
       "\t<tr><th scope=row>4</th><td>ATF4  </td><td>PCOLCE2</td><td>0.9121518</td></tr>\n",
       "\t<tr><th scope=row>5</th><td>ELF2  </td><td>PCOLCE2</td><td>0.7645778</td></tr>\n",
       "\t<tr><th scope=row>6</th><td>THAP11</td><td>PCOLCE2</td><td>0.8967850</td></tr>\n",
       "</tbody>\n",
       "</table>\n"
      ],
      "text/latex": [
       "A data.frame: 6 × 3\n",
       "\\begin{tabular}{r|lll}\n",
       "  & tf & gene & correlation\\\\\n",
       "  & <chr> & <chr> & <dbl>\\\\\n",
       "\\hline\n",
       "\t1 & KLF2   & PCOLCE2 & 0.9462578\\\\\n",
       "\t2 & KLF4   & PCOLCE2 & 0.9476462\\\\\n",
       "\t3 & SP3    & PCOLCE2 & 0.9405444\\\\\n",
       "\t4 & ATF4   & PCOLCE2 & 0.9121518\\\\\n",
       "\t5 & ELF2   & PCOLCE2 & 0.7645778\\\\\n",
       "\t6 & THAP11 & PCOLCE2 & 0.8967850\\\\\n",
       "\\end{tabular}\n"
      ],
      "text/markdown": [
       "\n",
       "A data.frame: 6 × 3\n",
       "\n",
       "| <!--/--> | tf &lt;chr&gt; | gene &lt;chr&gt; | correlation &lt;dbl&gt; |\n",
       "|---|---|---|---|\n",
       "| 1 | KLF2   | PCOLCE2 | 0.9462578 |\n",
       "| 2 | KLF4   | PCOLCE2 | 0.9476462 |\n",
       "| 3 | SP3    | PCOLCE2 | 0.9405444 |\n",
       "| 4 | ATF4   | PCOLCE2 | 0.9121518 |\n",
       "| 5 | ELF2   | PCOLCE2 | 0.7645778 |\n",
       "| 6 | THAP11 | PCOLCE2 | 0.8967850 |\n",
       "\n"
      ],
      "text/plain": [
       "  tf     gene    correlation\n",
       "1 KLF2   PCOLCE2 0.9462578  \n",
       "2 KLF4   PCOLCE2 0.9476462  \n",
       "3 SP3    PCOLCE2 0.9405444  \n",
       "4 ATF4   PCOLCE2 0.9121518  \n",
       "5 ELF2   PCOLCE2 0.7645778  \n",
       "6 THAP11 PCOLCE2 0.8967850  "
      ]
     },
     "metadata": {},
     "output_type": "display_data"
    },
    {
     "data": {
      "text/html": [
       "7992"
      ],
      "text/latex": [
       "7992"
      ],
      "text/markdown": [
       "7992"
      ],
      "text/plain": [
       "[1] 7992"
      ]
     },
     "metadata": {},
     "output_type": "display_data"
    }
   ],
   "source": [
    "df_tf_gene <- read.csv(\"../data/snATAC_SCARA5_Myofib/gene_regulatory_network.csv\")\n",
    "\n",
    "#df_tf_gene$tf <- stringr::str_split_fixed(df_tf_gene$tf, \":\", 2)[, 2]\n",
    "\n",
    "head(df_tf_gene)\n",
    "nrow(df_tf_gene)"
   ]
  },
  {
   "cell_type": "code",
   "execution_count": 12,
   "id": "aeeced1e-a9e1-4e73-b2b6-b18f41d50056",
   "metadata": {},
   "outputs": [
    {
     "name": "stderr",
     "output_type": "stream",
     "text": [
      "Creating Trajectory Group Matrix..\n",
      "\n",
      "Smoothing...\n",
      "\n"
     ]
    }
   ],
   "source": [
    "trajGEX <- getTrajectory(ArchRProj = proj,\n",
    "                         name = \"SCARA5_Myofib_dm\",\n",
    "                         useMatrix = \"GeneExpressionMatrix\",\n",
    "                         log2Norm = TRUE,\n",
    "                        smoothWindow = 11)"
   ]
  },
  {
   "cell_type": "code",
   "execution_count": 14,
   "id": "9c971bb4-ad6a-4b86-a869-8e48b1e588f8",
   "metadata": {},
   "outputs": [
    {
     "name": "stderr",
     "output_type": "stream",
     "text": [
      "ArchR logging to : ArchRLogs/ArchR-plotTrajectoryHeatmap-31ece626ffa68d-Date-2022-02-24_Time-19-46-38.log\n",
      "If there is an issue, please report to github with logFile!\n",
      "\n",
      "Preparing Main Heatmap..\n",
      "\n",
      "'magick' package is suggested to install to give better rasterization.\n",
      "\n",
      "Set `ht_opt$message = FALSE` to turn off this message.\n",
      "\n",
      "ArchR logging successful to : ArchRLogs/ArchR-plotTrajectoryHeatmap-31ece626ffa68d-Date-2022-02-24_Time-19-46-38.log\n",
      "\n"
     ]
    },
    {
     "data": {
      "text/html": [
       "<table class=\"dataframe\">\n",
       "<caption>A matrix: 6 × 100 of type dbl</caption>\n",
       "<thead>\n",
       "\t<tr><th></th><th scope=col>T.0_1</th><th scope=col>T.1_2</th><th scope=col>T.2_3</th><th scope=col>T.3_4</th><th scope=col>T.4_5</th><th scope=col>T.5_6</th><th scope=col>T.6_7</th><th scope=col>T.7_8</th><th scope=col>T.8_9</th><th scope=col>T.9_10</th><th scope=col>⋯</th><th scope=col>T.90_91</th><th scope=col>T.91_92</th><th scope=col>T.92_93</th><th scope=col>T.93_94</th><th scope=col>T.94_95</th><th scope=col>T.95_96</th><th scope=col>T.96_97</th><th scope=col>T.97_98</th><th scope=col>T.98_99</th><th scope=col>T.99_100</th></tr>\n",
       "</thead>\n",
       "<tbody>\n",
       "\t<tr><th scope=row>PCOLCE2</th><td>2.000000</td><td>2.000000</td><td>2.000000</td><td>2.000000</td><td>2.000000</td><td>2.000000</td><td>2.000000</td><td>1.911464</td><td>1.820656</td><td>1.891962</td><td>⋯</td><td>-1.0551072</td><td>-1.0310971</td><td>-1.0494265</td><td>-1.0943677</td><td>-1.1267927</td><td>-1.1267927</td><td>-1.1267927</td><td>-1.1267927</td><td>-1.1267927</td><td>-1.1267927</td></tr>\n",
       "\t<tr><th scope=row>SCARA5</th><td>2.000000</td><td>2.000000</td><td>2.000000</td><td>2.000000</td><td>2.000000</td><td>2.000000</td><td>2.000000</td><td>2.000000</td><td>1.947554</td><td>1.896040</td><td>⋯</td><td>-0.5837856</td><td>-0.6152117</td><td>-0.7004977</td><td>-0.6476685</td><td>-0.7507156</td><td>-0.7507156</td><td>-0.7507156</td><td>-0.7507156</td><td>-0.7507156</td><td>-0.7507156</td></tr>\n",
       "\t<tr><th scope=row>SDK1</th><td>1.782181</td><td>1.782181</td><td>1.782181</td><td>1.782181</td><td>1.782181</td><td>1.782181</td><td>1.692772</td><td>1.668100</td><td>1.651542</td><td>1.647396</td><td>⋯</td><td>-0.6158370</td><td>-0.5637610</td><td>-0.6299809</td><td>-0.6430957</td><td>-0.8230578</td><td>-0.8230578</td><td>-0.8230578</td><td>-0.8230578</td><td>-0.8230578</td><td>-0.8230578</td></tr>\n",
       "\t<tr><th scope=row>UAP1</th><td>2.000000</td><td>2.000000</td><td>2.000000</td><td>2.000000</td><td>2.000000</td><td>2.000000</td><td>1.974695</td><td>1.818394</td><td>1.799603</td><td>1.859479</td><td>⋯</td><td>-0.6456419</td><td>-0.6696940</td><td>-0.6556953</td><td>-0.6585852</td><td>-0.5859250</td><td>-0.5859250</td><td>-0.5859250</td><td>-0.5859250</td><td>-0.5859250</td><td>-0.5859250</td></tr>\n",
       "\t<tr><th scope=row>ZBTB7C</th><td>2.000000</td><td>2.000000</td><td>2.000000</td><td>2.000000</td><td>2.000000</td><td>2.000000</td><td>2.000000</td><td>2.000000</td><td>2.000000</td><td>2.000000</td><td>⋯</td><td>-0.9807516</td><td>-0.9769244</td><td>-0.9507731</td><td>-0.8322024</td><td>-0.8336563</td><td>-0.8336563</td><td>-0.8336563</td><td>-0.8336563</td><td>-0.8336563</td><td>-0.8336563</td></tr>\n",
       "\t<tr><th scope=row>PLCB1</th><td>1.536287</td><td>1.536287</td><td>1.536287</td><td>1.536287</td><td>1.536287</td><td>1.536287</td><td>1.455542</td><td>1.289545</td><td>1.373181</td><td>1.470684</td><td>⋯</td><td>-0.8993177</td><td>-0.9039852</td><td>-0.8976588</td><td>-0.8828782</td><td>-1.0017770</td><td>-1.0017770</td><td>-1.0017770</td><td>-1.0017770</td><td>-1.0017770</td><td>-1.0017770</td></tr>\n",
       "</tbody>\n",
       "</table>\n"
      ],
      "text/latex": [
       "A matrix: 6 × 100 of type dbl\n",
       "\\begin{tabular}{r|lllllllllllllllllllll}\n",
       "  & T.0\\_1 & T.1\\_2 & T.2\\_3 & T.3\\_4 & T.4\\_5 & T.5\\_6 & T.6\\_7 & T.7\\_8 & T.8\\_9 & T.9\\_10 & ⋯ & T.90\\_91 & T.91\\_92 & T.92\\_93 & T.93\\_94 & T.94\\_95 & T.95\\_96 & T.96\\_97 & T.97\\_98 & T.98\\_99 & T.99\\_100\\\\\n",
       "\\hline\n",
       "\tPCOLCE2 & 2.000000 & 2.000000 & 2.000000 & 2.000000 & 2.000000 & 2.000000 & 2.000000 & 1.911464 & 1.820656 & 1.891962 & ⋯ & -1.0551072 & -1.0310971 & -1.0494265 & -1.0943677 & -1.1267927 & -1.1267927 & -1.1267927 & -1.1267927 & -1.1267927 & -1.1267927\\\\\n",
       "\tSCARA5 & 2.000000 & 2.000000 & 2.000000 & 2.000000 & 2.000000 & 2.000000 & 2.000000 & 2.000000 & 1.947554 & 1.896040 & ⋯ & -0.5837856 & -0.6152117 & -0.7004977 & -0.6476685 & -0.7507156 & -0.7507156 & -0.7507156 & -0.7507156 & -0.7507156 & -0.7507156\\\\\n",
       "\tSDK1 & 1.782181 & 1.782181 & 1.782181 & 1.782181 & 1.782181 & 1.782181 & 1.692772 & 1.668100 & 1.651542 & 1.647396 & ⋯ & -0.6158370 & -0.5637610 & -0.6299809 & -0.6430957 & -0.8230578 & -0.8230578 & -0.8230578 & -0.8230578 & -0.8230578 & -0.8230578\\\\\n",
       "\tUAP1 & 2.000000 & 2.000000 & 2.000000 & 2.000000 & 2.000000 & 2.000000 & 1.974695 & 1.818394 & 1.799603 & 1.859479 & ⋯ & -0.6456419 & -0.6696940 & -0.6556953 & -0.6585852 & -0.5859250 & -0.5859250 & -0.5859250 & -0.5859250 & -0.5859250 & -0.5859250\\\\\n",
       "\tZBTB7C & 2.000000 & 2.000000 & 2.000000 & 2.000000 & 2.000000 & 2.000000 & 2.000000 & 2.000000 & 2.000000 & 2.000000 & ⋯ & -0.9807516 & -0.9769244 & -0.9507731 & -0.8322024 & -0.8336563 & -0.8336563 & -0.8336563 & -0.8336563 & -0.8336563 & -0.8336563\\\\\n",
       "\tPLCB1 & 1.536287 & 1.536287 & 1.536287 & 1.536287 & 1.536287 & 1.536287 & 1.455542 & 1.289545 & 1.373181 & 1.470684 & ⋯ & -0.8993177 & -0.9039852 & -0.8976588 & -0.8828782 & -1.0017770 & -1.0017770 & -1.0017770 & -1.0017770 & -1.0017770 & -1.0017770\\\\\n",
       "\\end{tabular}\n"
      ],
      "text/markdown": [
       "\n",
       "A matrix: 6 × 100 of type dbl\n",
       "\n",
       "| <!--/--> | T.0_1 | T.1_2 | T.2_3 | T.3_4 | T.4_5 | T.5_6 | T.6_7 | T.7_8 | T.8_9 | T.9_10 | ⋯ | T.90_91 | T.91_92 | T.92_93 | T.93_94 | T.94_95 | T.95_96 | T.96_97 | T.97_98 | T.98_99 | T.99_100 |\n",
       "|---|---|---|---|---|---|---|---|---|---|---|---|---|---|---|---|---|---|---|---|---|---|\n",
       "| PCOLCE2 | 2.000000 | 2.000000 | 2.000000 | 2.000000 | 2.000000 | 2.000000 | 2.000000 | 1.911464 | 1.820656 | 1.891962 | ⋯ | -1.0551072 | -1.0310971 | -1.0494265 | -1.0943677 | -1.1267927 | -1.1267927 | -1.1267927 | -1.1267927 | -1.1267927 | -1.1267927 |\n",
       "| SCARA5 | 2.000000 | 2.000000 | 2.000000 | 2.000000 | 2.000000 | 2.000000 | 2.000000 | 2.000000 | 1.947554 | 1.896040 | ⋯ | -0.5837856 | -0.6152117 | -0.7004977 | -0.6476685 | -0.7507156 | -0.7507156 | -0.7507156 | -0.7507156 | -0.7507156 | -0.7507156 |\n",
       "| SDK1 | 1.782181 | 1.782181 | 1.782181 | 1.782181 | 1.782181 | 1.782181 | 1.692772 | 1.668100 | 1.651542 | 1.647396 | ⋯ | -0.6158370 | -0.5637610 | -0.6299809 | -0.6430957 | -0.8230578 | -0.8230578 | -0.8230578 | -0.8230578 | -0.8230578 | -0.8230578 |\n",
       "| UAP1 | 2.000000 | 2.000000 | 2.000000 | 2.000000 | 2.000000 | 2.000000 | 1.974695 | 1.818394 | 1.799603 | 1.859479 | ⋯ | -0.6456419 | -0.6696940 | -0.6556953 | -0.6585852 | -0.5859250 | -0.5859250 | -0.5859250 | -0.5859250 | -0.5859250 | -0.5859250 |\n",
       "| ZBTB7C | 2.000000 | 2.000000 | 2.000000 | 2.000000 | 2.000000 | 2.000000 | 2.000000 | 2.000000 | 2.000000 | 2.000000 | ⋯ | -0.9807516 | -0.9769244 | -0.9507731 | -0.8322024 | -0.8336563 | -0.8336563 | -0.8336563 | -0.8336563 | -0.8336563 | -0.8336563 |\n",
       "| PLCB1 | 1.536287 | 1.536287 | 1.536287 | 1.536287 | 1.536287 | 1.536287 | 1.455542 | 1.289545 | 1.373181 | 1.470684 | ⋯ | -0.8993177 | -0.9039852 | -0.8976588 | -0.8828782 | -1.0017770 | -1.0017770 | -1.0017770 | -1.0017770 | -1.0017770 | -1.0017770 |\n",
       "\n"
      ],
      "text/plain": [
       "        T.0_1    T.1_2    T.2_3    T.3_4    T.4_5    T.5_6    T.6_7    T.7_8   \n",
       "PCOLCE2 2.000000 2.000000 2.000000 2.000000 2.000000 2.000000 2.000000 1.911464\n",
       "SCARA5  2.000000 2.000000 2.000000 2.000000 2.000000 2.000000 2.000000 2.000000\n",
       "SDK1    1.782181 1.782181 1.782181 1.782181 1.782181 1.782181 1.692772 1.668100\n",
       "UAP1    2.000000 2.000000 2.000000 2.000000 2.000000 2.000000 1.974695 1.818394\n",
       "ZBTB7C  2.000000 2.000000 2.000000 2.000000 2.000000 2.000000 2.000000 2.000000\n",
       "PLCB1   1.536287 1.536287 1.536287 1.536287 1.536287 1.536287 1.455542 1.289545\n",
       "        T.8_9    T.9_10   ⋯ T.90_91    T.91_92    T.92_93    T.93_94   \n",
       "PCOLCE2 1.820656 1.891962 ⋯ -1.0551072 -1.0310971 -1.0494265 -1.0943677\n",
       "SCARA5  1.947554 1.896040 ⋯ -0.5837856 -0.6152117 -0.7004977 -0.6476685\n",
       "SDK1    1.651542 1.647396 ⋯ -0.6158370 -0.5637610 -0.6299809 -0.6430957\n",
       "UAP1    1.799603 1.859479 ⋯ -0.6456419 -0.6696940 -0.6556953 -0.6585852\n",
       "ZBTB7C  2.000000 2.000000 ⋯ -0.9807516 -0.9769244 -0.9507731 -0.8322024\n",
       "PLCB1   1.373181 1.470684 ⋯ -0.8993177 -0.9039852 -0.8976588 -0.8828782\n",
       "        T.94_95    T.95_96    T.96_97    T.97_98    T.98_99    T.99_100  \n",
       "PCOLCE2 -1.1267927 -1.1267927 -1.1267927 -1.1267927 -1.1267927 -1.1267927\n",
       "SCARA5  -0.7507156 -0.7507156 -0.7507156 -0.7507156 -0.7507156 -0.7507156\n",
       "SDK1    -0.8230578 -0.8230578 -0.8230578 -0.8230578 -0.8230578 -0.8230578\n",
       "UAP1    -0.5859250 -0.5859250 -0.5859250 -0.5859250 -0.5859250 -0.5859250\n",
       "ZBTB7C  -0.8336563 -0.8336563 -0.8336563 -0.8336563 -0.8336563 -0.8336563\n",
       "PLCB1   -1.0017770 -1.0017770 -1.0017770 -1.0017770 -1.0017770 -1.0017770"
      ]
     },
     "metadata": {},
     "output_type": "display_data"
    }
   ],
   "source": [
    "gene_expression <- plotTrajectoryHeatmap(trajGEX,\n",
    "                                         varCutOff = 0.5,\n",
    "                                         limits = c(-2, 2),\n",
    "                                         returnMatrix = TRUE)\n",
    "\n",
    "rownames(gene_expression) <- stringr::str_split_fixed(rownames(gene_expression), \":\", 2)[, 2]\n",
    "\n",
    "head(gene_expression)"
   ]
  },
  {
   "cell_type": "code",
   "execution_count": 15,
   "id": "ec21aadf-256e-4848-9f05-7dbb6e3f9b30",
   "metadata": {},
   "outputs": [],
   "source": [
    "df_gene_expression <- as.data.frame(gene_expression) \n",
    "colnames(df_gene_expression) <- 1:100\n",
    "df_gene_expression$gene <- rownames(df_gene_expression)\n",
    "df_gene_expression2 <- tidyr::pivot_longer(df_gene_expression, -gene, \n",
    "                                           names_to = \"pseudotime\", values_to = \"gene_expression\")\n",
    "df_gene_expression2$pseudotime <- as.numeric(df_gene_expression2$pseudotime)\n",
    "\n",
    "write.csv(df_gene_expression2, \"../data/snATAC_SCARA5_Myofib/VisGRN_V2/TF_Target_Gene_expression.csv\")"
   ]
  },
  {
   "cell_type": "code",
   "execution_count": 16,
   "id": "4ddaec93-c18b-4e5c-bb38-4eca7b49b589",
   "metadata": {},
   "outputs": [],
   "source": [
    "if(!dir.exists(glue::glue(\"../data/snATAC_SCARA5_Myofib/VisGRN_V2/TF_Target_Expression\"))){\n",
    "        dir.create(glue::glue(\"../data/snATAC_SCARA5_Myofib/VisGRN_V2/TF_Target_Expression\"), \n",
    "                   recursive = TRUE)\n",
    "}\n",
    "\n",
    "for(name1 in unique(df_tf_gene$gene)){\n",
    "        df_plot <- subset(df_gene_expression2, gene == name1)\n",
    "\n",
    "        p <- ggplot(df_plot, aes(x = pseudotime, y = gene_expression)) +\n",
    "         geom_smooth(method = \"loess\",se = FALSE, formula = y ~ x) +\n",
    "        theme_cowplot() + ggtitle(name1)\n",
    "    \n",
    "        ggsave(glue::glue(\"../data/snATAC_SCARA5_Myofib/VisGRN_V2/TF_Target_Expression/{name1}.pdf\"),\n",
    "              plot = p, height = 4, width = 5)\n",
    "\n",
    "    }"
   ]
  }
 ],
 "metadata": {
  "kernelspec": {
   "display_name": "R",
   "language": "R",
   "name": "ir"
  },
  "language_info": {
   "codemirror_mode": "r",
   "file_extension": ".r",
   "mimetype": "text/x-r-source",
   "name": "R",
   "pygments_lexer": "r",
   "version": "4.1.1"
  }
 },
 "nbformat": 4,
 "nbformat_minor": 5
}
