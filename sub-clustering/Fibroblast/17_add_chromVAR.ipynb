{
 "cells": [
  {
   "cell_type": "code",
   "execution_count": 1,
   "id": "5917d297-0dd9-492d-bb68-f4252220375e",
   "metadata": {},
   "outputs": [],
   "source": [
    "suppressMessages(library(ArchR))\n",
    "suppressMessages(library(Seurat))\n",
    "suppressMessages(library(Signac))\n",
    "suppressMessages(library(harmony))\n",
    "suppressMessages(library(dplyr))\n",
    "suppressMessages(library(cowplot))\n",
    "suppressMessages(library(harmony))\n",
    "suppressMessages(library(Nebulosa))\n",
    "suppressMessages(library(ggpubr))\n",
    "suppressMessages(library(Ipaper))\n",
    "suppressMessages(library(phateR))\n",
    "suppressMessages(library(parallel))"
   ]
  },
  {
   "cell_type": "code",
   "execution_count": 2,
   "id": "7592945f-0fd8-484e-a641-bfd3947b8abe",
   "metadata": {},
   "outputs": [
    {
     "data": {
      "text/html": [
       "'/data/scATA/SingleCellOpenChromatin/local/VisiumHeartRevision/IntegrativeAnalysis/Fibroblast/code'"
      ],
      "text/latex": [
       "'/data/scATA/SingleCellOpenChromatin/local/VisiumHeartRevision/IntegrativeAnalysis/Fibroblast/code'"
      ],
      "text/markdown": [
       "'/data/scATA/SingleCellOpenChromatin/local/VisiumHeartRevision/IntegrativeAnalysis/Fibroblast/code'"
      ],
      "text/plain": [
       "[1] \"/data/scATA/SingleCellOpenChromatin/local/VisiumHeartRevision/IntegrativeAnalysis/Fibroblast/code\""
      ]
     },
     "metadata": {},
     "output_type": "display_data"
    },
    {
     "name": "stderr",
     "output_type": "stream",
     "text": [
      "Setting default number of Parallel threads to 126.\n",
      "\n",
      "Setting default genome to Hg38.\n",
      "\n"
     ]
    }
   ],
   "source": [
    "set.seed(42)\n",
    "getwd()\n",
    "\n",
    "addArchRThreads(threads = parallel::detectCores() - 2)\n",
    "addArchRGenome(\"hg38\")"
   ]
  },
  {
   "cell_type": "code",
   "execution_count": 3,
   "id": "079d39bb-7623-4efa-957d-c196947dd61c",
   "metadata": {},
   "outputs": [
    {
     "name": "stderr",
     "output_type": "stream",
     "text": [
      "Successfully loaded ArchRProject!\n",
      "\n"
     ]
    }
   ],
   "source": [
    "## subset atac project\n",
    "proj <- loadArchRProject(\"../data/snATAC_SCARA5_Myofib\", showLogo = FALSE)"
   ]
  },
  {
   "cell_type": "code",
   "execution_count": 4,
   "id": "84abb3f3-ec98-4e71-a5fc-50486198fce3",
   "metadata": {},
   "outputs": [
    {
     "data": {
      "text/html": [
       "<style>\n",
       ".list-inline {list-style: none; margin:0; padding: 0}\n",
       ".list-inline>li {display: inline-block}\n",
       ".list-inline>li:not(:last-child)::after {content: \"\\00b7\"; padding: 0 .5ex}\n",
       "</style>\n",
       "<ol class=list-inline><li>'GeneExpressionMatrix'</li><li>'GeneScoreMatrix'</li><li>'MotifMatrix'</li><li>'PeakMatrix'</li><li>'TileMatrix'</li></ol>\n"
      ],
      "text/latex": [
       "\\begin{enumerate*}\n",
       "\\item 'GeneExpressionMatrix'\n",
       "\\item 'GeneScoreMatrix'\n",
       "\\item 'MotifMatrix'\n",
       "\\item 'PeakMatrix'\n",
       "\\item 'TileMatrix'\n",
       "\\end{enumerate*}\n"
      ],
      "text/markdown": [
       "1. 'GeneExpressionMatrix'\n",
       "2. 'GeneScoreMatrix'\n",
       "3. 'MotifMatrix'\n",
       "4. 'PeakMatrix'\n",
       "5. 'TileMatrix'\n",
       "\n",
       "\n"
      ],
      "text/plain": [
       "[1] \"GeneExpressionMatrix\" \"GeneScoreMatrix\"      \"MotifMatrix\"         \n",
       "[4] \"PeakMatrix\"           \"TileMatrix\"          "
      ]
     },
     "metadata": {},
     "output_type": "display_data"
    }
   ],
   "source": [
    "getAvailableMatrices(proj)"
   ]
  },
  {
   "cell_type": "code",
   "execution_count": 6,
   "id": "d3652d6b-ea18-4480-be6f-580f20d761f1",
   "metadata": {},
   "outputs": [
    {
     "name": "stderr",
     "output_type": "stream",
     "text": [
      "Searching For MACS2..\n",
      "\n",
      "Found with $path!\n",
      "\n",
      "ArchR logging to : ArchRLogs/ArchR-addGroupCoverages-f0dbe578de3df-Date-2021-12-21_Time-11-31-36.log\n",
      "If there is an issue, please report to github with logFile!\n",
      "\n",
      "fibroblast (1 of 1) : CellGroups N = 5\n",
      "\n",
      "2021-12-21 11:31:37 : Creating Coverage Files!, 0.022 mins elapsed.\n",
      "\n",
      "2021-12-21 11:31:37 : Batch Execution w/ safelapply!, 0.022 mins elapsed.\n",
      "\n",
      "2021-12-21 11:32:18 : Adding Kmer Bias to Coverage Files!, 0.714 mins elapsed.\n",
      "\n",
      "Completed Kmer Bias Calculation\n",
      "\n",
      "Adding Kmer Bias (1 of 5)\n",
      "\n",
      "Adding Kmer Bias (2 of 5)\n",
      "\n",
      "Adding Kmer Bias (3 of 5)\n",
      "\n",
      "Adding Kmer Bias (4 of 5)\n",
      "\n",
      "Adding Kmer Bias (5 of 5)\n",
      "\n",
      "2021-12-21 11:32:35 : Finished Creation of Coverage Files!, 0.989 mins elapsed.\n",
      "\n",
      "ArchR logging successful to : ArchRLogs/ArchR-addGroupCoverages-f0dbe578de3df-Date-2021-12-21_Time-11-31-36.log\n",
      "\n",
      "ArchR logging to : ArchRLogs/ArchR-addReproduciblePeakSet-f0dbe9346a8-Date-2021-12-21_Time-11-32-35.log\n",
      "If there is an issue, please report to github with logFile!\n",
      "\n",
      "Calling Peaks with Macs2\n",
      "\n",
      "2021-12-21 11:32:36 : Peak Calling Parameters!, 0.004 mins elapsed.\n",
      "\n"
     ]
    },
    {
     "name": "stdout",
     "output_type": "stream",
     "text": [
      "                Group nCells nCellsUsed nReplicates nMin nMax maxPeaks\n",
      "fibroblast fibroblast   2082        978           5  150  237   150000\n"
     ]
    },
    {
     "name": "stderr",
     "output_type": "stream",
     "text": [
      "2021-12-21 11:32:36 : Batching Peak Calls!, 0.004 mins elapsed.\n",
      "\n",
      "2021-12-21 11:32:36 : Batch Execution w/ safelapply!, 0 mins elapsed.\n",
      "\n",
      "2021-12-21 11:34:29 : Identifying Reproducible Peaks!, 1.889 mins elapsed.\n",
      "\n",
      "Annotating Peaks : Nearest Gene\n",
      "\n",
      "Annotating Peaks : Gene\n",
      "\n",
      "Annotating Peaks : TSS\n",
      "\n",
      "Annotating Peaks : GC\n",
      "\n"
     ]
    },
    {
     "name": "stdout",
     "output_type": "stream",
     "text": [
      "[1] \"/data/scATA/SingleCellOpenChromatin/local/VisiumHeartRevision/IntegrativeAnalysis/Fibroblast/data/snATAC_SCARA5_Myofib/PeakCalls/fibroblast-reproduciblePeaks.gr.rds\"\n"
     ]
    },
    {
     "name": "stderr",
     "output_type": "stream",
     "text": [
      "2021-12-21 11:34:44 : Creating Union Peak Set!, 2.137 mins elapsed.\n",
      "\n",
      "Converged after 1 iterations!\n",
      "\n",
      "Plotting Ggplot!\n",
      "\n",
      "2021-12-21 11:34:49 : Finished Creating Union Peak Set (150000)!, 2.22 mins elapsed.\n",
      "\n",
      "ArchR logging to : ArchRLogs/ArchR-addPeakMatrix-f0dbe3a10de72-Date-2021-12-21_Time-11-34-49.log\n",
      "If there is an issue, please report to github with logFile!\n",
      "\n",
      "2021-12-21 11:34:49 : Batch Execution w/ safelapply!, 0 mins elapsed.\n",
      "\n",
      "Overriding previous entry for ReadsInPeaks\n",
      "\n",
      "Overriding previous entry for FRIP\n",
      "\n",
      "ArchR logging successful to : ArchRLogs/ArchR-addPeakMatrix-f0dbe3a10de72-Date-2021-12-21_Time-11-34-49.log\n",
      "\n"
     ]
    }
   ],
   "source": [
    "## peak calling for each annotated cell state\n",
    "pathToMacs2 <- findMacs2()\n",
    "\n",
    "proj <- addGroupCoverages(ArchRProj = proj, groupBy = \"annotation\", force = TRUE)\n",
    "\n",
    "proj <- addReproduciblePeakSet(\n",
    "    ArchRProj = proj, \n",
    "    groupBy = \"annotation\", \n",
    "    pathToMacs2 = pathToMacs2\n",
    ")\n",
    "\n",
    "proj <- addPeakMatrix(proj, binarize = TRUE, force = TRUE)"
   ]
  },
  {
   "cell_type": "code",
   "execution_count": 7,
   "id": "62370d5d-db67-4f9a-8e22-116cde283ce5",
   "metadata": {},
   "outputs": [
    {
     "name": "stderr",
     "output_type": "stream",
     "text": [
      "ArchR logging to : ArchRLogs/ArchR-addMotifAnnotations-f0dbe544f2d4b-Date-2021-12-21_Time-11-36-06.log\n",
      "If there is an issue, please report to github with logFile!\n",
      "\n",
      "peakAnnotation name already exists! Overriding.\n",
      "\n",
      "2021-12-21 11:36:07 : Gettting Motif Set, Species : Homo sapiens, 0.003 mins elapsed.\n",
      "\n",
      "2021-12-21 11:36:15 : Finding Motif Positions with motifmatchr!, 0.127 mins elapsed.\n",
      "\n",
      "2021-12-21 11:38:05 : Creating Motif Overlap Matrix, 1.972 mins elapsed.\n",
      "\n",
      "2021-12-21 11:38:08 : Finished Getting Motif Info!, 2.013 mins elapsed.\n",
      "\n",
      "ArchR logging successful to : ArchRLogs/ArchR-addMotifAnnotations-f0dbe544f2d4b-Date-2021-12-21_Time-11-36-06.log\n",
      "\n",
      "Identifying Background Peaks!\n",
      "\n",
      "Using Previous Background Peaks!\n",
      "\n",
      "ArchR logging to : ArchRLogs/ArchR-addDeviationsMatrix-f0dbe62588f88-Date-2021-12-21_Time-11-38-19.log\n",
      "If there is an issue, please report to github with logFile!\n",
      "\n"
     ]
    },
    {
     "name": "stdout",
     "output_type": "stream",
     "text": [
      "NULL\n"
     ]
    },
    {
     "name": "stderr",
     "output_type": "stream",
     "text": [
      "2021-12-21 11:38:25 : Batch Execution w/ safelapply!, 0 mins elapsed.\n",
      "\n",
      "###########\n",
      "2021-12-21 11:40:54 : Completed Computing Deviations!, 2.575 mins elapsed.\n",
      "###########\n",
      "\n",
      "ArchR logging successful to : ArchRLogs/ArchR-addDeviationsMatrix-f0dbe62588f88-Date-2021-12-21_Time-11-38-19.log\n",
      "\n"
     ]
    }
   ],
   "source": [
    "## add chromVAR\n",
    "proj <- addMotifAnnotations(ArchRProj = proj, motifSet = \"JASPAR2020\", name = \"Motif\",\n",
    "                           force = TRUE)\n",
    "\n",
    "proj <- addBgdPeaks(proj, force = TRUE)\n",
    "\n",
    "proj <- addDeviationsMatrix(\n",
    "  ArchRProj = proj, \n",
    "  peakAnnotation = \"Motif\",\n",
    "  force = TRUE,\n",
    "    binarize = TRUE\n",
    ")"
   ]
  },
  {
   "cell_type": "code",
   "execution_count": 8,
   "id": "7c5a59a8-970f-4a69-9784-ac6aa18212c9",
   "metadata": {},
   "outputs": [
    {
     "name": "stderr",
     "output_type": "stream",
     "text": [
      "Saving ArchRProject...\n",
      "\n"
     ]
    }
   ],
   "source": [
    "saveArchRProject(ArchRProj = proj, \n",
    "                 load = FALSE)"
   ]
  },
  {
   "cell_type": "code",
   "execution_count": 9,
   "id": "0f688aa4-7bd1-45c1-94d3-401561018769",
   "metadata": {},
   "outputs": [
    {
     "data": {
      "text/plain": [
       "R version 4.1.1 (2021-08-10)\n",
       "Platform: x86_64-conda-linux-gnu (64-bit)\n",
       "Running under: CentOS Linux 8\n",
       "\n",
       "Matrix products: default\n",
       "BLAS/LAPACK: /home/rs619065/miniconda3/envs/r-4.1/lib/libopenblasp-r0.3.18.so\n",
       "\n",
       "locale:\n",
       " [1] LC_CTYPE=en_US.UTF-8       LC_NUMERIC=C              \n",
       " [3] LC_TIME=en_US.UTF-8        LC_COLLATE=en_US.UTF-8    \n",
       " [5] LC_MONETARY=en_US.UTF-8    LC_MESSAGES=en_US.UTF-8   \n",
       " [7] LC_PAPER=en_US.UTF-8       LC_NAME=C                 \n",
       " [9] LC_ADDRESS=C               LC_TELEPHONE=C            \n",
       "[11] LC_MEASUREMENT=en_US.UTF-8 LC_IDENTIFICATION=C       \n",
       "\n",
       "attached base packages:\n",
       " [1] grid      parallel  stats4    stats     graphics  grDevices utils    \n",
       " [8] datasets  methods   base     \n",
       "\n",
       "other attached packages:\n",
       " [1] chromVAR_1.16.0                   JASPAR2020_0.99.10               \n",
       " [3] motifmatchr_1.16.0                gridExtra_2.3                    \n",
       " [5] BSgenome.Hsapiens.UCSC.hg38_1.4.4 BSgenome_1.62.0                  \n",
       " [7] rtracklayer_1.54.0                Biostrings_2.62.0                \n",
       " [9] XVector_0.34.0                    phateR_1.0.7                     \n",
       "[11] Ipaper_0.1.8                      ggpubr_0.4.0                     \n",
       "[13] Nebulosa_1.4.0                    patchwork_1.1.1                  \n",
       "[15] cowplot_1.1.1                     dplyr_1.0.7                      \n",
       "[17] harmony_0.1.0                     Rcpp_1.0.7                       \n",
       "[19] Signac_1.5.0                      SeuratObject_4.0.4               \n",
       "[21] Seurat_4.0.5                      ArchR_1.0.1                      \n",
       "[23] magrittr_2.0.1                    rhdf5_2.38.0                     \n",
       "[25] Matrix_1.4-0                      data.table_1.14.2                \n",
       "[27] SummarizedExperiment_1.24.0       Biobase_2.54.0                   \n",
       "[29] GenomicRanges_1.46.1              GenomeInfoDb_1.30.0              \n",
       "[31] IRanges_2.28.0                    S4Vectors_0.32.3                 \n",
       "[33] BiocGenerics_0.40.0               MatrixGenerics_1.6.0             \n",
       "[35] matrixStats_0.61.0                ggplot2_3.3.5                    \n",
       "\n",
       "loaded via a namespace (and not attached):\n",
       "  [1] utf8_1.2.2                  clipr_0.7.1                \n",
       "  [3] R.utils_2.11.0              reticulate_1.22            \n",
       "  [5] ks_1.13.2                   tidyselect_1.1.1           \n",
       "  [7] AnnotationDbi_1.56.2        poweRlaw_0.70.6            \n",
       "  [9] RSQLite_2.2.9               htmlwidgets_1.5.4          \n",
       " [11] docopt_0.7.1                BiocParallel_1.28.2        \n",
       " [13] Rtsne_0.15                  munsell_0.5.0              \n",
       " [15] codetools_0.2-18            ica_1.0-2                  \n",
       " [17] DT_0.20                     pbdZMQ_0.3-6               \n",
       " [19] future_1.23.0               miniUI_0.1.1.1             \n",
       " [21] withr_2.4.3                 colorspace_2.0-2           \n",
       " [23] uuid_1.0-3                  rstudioapi_0.13            \n",
       " [25] SingleCellExperiment_1.16.0 ROCR_1.0-11                \n",
       " [27] ggsignif_0.6.3              tensor_1.5                 \n",
       " [29] listenv_0.8.0               slam_0.1-49                \n",
       " [31] repr_1.1.3                  GenomeInfoDbData_1.2.7     \n",
       " [33] polyclip_1.10-0             bit64_4.0.5                \n",
       " [35] farver_2.1.0                parallelly_1.29.0          \n",
       " [37] vctrs_0.3.8                 generics_0.1.1             \n",
       " [39] lsa_0.73.2                  ggseqlogo_0.1              \n",
       " [41] R6_2.5.1                    doParallel_1.0.16          \n",
       " [43] cachem_1.0.6                bitops_1.0-7               \n",
       " [45] rhdf5filters_1.6.0          spatstat.utils_2.2-0       \n",
       " [47] DelayedArray_0.20.0         assertthat_0.2.1           \n",
       " [49] BiocIO_1.4.0                promises_1.2.0.1           \n",
       " [51] scales_1.1.1                gtable_0.3.0               \n",
       " [53] globals_0.14.0              goftest_1.2-3              \n",
       " [55] seqLogo_1.60.0              rlang_0.4.12               \n",
       " [57] RcppRoll_0.3.0              splines_4.1.1              \n",
       " [59] rstatix_0.7.0               lazyeval_0.2.2             \n",
       " [61] spatstat.geom_2.3-0         broom_0.7.10               \n",
       " [63] yaml_2.2.1                  reshape2_1.4.4             \n",
       " [65] abind_1.4-5                 backports_1.4.0            \n",
       " [67] httpuv_1.6.3                tools_4.1.1                \n",
       " [69] nabor_0.5.0                 ellipsis_0.3.2             \n",
       " [71] spatstat.core_2.3-2         RColorBrewer_1.1-2         \n",
       " [73] ggridges_0.5.3              plyr_1.8.6                 \n",
       " [75] base64enc_0.1-3             zlibbioc_1.40.0            \n",
       " [77] purrr_0.3.4                 RCurl_1.98-1.5             \n",
       " [79] rpart_4.1-15                deldir_1.0-6               \n",
       " [81] pbapply_1.5-0               zoo_1.8-9                  \n",
       " [83] ggrepel_0.9.1               cluster_2.1.2              \n",
       " [85] scattermore_0.7             openxlsx_4.2.4             \n",
       " [87] lmtest_0.9-39               RANN_2.6.1                 \n",
       " [89] mvtnorm_1.1-3               SnowballC_0.7.0            \n",
       " [91] fitdistrplus_1.1-6          hms_1.1.1                  \n",
       " [93] mime_0.12                   evaluate_0.14              \n",
       " [95] xtable_1.8-4                XML_3.99-0.8               \n",
       " [97] mclust_5.4.8                sparsesvd_0.2              \n",
       " [99] readxl_1.3.1                compiler_4.1.1             \n",
       "[101] tibble_3.1.6                KernSmooth_2.23-20         \n",
       "[103] crayon_1.4.2                R.oo_1.24.0                \n",
       "[105] htmltools_0.5.2             tzdb_0.2.0                 \n",
       "[107] mgcv_1.8-38                 later_1.3.0                \n",
       "[109] TFBSTools_1.32.0            tidyr_1.1.4                \n",
       "[111] lubridate_1.8.0             DBI_1.1.1                  \n",
       "[113] tweenr_1.0.2                MASS_7.3-54                \n",
       "[115] readr_2.1.1                 car_3.0-12                 \n",
       "[117] R.methodsS3_1.8.1           igraph_1.2.9               \n",
       "[119] pkgconfig_2.0.3             TFMPvalue_0.0.8            \n",
       "[121] GenomicAlignments_1.30.0    IRdisplay_1.0              \n",
       "[123] plotly_4.10.0               spatstat.sparse_2.0-0      \n",
       "[125] foreach_1.5.1               annotate_1.72.0            \n",
       "[127] DirichletMultinomial_1.36.0 stringr_1.4.0              \n",
       "[129] digest_0.6.29               sctransform_0.3.2          \n",
       "[131] RcppAnnoy_0.0.19            pracma_2.3.6               \n",
       "[133] CNEr_1.30.0                 spatstat.data_2.1-0        \n",
       "[135] cellranger_1.1.0            leiden_0.3.9               \n",
       "[137] fastmatch_1.1-3             uwot_0.1.11                \n",
       "[139] restfulr_0.0.13             gtools_3.9.2               \n",
       "[141] shiny_1.7.1                 Rsamtools_2.10.0           \n",
       "[143] rjson_0.2.20                lifecycle_1.0.1            \n",
       "[145] nlme_3.1-153                jsonlite_1.7.2             \n",
       "[147] Rhdf5lib_1.16.0             carData_3.0-4              \n",
       "[149] viridisLite_0.4.0           fansi_0.5.0                \n",
       "[151] pillar_1.6.4                lattice_0.20-45            \n",
       "[153] GO.db_3.14.0                KEGGREST_1.34.0            \n",
       "[155] fastmap_1.1.0               httr_1.4.2                 \n",
       "[157] survival_3.2-13             glue_1.5.1                 \n",
       "[159] remotes_2.4.2               qlcMatrix_0.9.7            \n",
       "[161] zip_2.2.0                   png_0.1-7                  \n",
       "[163] iterators_1.0.13            bit_4.0.4                  \n",
       "[165] ggforce_0.3.3               stringi_1.7.6              \n",
       "[167] blob_1.2.2                  caTools_1.18.2             \n",
       "[169] memoise_2.0.1               IRkernel_1.2.0.9000        \n",
       "[171] irlba_2.3.5                 future.apply_1.8.1         "
      ]
     },
     "metadata": {},
     "output_type": "display_data"
    }
   ],
   "source": [
    "sessionInfo()"
   ]
  }
 ],
 "metadata": {
  "kernelspec": {
   "display_name": "R",
   "language": "R",
   "name": "ir"
  },
  "language_info": {
   "codemirror_mode": "r",
   "file_extension": ".r",
   "mimetype": "text/x-r-source",
   "name": "R",
   "pygments_lexer": "r",
   "version": "4.1.1"
  }
 },
 "nbformat": 4,
 "nbformat_minor": 5
}
