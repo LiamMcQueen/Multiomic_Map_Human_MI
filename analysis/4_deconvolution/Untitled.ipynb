{
 "cells": [
  {
   "cell_type": "code",
   "execution_count": 5,
   "metadata": {},
   "outputs": [],
   "source": [
    "import sys\n",
    "import scanpy as sc\n",
    "import anndata\n",
    "import pandas as pd\n",
    "import numpy as np\n",
    "import os\n",
    "import gc"
   ]
  },
  {
   "cell_type": "code",
   "execution_count": 71,
   "metadata": {},
   "outputs": [],
   "source": [
    "def read_and_qc(sample_name, path=sp_data_folder, force_filter = True):\n",
    "    r\"\"\" This function reads the data for one 10X spatial experiment into the anndata object.\n",
    "    It also calculates QC metrics. Modify this function if required by your workflow.\n",
    "\n",
    "    :param sample_name: Name of the sample\n",
    "    :param path: path to data\n",
    "    \"\"\"\n",
    "\n",
    "    adata = sc.read_visium(path + str(sample_name) + '/outs',\n",
    "                           count_file='filtered_feature_bc_matrix.h5', \n",
    "                           load_images=True)\n",
    "    \n",
    "    adata.obs['sample'] = sample_name\n",
    "    adata.var['SYMBOL'] = adata.var_names\n",
    "\n",
    "    # Calculate QC metrics\n",
    "    sc.pp.calculate_qc_metrics(adata, inplace=True)\n",
    "    adata.var['mt'] = [gene.startswith('MT-') for gene in adata.var['SYMBOL']]\n",
    "    adata.var['rps'] = [gene.startswith('RPS') for gene in adata.var['SYMBOL']]\n",
    "    adata.var['mrp'] = [gene.startswith('MRP') for gene in adata.var['SYMBOL']]\n",
    "    adata.var['rpl'] = [gene.startswith('RPL') for gene in adata.var['SYMBOL']]\n",
    "    adata.obs['mt_frac'] = adata[:,adata.var['mt'].tolist()].X.sum(1).A.squeeze()/adata.obs['total_counts']\n",
    "\n",
    "    # add sample name to obs names\n",
    "    adata.obs[\"sample\"] = [str(i) for i in adata.obs['sample']]\n",
    "    adata.obs_names = adata.obs[\"sample\"] + '_' + adata.obs_names\n",
    "    adata.obs.index.name = 'spot_id'\n",
    "    adata.var[\"duplicated\"] = adata.var['SYMBOL'].duplicated(keep = \"first\")\n",
    "    adata = adata[:, ~adata.var['duplicated'].values]\n",
    "    \n",
    "    if force_filter:\n",
    "        # First filter: mt and rb genes\n",
    "        # mitochondria-encoded (MT) genes should be removed for spatial mapping\n",
    "        adata.obsm['mt'] = adata[:,   adata.var['mt'].values | \n",
    "                              adata.var['rps'].values |\n",
    "                              adata.var['mrp'].values |\n",
    "                              adata.var['rpl'].values].X.toarray() \n",
    "        \n",
    "        adata = adata[:, ~ (adata.var['mt'].values | \n",
    "                              adata.var['rps'].values |\n",
    "                              adata.var['mrp'].values |\n",
    "                              adata.var['rpl'].values)]\n",
    "        \n",
    "        # Second filter\n",
    "        # Genes expressed in less than 10 spots\n",
    "        adata = adata[:, adata.var['n_cells_by_counts'].values > 10]\n",
    "        \n",
    "        # Third filter\n",
    "        # spots with no information (less than 300 genes and 500 UMIs)\n",
    "        sc.pp.calculate_qc_metrics(adata, inplace=True)\n",
    "        adata = adata[(adata.obs['n_genes_by_counts'].values > 300) & \n",
    "              (adata.obs['total_counts'].values > 500), :] \n",
    "        \n",
    "\n",
    "    return adata\n"
   ]
  },
  {
   "cell_type": "code",
   "execution_count": 75,
   "metadata": {},
   "outputs": [
    {
     "name": "stderr",
     "output_type": "stream",
     "text": [
      "Variable names are not unique. To make them unique, call `.var_names_make_unique`.\n",
      "Variable names are not unique. To make them unique, call `.var_names_make_unique`.\n"
     ]
    }
   ],
   "source": [
    "#adata stuff\n",
    "sp_data_folder = \"/Users/ricardoramirez/Dropbox/PhD/Research/mi_atlas/visium_data/\"\n",
    "\n",
    "adata = read_and_qc(s, path = sp_data_folder, force_filter = False)"
   ]
  },
  {
   "cell_type": "code",
   "execution_count": 76,
   "metadata": {},
   "outputs": [
    {
     "data": {
      "text/plain": [
       "(2049, 36591)"
      ]
     },
     "execution_count": 76,
     "metadata": {},
     "output_type": "execute_result"
    }
   ],
   "source": [
    "adata.shape"
   ]
  },
  {
   "cell_type": "code",
   "execution_count": 63,
   "metadata": {},
   "outputs": [],
   "source": [
    "adata.var[\"duplicated\"] = adata.var['SYMBOL'].duplicated(keep = \"first\")\n",
    "adata = adata[:, ~adata.var['duplicated'].values]\n",
    "\n",
    "# First filter: mt and rb genes\n",
    "# mitochondria-encoded (MT) genes should be removed for spatial mapping\n",
    "adata.obsm['mt'] = adata[:,   adata.var['mt'].values | \n",
    "                              adata.var['rps'].values |\n",
    "                              adata.var['mrp'].values |\n",
    "                              adata.var['rpl'].values].X.toarray() \n",
    "\n",
    "adata = adata[:, ~ (adata.var['mt'].values | \n",
    "                              adata.var['rps'].values |\n",
    "                              adata.var['mrp'].values |\n",
    "                              adata.var['rpl'].values)]"
   ]
  },
  {
   "cell_type": "code",
   "execution_count": 64,
   "metadata": {},
   "outputs": [],
   "source": [
    "# Second filter\n",
    "# Genes expressed in less than 10 spots\n",
    "adata = adata[:, adata.var['n_cells_by_counts'].values > 10]"
   ]
  },
  {
   "cell_type": "code",
   "execution_count": 65,
   "metadata": {
    "scrolled": false
   },
   "outputs": [
    {
     "data": {
      "text/plain": [
       "array([3416., 3131., 3214., ..., 1617., 2551., 2722.], dtype=float32)"
      ]
     },
     "execution_count": 65,
     "metadata": {},
     "output_type": "execute_result"
    }
   ],
   "source": []
  },
  {
   "cell_type": "code",
   "execution_count": 66,
   "metadata": {},
   "outputs": [
    {
     "name": "stderr",
     "output_type": "stream",
     "text": [
      "Trying to set attribute `.obs` of view, copying.\n"
     ]
    }
   ],
   "source": [
    "# Third filter\n",
    "# spots wit \n",
    "sc.pp.calculate_qc_metrics(adata, inplace=True)\n",
    "\n",
    "adata = adata[(adata.obs['n_genes_by_counts'].values > 300) & \n",
    "              (adata.obs['total_counts'].values > 500), :] "
   ]
  },
  {
   "cell_type": "code",
   "execution_count": 69,
   "metadata": {},
   "outputs": [
    {
     "data": {
      "text/plain": [
       "(2043, 13141)"
      ]
     },
     "execution_count": 69,
     "metadata": {},
     "output_type": "execute_result"
    }
   ],
   "source": [
    "adata.shape"
   ]
  },
  {
   "cell_type": "code",
   "execution_count": 70,
   "metadata": {},
   "outputs": [
    {
     "data": {
      "text/plain": [
       "'Visium_1_CK279'"
      ]
     },
     "execution_count": 70,
     "metadata": {},
     "output_type": "execute_result"
    }
   ],
   "source": [
    "s"
   ]
  },
  {
   "cell_type": "code",
   "execution_count": null,
   "metadata": {},
   "outputs": [],
   "source": []
  }
 ],
 "metadata": {
  "kernelspec": {
   "display_name": "Python 3",
   "language": "python",
   "name": "python3"
  },
  "language_info": {
   "codemirror_mode": {
    "name": "ipython",
    "version": 3
   },
   "file_extension": ".py",
   "mimetype": "text/x-python",
   "name": "python",
   "nbconvert_exporter": "python",
   "pygments_lexer": "ipython3",
   "version": "3.7.9"
  }
 },
 "nbformat": 4,
 "nbformat_minor": 4
}
