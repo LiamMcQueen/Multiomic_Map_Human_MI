{
 "cells": [
  {
   "cell_type": "code",
   "execution_count": 2,
   "metadata": {},
   "outputs": [],
   "source": [
    "import sys\n",
    "import scanpy as sc\n",
    "import anndata\n",
    "import pandas as pd\n",
    "import numpy as np\n",
    "import os\n",
    "import gc\n",
    "\n",
    "data_type = 'float32'\n",
    "os.environ[\"THEANO_FLAGS\"] = 'device=cuda0,floatX=' + data_type + ',force_device=True'\n",
    "\n",
    "import cell2location\n",
    "import matplotlib as mpl\n",
    "from matplotlib import rcParams\n",
    "import matplotlib.pyplot as plt\n",
    "import seaborn as sns\n",
    "\n",
    "# silence scanpy that prints a lot of warnings\n",
    "import warnings\n",
    "warnings.filterwarnings('ignore')"
   ]
  },
  {
   "cell_type": "code",
   "execution_count": 11,
   "metadata": {},
   "outputs": [],
   "source": [
    "sc_data = sc.read(\"/Users/ricardoramirez/Dropbox/PhD/Research/visium_heart/visium_results_manuscript/ct_data/cardio_snRNA.h5ad\")"
   ]
  },
  {
   "cell_type": "code",
   "execution_count": 1,
   "metadata": {},
   "outputs": [
    {
     "ename": "NameError",
     "evalue": "name 'sc' is not defined",
     "output_type": "error",
     "traceback": [
      "\u001b[0;31m---------------------------------------------------------------------------\u001b[0m",
      "\u001b[0;31mNameError\u001b[0m                                 Traceback (most recent call last)",
      "\u001b[0;32m<ipython-input-1-c104641ae98c>\u001b[0m in \u001b[0;36m<module>\u001b[0;34m\u001b[0m\n\u001b[1;32m      1\u001b[0m \u001b[0;31m# remove cells and genes with 0 counts everywhere\u001b[0m\u001b[0;34m\u001b[0m\u001b[0;34m\u001b[0m\u001b[0;34m\u001b[0m\u001b[0m\n\u001b[0;32m----> 2\u001b[0;31m \u001b[0msc\u001b[0m\u001b[0;34m.\u001b[0m\u001b[0mpp\u001b[0m\u001b[0;34m.\u001b[0m\u001b[0mfilter_cells\u001b[0m\u001b[0;34m(\u001b[0m\u001b[0msc_data\u001b[0m\u001b[0;34m,\u001b[0m \u001b[0mmin_genes\u001b[0m\u001b[0;34m=\u001b[0m\u001b[0;36m1\u001b[0m\u001b[0;34m)\u001b[0m\u001b[0;34m\u001b[0m\u001b[0;34m\u001b[0m\u001b[0m\n\u001b[0m\u001b[1;32m      3\u001b[0m \u001b[0msc\u001b[0m\u001b[0;34m.\u001b[0m\u001b[0mpp\u001b[0m\u001b[0;34m.\u001b[0m\u001b[0mfilter_genes\u001b[0m\u001b[0;34m(\u001b[0m\u001b[0msc_data\u001b[0m\u001b[0;34m,\u001b[0m \u001b[0mmin_cells\u001b[0m\u001b[0;34m=\u001b[0m\u001b[0;36m1\u001b[0m\u001b[0;34m)\u001b[0m\u001b[0;34m\u001b[0m\u001b[0;34m\u001b[0m\u001b[0m\n",
      "\u001b[0;31mNameError\u001b[0m: name 'sc' is not defined"
     ]
    }
   ],
   "source": [
    "# remove cells and genes with 0 counts everywhere\n",
    "sc.pp.filter_cells(sc_data, min_genes=1)\n",
    "sc.pp.filter_genes(sc_data, min_cells=1)\n",
    "\n",
    "# calculate the mean of each gene across non-zero cells\n",
    "sc_data.var['n_cells'] = (sc_data.X.toarray() > 0).sum(0)\n",
    "sc_data.var['nonz_mean'] = sc_data.X.toarray().sum(0) / sc_data.var['n_cells']\n",
    "sc_data.var['SYMBOL'] = sc_data.var.index.tolist()\n",
    "\n",
    "nonz_mean_cutoff = 0.05\n",
    "cell_count_cutoff = np.log10(sc_data.shape[0] * 0.0005)\n",
    "cell_count_cutoff2 = np.log10(sc_data.shape[0] * 0.03)\n",
    "\n",
    "sc_data[:,(np.array(np.log10(sc_data.var['nonz_mean']) > nonz_mean_cutoff)\n",
    "         | np.array(np.log10(sc_data.var['n_cells']) > cell_count_cutoff2))\n",
    "      & np.array(np.log10(sc_data.var['n_cells']) > cell_count_cutoff)].shape\n",
    "\n",
    "# select genes based on mean expression in non-zero cells\n",
    "sc_data = sc_data[:,(np.array(np.log10(sc_data.var['nonz_mean']) > nonz_mean_cutoff)\n",
    "         | np.array(np.log10(sc_data.var['n_cells']) > cell_count_cutoff2))\n",
    "      & np.array(np.log10(sc_data.var['n_cells']) > cell_count_cutoff)]\n",
    "\n",
    "sc_data.raw = sc_data"
   ]
  },
  {
   "cell_type": "code",
   "execution_count": null,
   "metadata": {},
   "outputs": [],
   "source": [
    "from cell2location import run_regression\n",
    "\n",
    "r, adata_sc_data = run_regression(sc_data, # input data object]\n",
    "\n",
    "                   verbose=True, return_all=True,\n",
    "\n",
    "                   train_args={\n",
    "                    'covariate_col_names': ['deconv_col'], # column listing cell type annotation\n",
    "                    'sample_name_col': 'orig_ident', # column listing sample ID for each cell\n",
    "                    'tech_name_col': None,\n",
    "                    'stratify_cv': 'deconv_col', # stratify cross-validation by cell type annotation\n",
    "                    'n_epochs': 100, \n",
    "                    'minibatch_size': 1024,\n",
    "                    'learning_rate': 0.01,\n",
    "                    'use_cuda': True, # use GPU?\n",
    "                    'train_proportion': 0.9, # proportion of cells in the training set (for cross-validation)\n",
    "                    'l2_weight': True,  # uses defaults for the model\n",
    "\n",
    "                    'readable_var_name_col': 'SYMBOL', 'use_raw': True},\n",
    "\n",
    "                   model_kwargs={}, # keep defaults\n",
    "                   posterior_args={}, # keep defaults\n",
    "\n",
    "                   export_args={'path': \"/net/data.isilon/ag-saez/bq_rramirez/visiumMI_revisions/results/deconvolution/c2l/rmodel/\", # where to save results\n",
    "                                'save_model': True, # save pytorch model?\n",
    "                                'run_name_suffix': ''})\n",
    "\n",
    "reg_mod = r['mod']"
   ]
  },
  {
   "cell_type": "code",
   "execution_count": null,
   "metadata": {},
   "outputs": [],
   "source": []
  }
 ],
 "metadata": {
  "kernelspec": {
   "display_name": "Python 3",
   "language": "python",
   "name": "python3"
  },
  "language_info": {
   "codemirror_mode": {
    "name": "ipython",
    "version": 3
   },
   "file_extension": ".py",
   "mimetype": "text/x-python",
   "name": "python",
   "nbconvert_exporter": "python",
   "pygments_lexer": "ipython3",
   "version": "3.7.9"
  }
 },
 "nbformat": 4,
 "nbformat_minor": 4
}
