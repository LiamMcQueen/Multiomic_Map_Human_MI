{
 "cells": [
  {
   "cell_type": "code",
   "execution_count": 16,
   "metadata": {},
   "outputs": [],
   "source": [
    "import numpy as np\n",
    "import pandas as pd\n",
    "import scanpy as sc\n",
    "import os\n",
    "import os.path"
   ]
  },
  {
   "cell_type": "code",
   "execution_count": 18,
   "metadata": {},
   "outputs": [],
   "source": [
    "meta_folder = \"/net/data.isilon/ag-saez/bq_shared/scellMI/processed_RNA/meta_data/\"\n",
    "meta_onlyfiles = [f for f in os.listdir(meta_folder) if os.path.isfile(os.path.join(meta_folder, f))]"
   ]
  },
  {
   "cell_type": "code",
   "execution_count": 55,
   "metadata": {},
   "outputs": [],
   "source": [
    "raw_folder = \"/net/data.isilon/ag-saez/bq_shared/scellMI/raw_RNA/\"\n",
    "raw_onlyfiles = [f for f in os.listdir(raw_folder)]"
   ]
  },
  {
   "cell_type": "code",
   "execution_count": 27,
   "metadata": {},
   "outputs": [],
   "source": [
    "meta_index = [f.split(r\".\")[0] for f in meta_onlyfiles]\n",
    "raw_index = [f.split(r\".\")[0] for f in raw_onlyfiles]"
   ]
  },
  {
   "cell_type": "code",
   "execution_count": null,
   "metadata": {},
   "outputs": [],
   "source": [
    "out_folder = \"/net/data.isilon/ag-saez/bq_shared/scellMI/processed_RNA/pymirrors/\""
   ]
  },
  {
   "cell_type": "code",
   "execution_count": 39,
   "metadata": {},
   "outputs": [],
   "source": [
    "raw_df = pd.DataFrame({'data_file': [raw_folder + f + \"/filtered_feature_bc_matrix/\" for f in raw_onlyfiles]}, \n",
    "                  index = raw_index)"
   ]
  },
  {
   "cell_type": "code",
   "execution_count": 50,
   "metadata": {},
   "outputs": [],
   "source": [
    "path_df = pd.DataFrame({'meta_file': [meta_folder + f for f in meta_onlyfiles]}, \n",
    "                  index = meta_index)"
   ]
  },
  {
   "cell_type": "code",
   "execution_count": 40,
   "metadata": {},
   "outputs": [],
   "source": [
    "path_df[\"out_file\"] = [out_folder + f + r\".h5ad\" for f in path_df.index.values]\n",
    "path_df[\"data_file\"] = raw_df.loc[path_df.index.values, \"data_file\"]\n"
   ]
  },
  {
   "cell_type": "code",
   "execution_count": 49,
   "metadata": {},
   "outputs": [
    {
     "data": {
      "text/html": [
       "<div>\n",
       "<style scoped>\n",
       "    .dataframe tbody tr th:only-of-type {\n",
       "        vertical-align: middle;\n",
       "    }\n",
       "\n",
       "    .dataframe tbody tr th {\n",
       "        vertical-align: top;\n",
       "    }\n",
       "\n",
       "    .dataframe thead th {\n",
       "        text-align: right;\n",
       "    }\n",
       "</style>\n",
       "<table border=\"1\" class=\"dataframe\">\n",
       "  <thead>\n",
       "    <tr style=\"text-align: right;\">\n",
       "      <th></th>\n",
       "      <th>meta_file</th>\n",
       "      <th>data_file</th>\n",
       "    </tr>\n",
       "  </thead>\n",
       "  <tbody>\n",
       "    <tr>\n",
       "      <th>CK164</th>\n",
       "      <td>/Users/ricardoramirez/Dropbox/PhD/Research/vis...</td>\n",
       "      <td>/Users/ricardoramirez/Dropbox/PhD/Research/vis...</td>\n",
       "    </tr>\n",
       "    <tr>\n",
       "      <th>CK165</th>\n",
       "      <td>/Users/ricardoramirez/Dropbox/PhD/Research/vis...</td>\n",
       "      <td>/Users/ricardoramirez/Dropbox/PhD/Research/vis...</td>\n",
       "    </tr>\n",
       "    <tr>\n",
       "      <th>CK160</th>\n",
       "      <td>/Users/ricardoramirez/Dropbox/PhD/Research/vis...</td>\n",
       "      <td>/Users/ricardoramirez/Dropbox/PhD/Research/vis...</td>\n",
       "    </tr>\n",
       "    <tr>\n",
       "      <th>CK163</th>\n",
       "      <td>/Users/ricardoramirez/Dropbox/PhD/Research/vis...</td>\n",
       "      <td>/Users/ricardoramirez/Dropbox/PhD/Research/vis...</td>\n",
       "    </tr>\n",
       "    <tr>\n",
       "      <th>CK159</th>\n",
       "      <td>/Users/ricardoramirez/Dropbox/PhD/Research/vis...</td>\n",
       "      <td>/Users/ricardoramirez/Dropbox/PhD/Research/vis...</td>\n",
       "    </tr>\n",
       "    <tr>\n",
       "      <th>CK158</th>\n",
       "      <td>/Users/ricardoramirez/Dropbox/PhD/Research/vis...</td>\n",
       "      <td>/Users/ricardoramirez/Dropbox/PhD/Research/vis...</td>\n",
       "    </tr>\n",
       "    <tr>\n",
       "      <th>CK162</th>\n",
       "      <td>/Users/ricardoramirez/Dropbox/PhD/Research/vis...</td>\n",
       "      <td>/Users/ricardoramirez/Dropbox/PhD/Research/vis...</td>\n",
       "    </tr>\n",
       "  </tbody>\n",
       "</table>\n",
       "</div>"
      ],
      "text/plain": [
       "                                               meta_file  \\\n",
       "CK164  /Users/ricardoramirez/Dropbox/PhD/Research/vis...   \n",
       "CK165  /Users/ricardoramirez/Dropbox/PhD/Research/vis...   \n",
       "CK160  /Users/ricardoramirez/Dropbox/PhD/Research/vis...   \n",
       "CK163  /Users/ricardoramirez/Dropbox/PhD/Research/vis...   \n",
       "CK159  /Users/ricardoramirez/Dropbox/PhD/Research/vis...   \n",
       "CK158  /Users/ricardoramirez/Dropbox/PhD/Research/vis...   \n",
       "CK162  /Users/ricardoramirez/Dropbox/PhD/Research/vis...   \n",
       "\n",
       "                                               data_file  \n",
       "CK164  /Users/ricardoramirez/Dropbox/PhD/Research/vis...  \n",
       "CK165  /Users/ricardoramirez/Dropbox/PhD/Research/vis...  \n",
       "CK160  /Users/ricardoramirez/Dropbox/PhD/Research/vis...  \n",
       "CK163  /Users/ricardoramirez/Dropbox/PhD/Research/vis...  \n",
       "CK159  /Users/ricardoramirez/Dropbox/PhD/Research/vis...  \n",
       "CK158  /Users/ricardoramirez/Dropbox/PhD/Research/vis...  \n",
       "CK162  /Users/ricardoramirez/Dropbox/PhD/Research/vis...  "
      ]
     },
     "execution_count": 49,
     "metadata": {},
     "output_type": "execute_result"
    }
   ],
   "source": [
    "def generate_mirror(row):\n",
    "    mfile = row[0]\n",
    "    ofile = row[1]\n",
    "    dfile = row[2]\n",
    "    adata = sc.read_10x_mtx(dfile,  # the directory with the `.mtx` file\n",
    "                            var_names = 'gene_symbols', # use gene symbols for the variable names (variables-axis index)\n",
    "                            cache = False)\n",
    "    mdata = pd.read_table(mfile)\n",
    "    mdata[\"id\"] = [i.split(\"-\")[0] for i in mdata[\"id\"]]\n",
    "    adata.var_names_make_unique()\n",
    "    \n",
    "    # Just adjust the labels -----------------------------------------\n",
    "    adata.obs[\"raw_cell_id\"] = adata.obs.index.values\n",
    "    adata.obs[\"id\"] = [i.split(\"-\")[0] for i in adata.obs.index.values]\n",
    "    # Merge cell annotations -----------------------------------------\n",
    "    cell_anns = pd.merge(adata.obs, mdata, on='id', how='left')\n",
    "    adata.obs[\"cell_type\"] = pd.Series.tolist(cell_anns[\"cell_type\"])\n",
    "    adata.obs[\"major_cell_type\"] = pd.Series.tolist(cell_anns[\"major_cell_type\"])\n",
    "    print(adata.shape)\n",
    "    adata = adata[[not x for x in pd.isna(adata.obs.cell_type)], :]\n",
    "    print(adata.shape)\n",
    "    adata.write(ofile)\n",
    "    return(adata.shape)\n"
   ]
  },
  {
   "cell_type": "code",
   "execution_count": 6,
   "metadata": {},
   "outputs": [],
   "source": [
    "out = path_df.apply(generate_mirror, axis=1, result_type = 'expand')"
   ]
  }
 ],
 "metadata": {
  "kernelspec": {
   "display_name": "Python 3",
   "language": "python",
   "name": "python3"
  },
  "language_info": {
   "codemirror_mode": {
    "name": "ipython",
    "version": 3
   },
   "file_extension": ".py",
   "mimetype": "text/x-python",
   "name": "python",
   "nbconvert_exporter": "python",
   "pygments_lexer": "ipython3",
   "version": "3.7.9"
  }
 },
 "nbformat": 4,
 "nbformat_minor": 4
}
